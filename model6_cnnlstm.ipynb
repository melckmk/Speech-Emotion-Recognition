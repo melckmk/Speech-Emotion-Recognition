{
 "cells": [
  {
   "cell_type": "code",
   "execution_count": 2,
   "metadata": {},
   "outputs": [],
   "source": [
    "import pandas as pd\n",
    "import numpy as np\n",
    "import tensorflow as tf\n",
    "import os\n",
    "os.environ['TF_FORCE_GPU_ALLOW_GROWTH'] = 'true'\n",
    "os.environ['TF_GPU_ALLOCATOR'] = 'cuda_malloc_async'\n",
    "\n",
    "from keras.models import Sequential\n",
    "from keras.layers import Dense, Conv1D, MaxPooling1D, Flatten, Dropout, LSTM, BatchNormalization\n",
    "from keras.callbacks import ModelCheckpoint, EarlyStopping\n",
    "from keras.utils.vis_utils import plot_model\n",
    "\n",
    "import matplotlib.pyplot as plt\n",
    "import seaborn as sns\n",
    "\n",
    "from sklearn.preprocessing import OneHotEncoder\n",
    "from sklearn.metrics import confusion_matrix, classification_report"
   ]
  },
  {
   "cell_type": "code",
   "execution_count": 3,
   "metadata": {},
   "outputs": [],
   "source": [
    "X_train = np.load(\"../SpeechER/data_split/X_train.npy\")\n",
    "X_test = np.load(\"../SpeechER/data_split/X_test.npy\")\n",
    "y_train = np.load(\"../SpeechER/data_split/y_train.npy\")\n",
    "y_test = np.load(\"../SpeechER/data_split/y_test.npy\")"
   ]
  },
  {
   "cell_type": "code",
   "execution_count": 5,
   "metadata": {},
   "outputs": [
    {
     "name": "stdout",
     "output_type": "stream",
     "text": [
      "Model: \"sequential_1\"\n",
      "_________________________________________________________________\n",
      " Layer (type)                Output Shape              Param #   \n",
      "=================================================================\n",
      " conv1d_2 (Conv1D)           (None, 162, 256)          1536      \n",
      "                                                                 \n",
      " max_pooling1d_2 (MaxPooling  (None, 33, 256)          0         \n",
      " 1D)                                                             \n",
      "                                                                 \n",
      " batch_normalization_1 (Batc  (None, 33, 256)          1024      \n",
      " hNormalization)                                                 \n",
      "                                                                 \n",
      " conv1d_3 (Conv1D)           (None, 33, 128)           163968    \n",
      "                                                                 \n",
      " max_pooling1d_3 (MaxPooling  (None, 7, 128)           0         \n",
      " 1D)                                                             \n",
      "                                                                 \n",
      " dropout_3 (Dropout)         (None, 7, 128)            0         \n",
      "                                                                 \n",
      " lstm_3 (LSTM)               (None, 7, 128)            131584    \n",
      "                                                                 \n",
      " lstm_4 (LSTM)               (None, 7, 64)             49408     \n",
      "                                                                 \n",
      " dropout_4 (Dropout)         (None, 7, 64)             0         \n",
      "                                                                 \n",
      " lstm_5 (LSTM)               (None, 64)                33024     \n",
      "                                                                 \n",
      " dropout_5 (Dropout)         (None, 64)                0         \n",
      "                                                                 \n",
      " dense_3 (Dense)             (None, 64)                4160      \n",
      "                                                                 \n",
      " dense_4 (Dense)             (None, 32)                2080      \n",
      "                                                                 \n",
      " dense_5 (Dense)             (None, 8)                 264       \n",
      "                                                                 \n",
      "=================================================================\n",
      "Total params: 387,048\n",
      "Trainable params: 386,536\n",
      "Non-trainable params: 512\n",
      "_________________________________________________________________\n"
     ]
    }
   ],
   "source": [
    "model = Sequential()\n",
    "model.add(Conv1D(filters=256, kernel_size=5, activation=\"relu\", padding=\"same\", input_shape=(X_train.shape[1],1)))\n",
    "model.add(MaxPooling1D(pool_size=5, padding=\"same\"))\n",
    "model.add(BatchNormalization())\n",
    "model.add(Conv1D(filters=128, kernel_size=5, activation=\"relu\", padding=\"same\"))\n",
    "model.add(MaxPooling1D(pool_size=5, padding=\"same\"))\n",
    "model.add(Dropout(0.3))\n",
    "model.add(LSTM(128, return_sequences=True))\n",
    "model.add(LSTM(64, return_sequences=True))\n",
    "model.add(Dropout(0.5))\n",
    "model.add(LSTM(64))\n",
    "model.add(Dropout(0.5))\n",
    "model.add(Dense(64, activation='relu'))\n",
    "model.add(Dense(32, activation='relu'))\n",
    "model.add(Dense(units=8, activation=\"softmax\"))\n",
    "model.compile(optimizer = 'adam' , loss = 'categorical_crossentropy' , metrics = ['accuracy'])\n",
    "\n",
    "model.summary()\n",
    "model.save(\"../SpeechER/models/model6.h5\")"
   ]
  },
  {
   "cell_type": "code",
   "execution_count": 6,
   "metadata": {},
   "outputs": [
    {
     "data": {
      "image/png": "[encoded data removed]",
      "text/plain": [
       "<IPython.core.display.Image object>"
      ]
     },
     "execution_count": 6,
     "metadata": {},
     "output_type": "execute_result"
    }
   ],
   "source": [
    "plot_model(model, \"../SpeechER/figs/m6arc.png\", show_layer_names=False, show_layer_activations=True)"
   ]
  },
  {
   "cell_type": "code",
   "execution_count": 21,
   "metadata": {},
   "outputs": [],
   "source": [
    "model.compile(loss='categorical_crossentropy', optimizer='adam', metrics=['accuracy'])\n",
    "checkpoint = ModelCheckpoint(\"../SpeechER/checkpoints/model6_best\", save_best_only=True)\n",
    "stop_early = EarlyStopping(monitor='val_loss', patience=20)"
   ]
  },
  {
   "cell_type": "code",
   "execution_count": 22,
   "metadata": {},
   "outputs": [
    {
     "name": "stdout",
     "output_type": "stream",
     "text": [
      "Epoch 1/100\n",
      "850/856 [============================>.] - ETA: 0s - loss: 1.7204 - accuracy: 0.2916"
     ]
    },
    {
     "name": "stderr",
     "output_type": "stream",
     "text": [
      "WARNING:absl:Found untraced functions such as _jit_compiled_convolution_op, _jit_compiled_convolution_op, lstm_cell_9_layer_call_fn, lstm_cell_9_layer_call_and_return_conditional_losses, lstm_cell_10_layer_call_fn while saving (showing 5 of 8). These functions will not be directly callable after loading.\n"
     ]
    },
    {
     "name": "stdout",
     "output_type": "stream",
     "text": [
      "INFO:tensorflow:Assets written to: ../SpeechER/checkpoints/model6_best/assets\n"
     ]
    },
    {
     "name": "stderr",
     "output_type": "stream",
     "text": [
      "INFO:tensorflow:Assets written to: ../SpeechER/checkpoints/model6_best/assets\n"
     ]
    },
    {
     "name": "stdout",
     "output_type": "stream",
     "text": [
      "856/856 [==============================] - 16s 15ms/step - loss: 1.7200 - accuracy: 0.2919 - val_loss: 1.8321 - val_accuracy: 0.2609\n",
      "Epoch 2/100\n",
      "849/856 [============================>.] - ETA: 0s - loss: 1.5838 - accuracy: 0.3513"
     ]
    },
    {
     "name": "stderr",
     "output_type": "stream",
     "text": [
      "WARNING:absl:Found untraced functions such as _jit_compiled_convolution_op, _jit_compiled_convolution_op, lstm_cell_9_layer_call_fn, lstm_cell_9_layer_call_and_return_conditional_losses, lstm_cell_10_layer_call_fn while saving (showing 5 of 8). These functions will not be directly callable after loading.\n"
     ]
    },
    {
     "name": "stdout",
     "output_type": "stream",
     "text": [
      "INFO:tensorflow:Assets written to: ../SpeechER/checkpoints/model6_best/assets\n"
     ]
    },
    {
     "name": "stderr",
     "output_type": "stream",
     "text": [
      "INFO:tensorflow:Assets written to: ../SpeechER/checkpoints/model6_best/assets\n"
     ]
    },
    {
     "name": "stdout",
     "output_type": "stream",
     "text": [
      "856/856 [==============================] - 12s 14ms/step - loss: 1.5841 - accuracy: 0.3508 - val_loss: 1.5016 - val_accuracy: 0.3953\n",
      "Epoch 3/100\n",
      "854/856 [============================>.] - ETA: 0s - loss: 1.5071 - accuracy: 0.3886"
     ]
    },
    {
     "name": "stderr",
     "output_type": "stream",
     "text": [
      "WARNING:absl:Found untraced functions such as _jit_compiled_convolution_op, _jit_compiled_convolution_op, lstm_cell_9_layer_call_fn, lstm_cell_9_layer_call_and_return_conditional_losses, lstm_cell_10_layer_call_fn while saving (showing 5 of 8). These functions will not be directly callable after loading.\n"
     ]
    },
    {
     "name": "stdout",
     "output_type": "stream",
     "text": [
      "INFO:tensorflow:Assets written to: ../SpeechER/checkpoints/model6_best/assets\n"
     ]
    },
    {
     "name": "stderr",
     "output_type": "stream",
     "text": [
      "INFO:tensorflow:Assets written to: ../SpeechER/checkpoints/model6_best/assets\n"
     ]
    },
    {
     "name": "stdout",
     "output_type": "stream",
     "text": [
      "856/856 [==============================] - 12s 14ms/step - loss: 1.5067 - accuracy: 0.3889 - val_loss: 1.4594 - val_accuracy: 0.4145\n",
      "Epoch 4/100\n",
      "856/856 [==============================] - ETA: 0s - loss: 1.4574 - accuracy: 0.4197"
     ]
    },
    {
     "name": "stderr",
     "output_type": "stream",
     "text": [
      "WARNING:absl:Found untraced functions such as _jit_compiled_convolution_op, _jit_compiled_convolution_op, lstm_cell_9_layer_call_fn, lstm_cell_9_layer_call_and_return_conditional_losses, lstm_cell_10_layer_call_fn while saving (showing 5 of 8). These functions will not be directly callable after loading.\n"
     ]
    },
    {
     "name": "stdout",
     "output_type": "stream",
     "text": [
      "INFO:tensorflow:Assets written to: ../SpeechER/checkpoints/model6_best/assets\n"
     ]
    },
    {
     "name": "stderr",
     "output_type": "stream",
     "text": [
      "INFO:tensorflow:Assets written to: ../SpeechER/checkpoints/model6_best/assets\n"
     ]
    },
    {
     "name": "stdout",
     "output_type": "stream",
     "text": [
      "856/856 [==============================] - 12s 14ms/step - loss: 1.4574 - accuracy: 0.4197 - val_loss: 1.3898 - val_accuracy: 0.4461\n",
      "Epoch 5/100\n",
      "852/856 [============================>.] - ETA: 0s - loss: 1.4164 - accuracy: 0.4299"
     ]
    },
    {
     "name": "stderr",
     "output_type": "stream",
     "text": [
      "WARNING:absl:Found untraced functions such as _jit_compiled_convolution_op, _jit_compiled_convolution_op, lstm_cell_9_layer_call_fn, lstm_cell_9_layer_call_and_return_conditional_losses, lstm_cell_10_layer_call_fn while saving (showing 5 of 8). These functions will not be directly callable after loading.\n"
     ]
    },
    {
     "name": "stdout",
     "output_type": "stream",
     "text": [
      "INFO:tensorflow:Assets written to: ../SpeechER/checkpoints/model6_best/assets\n"
     ]
    },
    {
     "name": "stderr",
     "output_type": "stream",
     "text": [
      "INFO:tensorflow:Assets written to: ../SpeechER/checkpoints/model6_best/assets\n"
     ]
    },
    {
     "name": "stdout",
     "output_type": "stream",
     "text": [
      "856/856 [==============================] - 12s 14ms/step - loss: 1.4168 - accuracy: 0.4298 - val_loss: 1.3827 - val_accuracy: 0.4580\n",
      "Epoch 6/100\n",
      "849/856 [============================>.] - ETA: 0s - loss: 1.3843 - accuracy: 0.4465"
     ]
    },
    {
     "name": "stderr",
     "output_type": "stream",
     "text": [
      "WARNING:absl:Found untraced functions such as _jit_compiled_convolution_op, _jit_compiled_convolution_op, lstm_cell_9_layer_call_fn, lstm_cell_9_layer_call_and_return_conditional_losses, lstm_cell_10_layer_call_fn while saving (showing 5 of 8). These functions will not be directly callable after loading.\n"
     ]
    },
    {
     "name": "stdout",
     "output_type": "stream",
     "text": [
      "INFO:tensorflow:Assets written to: ../SpeechER/checkpoints/model6_best/assets\n"
     ]
    },
    {
     "name": "stderr",
     "output_type": "stream",
     "text": [
      "INFO:tensorflow:Assets written to: ../SpeechER/checkpoints/model6_best/assets\n"
     ]
    },
    {
     "name": "stdout",
     "output_type": "stream",
     "text": [
      "856/856 [==============================] - 12s 14ms/step - loss: 1.3840 - accuracy: 0.4467 - val_loss: 1.3197 - val_accuracy: 0.4798\n",
      "Epoch 7/100\n",
      "852/856 [============================>.] - ETA: 0s - loss: 1.3561 - accuracy: 0.4581"
     ]
    },
    {
     "name": "stderr",
     "output_type": "stream",
     "text": [
      "WARNING:absl:Found untraced functions such as _jit_compiled_convolution_op, _jit_compiled_convolution_op, lstm_cell_9_layer_call_fn, lstm_cell_9_layer_call_and_return_conditional_losses, lstm_cell_10_layer_call_fn while saving (showing 5 of 8). These functions will not be directly callable after loading.\n"
     ]
    },
    {
     "name": "stdout",
     "output_type": "stream",
     "text": [
      "INFO:tensorflow:Assets written to: ../SpeechER/checkpoints/model6_best/assets\n"
     ]
    },
    {
     "name": "stderr",
     "output_type": "stream",
     "text": [
      "INFO:tensorflow:Assets written to: ../SpeechER/checkpoints/model6_best/assets\n"
     ]
    },
    {
     "name": "stdout",
     "output_type": "stream",
     "text": [
      "856/856 [==============================] - 12s 14ms/step - loss: 1.3555 - accuracy: 0.4584 - val_loss: 1.2917 - val_accuracy: 0.4804\n",
      "Epoch 8/100\n",
      "856/856 [==============================] - ETA: 0s - loss: 1.3380 - accuracy: 0.4658"
     ]
    },
    {
     "name": "stderr",
     "output_type": "stream",
     "text": [
      "WARNING:absl:Found untraced functions such as _jit_compiled_convolution_op, _jit_compiled_convolution_op, lstm_cell_9_layer_call_fn, lstm_cell_9_layer_call_and_return_conditional_losses, lstm_cell_10_layer_call_fn while saving (showing 5 of 8). These functions will not be directly callable after loading.\n"
     ]
    },
    {
     "name": "stdout",
     "output_type": "stream",
     "text": [
      "INFO:tensorflow:Assets written to: ../SpeechER/checkpoints/model6_best/assets\n"
     ]
    },
    {
     "name": "stderr",
     "output_type": "stream",
     "text": [
      "INFO:tensorflow:Assets written to: ../SpeechER/checkpoints/model6_best/assets\n"
     ]
    },
    {
     "name": "stdout",
     "output_type": "stream",
     "text": [
      "856/856 [==============================] - 12s 14ms/step - loss: 1.3380 - accuracy: 0.4658 - val_loss: 1.2732 - val_accuracy: 0.4947\n",
      "Epoch 9/100\n",
      "853/856 [============================>.] - ETA: 0s - loss: 1.3149 - accuracy: 0.4763"
     ]
    },
    {
     "name": "stderr",
     "output_type": "stream",
     "text": [
      "WARNING:absl:Found untraced functions such as _jit_compiled_convolution_op, _jit_compiled_convolution_op, lstm_cell_9_layer_call_fn, lstm_cell_9_layer_call_and_return_conditional_losses, lstm_cell_10_layer_call_fn while saving (showing 5 of 8). These functions will not be directly callable after loading.\n"
     ]
    },
    {
     "name": "stdout",
     "output_type": "stream",
     "text": [
      "INFO:tensorflow:Assets written to: ../SpeechER/checkpoints/model6_best/assets\n"
     ]
    },
    {
     "name": "stderr",
     "output_type": "stream",
     "text": [
      "INFO:tensorflow:Assets written to: ../SpeechER/checkpoints/model6_best/assets\n"
     ]
    },
    {
     "name": "stdout",
     "output_type": "stream",
     "text": [
      "856/856 [==============================] - 12s 14ms/step - loss: 1.3148 - accuracy: 0.4762 - val_loss: 1.2525 - val_accuracy: 0.4976\n",
      "Epoch 10/100\n",
      "855/856 [============================>.] - ETA: 0s - loss: 1.2968 - accuracy: 0.4849"
     ]
    },
    {
     "name": "stderr",
     "output_type": "stream",
     "text": [
      "WARNING:absl:Found untraced functions such as _jit_compiled_convolution_op, _jit_compiled_convolution_op, lstm_cell_9_layer_call_fn, lstm_cell_9_layer_call_and_return_conditional_losses, lstm_cell_10_layer_call_fn while saving (showing 5 of 8). These functions will not be directly callable after loading.\n"
     ]
    },
    {
     "name": "stdout",
     "output_type": "stream",
     "text": [
      "INFO:tensorflow:Assets written to: ../SpeechER/checkpoints/model6_best/assets\n"
     ]
    },
    {
     "name": "stderr",
     "output_type": "stream",
     "text": [
      "INFO:tensorflow:Assets written to: ../SpeechER/checkpoints/model6_best/assets\n"
     ]
    },
    {
     "name": "stdout",
     "output_type": "stream",
     "text": [
      "856/856 [==============================] - 12s 14ms/step - loss: 1.2968 - accuracy: 0.4848 - val_loss: 1.2489 - val_accuracy: 0.4988\n",
      "Epoch 11/100\n",
      "856/856 [==============================] - 6s 7ms/step - loss: 1.2934 - accuracy: 0.4847 - val_loss: 1.2503 - val_accuracy: 0.4999\n",
      "Epoch 12/100\n",
      "856/856 [==============================] - ETA: 0s - loss: 1.2762 - accuracy: 0.4888"
     ]
    },
    {
     "name": "stderr",
     "output_type": "stream",
     "text": [
      "WARNING:absl:Found untraced functions such as _jit_compiled_convolution_op, _jit_compiled_convolution_op, lstm_cell_9_layer_call_fn, lstm_cell_9_layer_call_and_return_conditional_losses, lstm_cell_10_layer_call_fn while saving (showing 5 of 8). These functions will not be directly callable after loading.\n"
     ]
    },
    {
     "name": "stdout",
     "output_type": "stream",
     "text": [
      "INFO:tensorflow:Assets written to: ../SpeechER/checkpoints/model6_best/assets\n"
     ]
    },
    {
     "name": "stderr",
     "output_type": "stream",
     "text": [
      "INFO:tensorflow:Assets written to: ../SpeechER/checkpoints/model6_best/assets\n"
     ]
    },
    {
     "name": "stdout",
     "output_type": "stream",
     "text": [
      "856/856 [==============================] - 12s 14ms/step - loss: 1.2762 - accuracy: 0.4888 - val_loss: 1.2347 - val_accuracy: 0.5094\n",
      "Epoch 13/100\n",
      "850/856 [============================>.] - ETA: 0s - loss: 1.2708 - accuracy: 0.4911"
     ]
    },
    {
     "name": "stderr",
     "output_type": "stream",
     "text": [
      "WARNING:absl:Found untraced functions such as _jit_compiled_convolution_op, _jit_compiled_convolution_op, lstm_cell_9_layer_call_fn, lstm_cell_9_layer_call_and_return_conditional_losses, lstm_cell_10_layer_call_fn while saving (showing 5 of 8). These functions will not be directly callable after loading.\n"
     ]
    },
    {
     "name": "stdout",
     "output_type": "stream",
     "text": [
      "INFO:tensorflow:Assets written to: ../SpeechER/checkpoints/model6_best/assets\n"
     ]
    },
    {
     "name": "stderr",
     "output_type": "stream",
     "text": [
      "INFO:tensorflow:Assets written to: ../SpeechER/checkpoints/model6_best/assets\n"
     ]
    },
    {
     "name": "stdout",
     "output_type": "stream",
     "text": [
      "856/856 [==============================] - 12s 14ms/step - loss: 1.2701 - accuracy: 0.4914 - val_loss: 1.2011 - val_accuracy: 0.5210\n",
      "Epoch 14/100\n",
      "856/856 [==============================] - 6s 7ms/step - loss: 1.2598 - accuracy: 0.5003 - val_loss: 1.2161 - val_accuracy: 0.5136\n",
      "Epoch 15/100\n",
      "856/856 [==============================] - 6s 7ms/step - loss: 1.2553 - accuracy: 0.4989 - val_loss: 1.2027 - val_accuracy: 0.5244\n",
      "Epoch 16/100\n",
      "856/856 [==============================] - 6s 7ms/step - loss: 1.2414 - accuracy: 0.5079 - val_loss: 1.2017 - val_accuracy: 0.5184\n",
      "Epoch 17/100\n",
      "856/856 [==============================] - 6s 7ms/step - loss: 1.2330 - accuracy: 0.5098 - val_loss: 1.2063 - val_accuracy: 0.5170\n",
      "Epoch 18/100\n",
      "856/856 [==============================] - 6s 7ms/step - loss: 1.2378 - accuracy: 0.5098 - val_loss: 1.2379 - val_accuracy: 0.5064\n",
      "Epoch 19/100\n",
      "853/856 [============================>.] - ETA: 0s - loss: 1.2311 - accuracy: 0.5088"
     ]
    },
    {
     "name": "stderr",
     "output_type": "stream",
     "text": [
      "WARNING:absl:Found untraced functions such as _jit_compiled_convolution_op, _jit_compiled_convolution_op, lstm_cell_9_layer_call_fn, lstm_cell_9_layer_call_and_return_conditional_losses, lstm_cell_10_layer_call_fn while saving (showing 5 of 8). These functions will not be directly callable after loading.\n"
     ]
    },
    {
     "name": "stdout",
     "output_type": "stream",
     "text": [
      "INFO:tensorflow:Assets written to: ../SpeechER/checkpoints/model6_best/assets\n"
     ]
    },
    {
     "name": "stderr",
     "output_type": "stream",
     "text": [
      "INFO:tensorflow:Assets written to: ../SpeechER/checkpoints/model6_best/assets\n"
     ]
    },
    {
     "name": "stdout",
     "output_type": "stream",
     "text": [
      "856/856 [==============================] - 12s 14ms/step - loss: 1.2312 - accuracy: 0.5088 - val_loss: 1.1785 - val_accuracy: 0.5317\n",
      "Epoch 20/100\n",
      "856/856 [==============================] - 6s 7ms/step - loss: 1.2157 - accuracy: 0.5171 - val_loss: 1.1952 - val_accuracy: 0.5213\n",
      "Epoch 21/100\n",
      "856/856 [==============================] - 6s 7ms/step - loss: 1.2081 - accuracy: 0.5207 - val_loss: 1.1866 - val_accuracy: 0.5242\n",
      "Epoch 22/100\n",
      "856/856 [==============================] - 6s 7ms/step - loss: 1.2126 - accuracy: 0.5193 - val_loss: 1.1860 - val_accuracy: 0.5267\n",
      "Epoch 23/100\n",
      "853/856 [============================>.] - ETA: 0s - loss: 1.2103 - accuracy: 0.5204"
     ]
    },
    {
     "name": "stderr",
     "output_type": "stream",
     "text": [
      "WARNING:absl:Found untraced functions such as _jit_compiled_convolution_op, _jit_compiled_convolution_op, lstm_cell_9_layer_call_fn, lstm_cell_9_layer_call_and_return_conditional_losses, lstm_cell_10_layer_call_fn while saving (showing 5 of 8). These functions will not be directly callable after loading.\n"
     ]
    },
    {
     "name": "stdout",
     "output_type": "stream",
     "text": [
      "INFO:tensorflow:Assets written to: ../SpeechER/checkpoints/model6_best/assets\n"
     ]
    },
    {
     "name": "stderr",
     "output_type": "stream",
     "text": [
      "INFO:tensorflow:Assets written to: ../SpeechER/checkpoints/model6_best/assets\n"
     ]
    },
    {
     "name": "stdout",
     "output_type": "stream",
     "text": [
      "856/856 [==============================] - 12s 14ms/step - loss: 1.2098 - accuracy: 0.5206 - val_loss: 1.1560 - val_accuracy: 0.5432\n",
      "Epoch 24/100\n",
      "856/856 [==============================] - 6s 7ms/step - loss: 1.2024 - accuracy: 0.5220 - val_loss: 1.1627 - val_accuracy: 0.5354\n",
      "Epoch 25/100\n",
      "856/856 [==============================] - 6s 7ms/step - loss: 1.1968 - accuracy: 0.5255 - val_loss: 1.1696 - val_accuracy: 0.5337\n",
      "Epoch 26/100\n",
      "855/856 [============================>.] - ETA: 0s - loss: 1.1970 - accuracy: 0.5257"
     ]
    },
    {
     "name": "stderr",
     "output_type": "stream",
     "text": [
      "WARNING:absl:Found untraced functions such as _jit_compiled_convolution_op, _jit_compiled_convolution_op, lstm_cell_9_layer_call_fn, lstm_cell_9_layer_call_and_return_conditional_losses, lstm_cell_10_layer_call_fn while saving (showing 5 of 8). These functions will not be directly callable after loading.\n"
     ]
    },
    {
     "name": "stdout",
     "output_type": "stream",
     "text": [
      "INFO:tensorflow:Assets written to: ../SpeechER/checkpoints/model6_best/assets\n"
     ]
    },
    {
     "name": "stderr",
     "output_type": "stream",
     "text": [
      "INFO:tensorflow:Assets written to: ../SpeechER/checkpoints/model6_best/assets\n"
     ]
    },
    {
     "name": "stdout",
     "output_type": "stream",
     "text": [
      "856/856 [==============================] - 12s 14ms/step - loss: 1.1970 - accuracy: 0.5257 - val_loss: 1.1538 - val_accuracy: 0.5409\n",
      "Epoch 27/100\n",
      "852/856 [============================>.] - ETA: 0s - loss: 1.1910 - accuracy: 0.5286"
     ]
    },
    {
     "name": "stderr",
     "output_type": "stream",
     "text": [
      "WARNING:absl:Found untraced functions such as _jit_compiled_convolution_op, _jit_compiled_convolution_op, lstm_cell_9_layer_call_fn, lstm_cell_9_layer_call_and_return_conditional_losses, lstm_cell_10_layer_call_fn while saving (showing 5 of 8). These functions will not be directly callable after loading.\n"
     ]
    },
    {
     "name": "stdout",
     "output_type": "stream",
     "text": [
      "INFO:tensorflow:Assets written to: ../SpeechER/checkpoints/model6_best/assets\n"
     ]
    },
    {
     "name": "stderr",
     "output_type": "stream",
     "text": [
      "INFO:tensorflow:Assets written to: ../SpeechER/checkpoints/model6_best/assets\n"
     ]
    },
    {
     "name": "stdout",
     "output_type": "stream",
     "text": [
      "856/856 [==============================] - 12s 14ms/step - loss: 1.1908 - accuracy: 0.5285 - val_loss: 1.1514 - val_accuracy: 0.5366\n",
      "Epoch 28/100\n",
      "856/856 [==============================] - 6s 7ms/step - loss: 1.1854 - accuracy: 0.5300 - val_loss: 1.1613 - val_accuracy: 0.5420\n",
      "Epoch 29/100\n",
      "855/856 [============================>.] - ETA: 0s - loss: 1.1831 - accuracy: 0.5333"
     ]
    },
    {
     "name": "stderr",
     "output_type": "stream",
     "text": [
      "WARNING:absl:Found untraced functions such as _jit_compiled_convolution_op, _jit_compiled_convolution_op, lstm_cell_9_layer_call_fn, lstm_cell_9_layer_call_and_return_conditional_losses, lstm_cell_10_layer_call_fn while saving (showing 5 of 8). These functions will not be directly callable after loading.\n"
     ]
    },
    {
     "name": "stdout",
     "output_type": "stream",
     "text": [
      "INFO:tensorflow:Assets written to: ../SpeechER/checkpoints/model6_best/assets\n"
     ]
    },
    {
     "name": "stderr",
     "output_type": "stream",
     "text": [
      "INFO:tensorflow:Assets written to: ../SpeechER/checkpoints/model6_best/assets\n"
     ]
    },
    {
     "name": "stdout",
     "output_type": "stream",
     "text": [
      "856/856 [==============================] - 12s 14ms/step - loss: 1.1832 - accuracy: 0.5333 - val_loss: 1.1428 - val_accuracy: 0.5490\n",
      "Epoch 30/100\n",
      "856/856 [==============================] - 6s 7ms/step - loss: 1.1784 - accuracy: 0.5313 - val_loss: 1.1493 - val_accuracy: 0.5436\n",
      "Epoch 31/100\n",
      "856/856 [==============================] - 6s 7ms/step - loss: 1.1810 - accuracy: 0.5324 - val_loss: 1.1618 - val_accuracy: 0.5453\n",
      "Epoch 32/100\n",
      "848/856 [============================>.] - ETA: 0s - loss: 1.1729 - accuracy: 0.5371"
     ]
    },
    {
     "name": "stderr",
     "output_type": "stream",
     "text": [
      "WARNING:absl:Found untraced functions such as _jit_compiled_convolution_op, _jit_compiled_convolution_op, lstm_cell_9_layer_call_fn, lstm_cell_9_layer_call_and_return_conditional_losses, lstm_cell_10_layer_call_fn while saving (showing 5 of 8). These functions will not be directly callable after loading.\n"
     ]
    },
    {
     "name": "stdout",
     "output_type": "stream",
     "text": [
      "INFO:tensorflow:Assets written to: ../SpeechER/checkpoints/model6_best/assets\n"
     ]
    },
    {
     "name": "stderr",
     "output_type": "stream",
     "text": [
      "INFO:tensorflow:Assets written to: ../SpeechER/checkpoints/model6_best/assets\n"
     ]
    },
    {
     "name": "stdout",
     "output_type": "stream",
     "text": [
      "856/856 [==============================] - 12s 14ms/step - loss: 1.1721 - accuracy: 0.5376 - val_loss: 1.1413 - val_accuracy: 0.5446\n",
      "Epoch 33/100\n",
      "852/856 [============================>.] - ETA: 0s - loss: 1.1721 - accuracy: 0.5353"
     ]
    },
    {
     "name": "stderr",
     "output_type": "stream",
     "text": [
      "WARNING:absl:Found untraced functions such as _jit_compiled_convolution_op, _jit_compiled_convolution_op, lstm_cell_9_layer_call_fn, lstm_cell_9_layer_call_and_return_conditional_losses, lstm_cell_10_layer_call_fn while saving (showing 5 of 8). These functions will not be directly callable after loading.\n"
     ]
    },
    {
     "name": "stdout",
     "output_type": "stream",
     "text": [
      "INFO:tensorflow:Assets written to: ../SpeechER/checkpoints/model6_best/assets\n"
     ]
    },
    {
     "name": "stderr",
     "output_type": "stream",
     "text": [
      "INFO:tensorflow:Assets written to: ../SpeechER/checkpoints/model6_best/assets\n"
     ]
    },
    {
     "name": "stdout",
     "output_type": "stream",
     "text": [
      "856/856 [==============================] - 12s 15ms/step - loss: 1.1722 - accuracy: 0.5351 - val_loss: 1.1235 - val_accuracy: 0.5511\n",
      "Epoch 34/100\n",
      "856/856 [==============================] - 6s 7ms/step - loss: 1.1586 - accuracy: 0.5402 - val_loss: 1.1545 - val_accuracy: 0.5346\n",
      "Epoch 35/100\n",
      "856/856 [==============================] - 6s 7ms/step - loss: 1.1620 - accuracy: 0.5372 - val_loss: 1.1402 - val_accuracy: 0.5432\n",
      "Epoch 36/100\n",
      "856/856 [==============================] - 6s 7ms/step - loss: 1.1597 - accuracy: 0.5401 - val_loss: 1.1344 - val_accuracy: 0.5466\n",
      "Epoch 37/100\n",
      "856/856 [==============================] - 6s 7ms/step - loss: 1.1557 - accuracy: 0.5401 - val_loss: 1.1273 - val_accuracy: 0.5485\n",
      "Epoch 38/100\n",
      "856/856 [==============================] - 6s 7ms/step - loss: 1.1504 - accuracy: 0.5440 - val_loss: 1.1424 - val_accuracy: 0.5448\n",
      "Epoch 39/100\n",
      "854/856 [============================>.] - ETA: 0s - loss: 1.1557 - accuracy: 0.5389"
     ]
    },
    {
     "name": "stderr",
     "output_type": "stream",
     "text": [
      "WARNING:absl:Found untraced functions such as _jit_compiled_convolution_op, _jit_compiled_convolution_op, lstm_cell_9_layer_call_fn, lstm_cell_9_layer_call_and_return_conditional_losses, lstm_cell_10_layer_call_fn while saving (showing 5 of 8). These functions will not be directly callable after loading.\n"
     ]
    },
    {
     "name": "stdout",
     "output_type": "stream",
     "text": [
      "INFO:tensorflow:Assets written to: ../SpeechER/checkpoints/model6_best/assets\n"
     ]
    },
    {
     "name": "stderr",
     "output_type": "stream",
     "text": [
      "INFO:tensorflow:Assets written to: ../SpeechER/checkpoints/model6_best/assets\n"
     ]
    },
    {
     "name": "stdout",
     "output_type": "stream",
     "text": [
      "856/856 [==============================] - 12s 14ms/step - loss: 1.1550 - accuracy: 0.5391 - val_loss: 1.1196 - val_accuracy: 0.5514\n",
      "Epoch 40/100\n",
      "851/856 [============================>.] - ETA: 0s - loss: 1.1469 - accuracy: 0.5433"
     ]
    },
    {
     "name": "stderr",
     "output_type": "stream",
     "text": [
      "WARNING:absl:Found untraced functions such as _jit_compiled_convolution_op, _jit_compiled_convolution_op, lstm_cell_9_layer_call_fn, lstm_cell_9_layer_call_and_return_conditional_losses, lstm_cell_10_layer_call_fn while saving (showing 5 of 8). These functions will not be directly callable after loading.\n"
     ]
    },
    {
     "name": "stdout",
     "output_type": "stream",
     "text": [
      "INFO:tensorflow:Assets written to: ../SpeechER/checkpoints/model6_best/assets\n"
     ]
    },
    {
     "name": "stderr",
     "output_type": "stream",
     "text": [
      "INFO:tensorflow:Assets written to: ../SpeechER/checkpoints/model6_best/assets\n"
     ]
    },
    {
     "name": "stdout",
     "output_type": "stream",
     "text": [
      "856/856 [==============================] - 12s 15ms/step - loss: 1.1471 - accuracy: 0.5432 - val_loss: 1.1188 - val_accuracy: 0.5494\n",
      "Epoch 41/100\n",
      "856/856 [==============================] - ETA: 0s - loss: 1.1513 - accuracy: 0.5454"
     ]
    },
    {
     "name": "stderr",
     "output_type": "stream",
     "text": [
      "WARNING:absl:Found untraced functions such as _jit_compiled_convolution_op, _jit_compiled_convolution_op, lstm_cell_9_layer_call_fn, lstm_cell_9_layer_call_and_return_conditional_losses, lstm_cell_10_layer_call_fn while saving (showing 5 of 8). These functions will not be directly callable after loading.\n"
     ]
    },
    {
     "name": "stdout",
     "output_type": "stream",
     "text": [
      "INFO:tensorflow:Assets written to: ../SpeechER/checkpoints/model6_best/assets\n"
     ]
    },
    {
     "name": "stderr",
     "output_type": "stream",
     "text": [
      "INFO:tensorflow:Assets written to: ../SpeechER/checkpoints/model6_best/assets\n"
     ]
    },
    {
     "name": "stdout",
     "output_type": "stream",
     "text": [
      "856/856 [==============================] - 13s 15ms/step - loss: 1.1513 - accuracy: 0.5454 - val_loss: 1.1141 - val_accuracy: 0.5551\n",
      "Epoch 42/100\n",
      "856/856 [==============================] - 6s 7ms/step - loss: 1.1455 - accuracy: 0.5463 - val_loss: 1.1276 - val_accuracy: 0.5520\n",
      "Epoch 43/100\n",
      "856/856 [==============================] - 6s 7ms/step - loss: 1.1470 - accuracy: 0.5424 - val_loss: 1.1164 - val_accuracy: 0.5562\n",
      "Epoch 44/100\n",
      "856/856 [==============================] - 6s 7ms/step - loss: 1.1433 - accuracy: 0.5488 - val_loss: 1.1163 - val_accuracy: 0.5531\n",
      "Epoch 45/100\n",
      "856/856 [==============================] - 6s 7ms/step - loss: 1.1405 - accuracy: 0.5471 - val_loss: 1.1161 - val_accuracy: 0.5476\n",
      "Epoch 46/100\n",
      "856/856 [==============================] - 6s 7ms/step - loss: 1.1337 - accuracy: 0.5500 - val_loss: 1.1238 - val_accuracy: 0.5542\n",
      "Epoch 47/100\n",
      "849/856 [============================>.] - ETA: 0s - loss: 1.1292 - accuracy: 0.5552"
     ]
    },
    {
     "name": "stderr",
     "output_type": "stream",
     "text": [
      "WARNING:absl:Found untraced functions such as _jit_compiled_convolution_op, _jit_compiled_convolution_op, lstm_cell_9_layer_call_fn, lstm_cell_9_layer_call_and_return_conditional_losses, lstm_cell_10_layer_call_fn while saving (showing 5 of 8). These functions will not be directly callable after loading.\n"
     ]
    },
    {
     "name": "stdout",
     "output_type": "stream",
     "text": [
      "INFO:tensorflow:Assets written to: ../SpeechER/checkpoints/model6_best/assets\n"
     ]
    },
    {
     "name": "stderr",
     "output_type": "stream",
     "text": [
      "INFO:tensorflow:Assets written to: ../SpeechER/checkpoints/model6_best/assets\n"
     ]
    },
    {
     "name": "stdout",
     "output_type": "stream",
     "text": [
      "856/856 [==============================] - 12s 14ms/step - loss: 1.1304 - accuracy: 0.5545 - val_loss: 1.1065 - val_accuracy: 0.5585\n",
      "Epoch 48/100\n",
      "856/856 [==============================] - 6s 7ms/step - loss: 1.1366 - accuracy: 0.5467 - val_loss: 1.1182 - val_accuracy: 0.5549\n",
      "Epoch 49/100\n",
      "856/856 [==============================] - 6s 7ms/step - loss: 1.1221 - accuracy: 0.5550 - val_loss: 1.1072 - val_accuracy: 0.5599\n",
      "Epoch 50/100\n",
      "853/856 [============================>.] - ETA: 0s - loss: 1.1283 - accuracy: 0.5529"
     ]
    },
    {
     "name": "stderr",
     "output_type": "stream",
     "text": [
      "WARNING:absl:Found untraced functions such as _jit_compiled_convolution_op, _jit_compiled_convolution_op, lstm_cell_9_layer_call_fn, lstm_cell_9_layer_call_and_return_conditional_losses, lstm_cell_10_layer_call_fn while saving (showing 5 of 8). These functions will not be directly callable after loading.\n"
     ]
    },
    {
     "name": "stdout",
     "output_type": "stream",
     "text": [
      "INFO:tensorflow:Assets written to: ../SpeechER/checkpoints/model6_best/assets\n"
     ]
    },
    {
     "name": "stderr",
     "output_type": "stream",
     "text": [
      "INFO:tensorflow:Assets written to: ../SpeechER/checkpoints/model6_best/assets\n"
     ]
    },
    {
     "name": "stdout",
     "output_type": "stream",
     "text": [
      "856/856 [==============================] - 13s 15ms/step - loss: 1.1283 - accuracy: 0.5530 - val_loss: 1.0966 - val_accuracy: 0.5635\n",
      "Epoch 51/100\n",
      "856/856 [==============================] - 6s 7ms/step - loss: 1.1220 - accuracy: 0.5548 - val_loss: 1.1125 - val_accuracy: 0.5538\n",
      "Epoch 52/100\n",
      "856/856 [==============================] - 6s 7ms/step - loss: 1.1244 - accuracy: 0.5544 - val_loss: 1.1013 - val_accuracy: 0.5592\n",
      "Epoch 53/100\n",
      "856/856 [==============================] - 6s 7ms/step - loss: 1.1296 - accuracy: 0.5558 - val_loss: 1.1024 - val_accuracy: 0.5596\n",
      "Epoch 54/100\n",
      "856/856 [==============================] - 6s 7ms/step - loss: 1.1251 - accuracy: 0.5563 - val_loss: 1.1067 - val_accuracy: 0.5582\n",
      "Epoch 55/100\n",
      "856/856 [==============================] - 6s 7ms/step - loss: 1.1225 - accuracy: 0.5555 - val_loss: 1.1020 - val_accuracy: 0.5633\n",
      "Epoch 56/100\n",
      "856/856 [==============================] - 6s 7ms/step - loss: 1.1271 - accuracy: 0.5526 - val_loss: 1.1027 - val_accuracy: 0.5631\n",
      "Epoch 57/100\n",
      "856/856 [==============================] - 6s 7ms/step - loss: 1.1108 - accuracy: 0.5594 - val_loss: 1.0975 - val_accuracy: 0.5581\n",
      "Epoch 58/100\n",
      "856/856 [==============================] - 6s 7ms/step - loss: 1.1219 - accuracy: 0.5549 - val_loss: 1.1033 - val_accuracy: 0.5599\n",
      "Epoch 59/100\n",
      "854/856 [============================>.] - ETA: 0s - loss: 1.1150 - accuracy: 0.5578"
     ]
    },
    {
     "name": "stderr",
     "output_type": "stream",
     "text": [
      "WARNING:absl:Found untraced functions such as _jit_compiled_convolution_op, _jit_compiled_convolution_op, lstm_cell_9_layer_call_fn, lstm_cell_9_layer_call_and_return_conditional_losses, lstm_cell_10_layer_call_fn while saving (showing 5 of 8). These functions will not be directly callable after loading.\n"
     ]
    },
    {
     "name": "stdout",
     "output_type": "stream",
     "text": [
      "INFO:tensorflow:Assets written to: ../SpeechER/checkpoints/model6_best/assets\n"
     ]
    },
    {
     "name": "stderr",
     "output_type": "stream",
     "text": [
      "INFO:tensorflow:Assets written to: ../SpeechER/checkpoints/model6_best/assets\n"
     ]
    },
    {
     "name": "stdout",
     "output_type": "stream",
     "text": [
      "856/856 [==============================] - 12s 14ms/step - loss: 1.1149 - accuracy: 0.5578 - val_loss: 1.0915 - val_accuracy: 0.5634\n",
      "Epoch 60/100\n",
      "856/856 [==============================] - 6s 7ms/step - loss: 1.1080 - accuracy: 0.5649 - val_loss: 1.1023 - val_accuracy: 0.5653\n",
      "Epoch 61/100\n",
      "856/856 [==============================] - 6s 7ms/step - loss: 1.1136 - accuracy: 0.5603 - val_loss: 1.0933 - val_accuracy: 0.5601\n",
      "Epoch 62/100\n",
      "856/856 [==============================] - 6s 7ms/step - loss: 1.1013 - accuracy: 0.5657 - val_loss: 1.1025 - val_accuracy: 0.5595\n",
      "Epoch 63/100\n",
      "856/856 [==============================] - 6s 7ms/step - loss: 1.1097 - accuracy: 0.5600 - val_loss: 1.0926 - val_accuracy: 0.5695\n",
      "Epoch 64/100\n",
      "854/856 [============================>.] - ETA: 0s - loss: 1.1061 - accuracy: 0.5615"
     ]
    },
    {
     "name": "stderr",
     "output_type": "stream",
     "text": [
      "WARNING:absl:Found untraced functions such as _jit_compiled_convolution_op, _jit_compiled_convolution_op, lstm_cell_9_layer_call_fn, lstm_cell_9_layer_call_and_return_conditional_losses, lstm_cell_10_layer_call_fn while saving (showing 5 of 8). These functions will not be directly callable after loading.\n"
     ]
    },
    {
     "name": "stdout",
     "output_type": "stream",
     "text": [
      "INFO:tensorflow:Assets written to: ../SpeechER/checkpoints/model6_best/assets\n"
     ]
    },
    {
     "name": "stderr",
     "output_type": "stream",
     "text": [
      "INFO:tensorflow:Assets written to: ../SpeechER/checkpoints/model6_best/assets\n"
     ]
    },
    {
     "name": "stdout",
     "output_type": "stream",
     "text": [
      "856/856 [==============================] - 12s 14ms/step - loss: 1.1061 - accuracy: 0.5614 - val_loss: 1.0897 - val_accuracy: 0.5620\n",
      "Epoch 65/100\n",
      "856/856 [==============================] - 6s 7ms/step - loss: 1.1011 - accuracy: 0.5652 - val_loss: 1.0916 - val_accuracy: 0.5594\n",
      "Epoch 66/100\n",
      "856/856 [==============================] - 6s 7ms/step - loss: 1.1061 - accuracy: 0.5628 - val_loss: 1.0908 - val_accuracy: 0.5641\n",
      "Epoch 67/100\n",
      "850/856 [============================>.] - ETA: 0s - loss: 1.0987 - accuracy: 0.5644"
     ]
    },
    {
     "name": "stderr",
     "output_type": "stream",
     "text": [
      "WARNING:absl:Found untraced functions such as _jit_compiled_convolution_op, _jit_compiled_convolution_op, lstm_cell_9_layer_call_fn, lstm_cell_9_layer_call_and_return_conditional_losses, lstm_cell_10_layer_call_fn while saving (showing 5 of 8). These functions will not be directly callable after loading.\n"
     ]
    },
    {
     "name": "stdout",
     "output_type": "stream",
     "text": [
      "INFO:tensorflow:Assets written to: ../SpeechER/checkpoints/model6_best/assets\n"
     ]
    },
    {
     "name": "stderr",
     "output_type": "stream",
     "text": [
      "INFO:tensorflow:Assets written to: ../SpeechER/checkpoints/model6_best/assets\n"
     ]
    },
    {
     "name": "stdout",
     "output_type": "stream",
     "text": [
      "856/856 [==============================] - 12s 14ms/step - loss: 1.0989 - accuracy: 0.5640 - val_loss: 1.0863 - val_accuracy: 0.5715\n",
      "Epoch 68/100\n",
      "856/856 [==============================] - 6s 7ms/step - loss: 1.1062 - accuracy: 0.5644 - val_loss: 1.1056 - val_accuracy: 0.5634\n",
      "Epoch 69/100\n",
      "856/856 [==============================] - 6s 7ms/step - loss: 1.1056 - accuracy: 0.5608 - val_loss: 1.0982 - val_accuracy: 0.5661\n",
      "Epoch 70/100\n",
      "856/856 [==============================] - 6s 7ms/step - loss: 1.0985 - accuracy: 0.5667 - val_loss: 1.0895 - val_accuracy: 0.5677\n",
      "Epoch 71/100\n",
      "856/856 [==============================] - 6s 7ms/step - loss: 1.1020 - accuracy: 0.5663 - val_loss: 1.0938 - val_accuracy: 0.5647\n",
      "Epoch 72/100\n",
      "856/856 [==============================] - ETA: 0s - loss: 1.1050 - accuracy: 0.5652"
     ]
    },
    {
     "name": "stderr",
     "output_type": "stream",
     "text": [
      "WARNING:absl:Found untraced functions such as _jit_compiled_convolution_op, _jit_compiled_convolution_op, lstm_cell_9_layer_call_fn, lstm_cell_9_layer_call_and_return_conditional_losses, lstm_cell_10_layer_call_fn while saving (showing 5 of 8). These functions will not be directly callable after loading.\n"
     ]
    },
    {
     "name": "stdout",
     "output_type": "stream",
     "text": [
      "INFO:tensorflow:Assets written to: ../SpeechER/checkpoints/model6_best/assets\n"
     ]
    },
    {
     "name": "stderr",
     "output_type": "stream",
     "text": [
      "INFO:tensorflow:Assets written to: ../SpeechER/checkpoints/model6_best/assets\n"
     ]
    },
    {
     "name": "stdout",
     "output_type": "stream",
     "text": [
      "856/856 [==============================] - 12s 14ms/step - loss: 1.1050 - accuracy: 0.5652 - val_loss: 1.0775 - val_accuracy: 0.5684\n",
      "Epoch 73/100\n",
      "856/856 [==============================] - 6s 7ms/step - loss: 1.1028 - accuracy: 0.5651 - val_loss: 1.1113 - val_accuracy: 0.5540\n",
      "Epoch 74/100\n",
      "856/856 [==============================] - 6s 7ms/step - loss: 1.1030 - accuracy: 0.5667 - val_loss: 1.0888 - val_accuracy: 0.5664\n",
      "Epoch 75/100\n",
      "854/856 [============================>.] - ETA: 0s - loss: 1.0967 - accuracy: 0.5655"
     ]
    },
    {
     "name": "stderr",
     "output_type": "stream",
     "text": [
      "WARNING:absl:Found untraced functions such as _jit_compiled_convolution_op, _jit_compiled_convolution_op, lstm_cell_9_layer_call_fn, lstm_cell_9_layer_call_and_return_conditional_losses, lstm_cell_10_layer_call_fn while saving (showing 5 of 8). These functions will not be directly callable after loading.\n"
     ]
    },
    {
     "name": "stdout",
     "output_type": "stream",
     "text": [
      "INFO:tensorflow:Assets written to: ../SpeechER/checkpoints/model6_best/assets\n"
     ]
    },
    {
     "name": "stderr",
     "output_type": "stream",
     "text": [
      "INFO:tensorflow:Assets written to: ../SpeechER/checkpoints/model6_best/assets\n"
     ]
    },
    {
     "name": "stdout",
     "output_type": "stream",
     "text": [
      "856/856 [==============================] - 12s 15ms/step - loss: 1.0964 - accuracy: 0.5656 - val_loss: 1.0739 - val_accuracy: 0.5731\n",
      "Epoch 76/100\n",
      "856/856 [==============================] - 6s 7ms/step - loss: 1.0903 - accuracy: 0.5725 - val_loss: 1.0770 - val_accuracy: 0.5706\n",
      "Epoch 77/100\n",
      "856/856 [==============================] - 6s 7ms/step - loss: 1.0899 - accuracy: 0.5714 - val_loss: 1.0934 - val_accuracy: 0.5637\n",
      "Epoch 78/100\n",
      "856/856 [==============================] - 6s 7ms/step - loss: 1.0875 - accuracy: 0.5715 - val_loss: 1.0756 - val_accuracy: 0.5676\n",
      "Epoch 79/100\n",
      "856/856 [==============================] - 6s 7ms/step - loss: 1.0853 - accuracy: 0.5696 - val_loss: 1.0758 - val_accuracy: 0.5765\n",
      "Epoch 80/100\n",
      "856/856 [==============================] - 6s 7ms/step - loss: 1.0843 - accuracy: 0.5732 - val_loss: 1.0799 - val_accuracy: 0.5749\n",
      "Epoch 81/100\n",
      "856/856 [==============================] - 6s 7ms/step - loss: 1.0868 - accuracy: 0.5678 - val_loss: 1.0757 - val_accuracy: 0.5768\n",
      "Epoch 82/100\n",
      "856/856 [==============================] - 6s 7ms/step - loss: 1.0859 - accuracy: 0.5714 - val_loss: 1.0862 - val_accuracy: 0.5669\n",
      "Epoch 83/100\n",
      "856/856 [==============================] - 6s 7ms/step - loss: 1.0876 - accuracy: 0.5702 - val_loss: 1.0789 - val_accuracy: 0.5719\n",
      "Epoch 84/100\n",
      "856/856 [==============================] - 6s 7ms/step - loss: 1.0779 - accuracy: 0.5740 - val_loss: 1.0837 - val_accuracy: 0.5699\n",
      "Epoch 85/100\n",
      "856/856 [==============================] - 6s 7ms/step - loss: 1.0822 - accuracy: 0.5731 - val_loss: 1.0809 - val_accuracy: 0.5710\n",
      "Epoch 86/100\n",
      "856/856 [==============================] - 6s 7ms/step - loss: 1.0775 - accuracy: 0.5750 - val_loss: 1.0744 - val_accuracy: 0.5730\n",
      "Epoch 87/100\n",
      "855/856 [============================>.] - ETA: 0s - loss: 1.0785 - accuracy: 0.5752"
     ]
    },
    {
     "name": "stderr",
     "output_type": "stream",
     "text": [
      "WARNING:absl:Found untraced functions such as _jit_compiled_convolution_op, _jit_compiled_convolution_op, lstm_cell_9_layer_call_fn, lstm_cell_9_layer_call_and_return_conditional_losses, lstm_cell_10_layer_call_fn while saving (showing 5 of 8). These functions will not be directly callable after loading.\n"
     ]
    },
    {
     "name": "stdout",
     "output_type": "stream",
     "text": [
      "INFO:tensorflow:Assets written to: ../SpeechER/checkpoints/model6_best/assets\n"
     ]
    },
    {
     "name": "stderr",
     "output_type": "stream",
     "text": [
      "INFO:tensorflow:Assets written to: ../SpeechER/checkpoints/model6_best/assets\n"
     ]
    },
    {
     "name": "stdout",
     "output_type": "stream",
     "text": [
      "856/856 [==============================] - 12s 15ms/step - loss: 1.0784 - accuracy: 0.5753 - val_loss: 1.0736 - val_accuracy: 0.5752\n",
      "Epoch 88/100\n",
      "856/856 [==============================] - 6s 7ms/step - loss: 1.0768 - accuracy: 0.5744 - val_loss: 1.0799 - val_accuracy: 0.5704\n",
      "Epoch 89/100\n",
      "856/856 [==============================] - 6s 7ms/step - loss: 1.0773 - accuracy: 0.5785 - val_loss: 1.0851 - val_accuracy: 0.5693\n",
      "Epoch 90/100\n",
      "856/856 [==============================] - 6s 7ms/step - loss: 1.0826 - accuracy: 0.5735 - val_loss: 1.0765 - val_accuracy: 0.5687\n",
      "Epoch 91/100\n",
      "856/856 [==============================] - 6s 7ms/step - loss: 1.0872 - accuracy: 0.5717 - val_loss: 1.0784 - val_accuracy: 0.5728\n",
      "Epoch 92/100\n",
      "856/856 [==============================] - 6s 7ms/step - loss: 1.0782 - accuracy: 0.5756 - val_loss: 1.0811 - val_accuracy: 0.5734\n",
      "Epoch 93/100\n",
      "856/856 [==============================] - 6s 7ms/step - loss: 1.0786 - accuracy: 0.5737 - val_loss: 1.0759 - val_accuracy: 0.5699\n",
      "Epoch 94/100\n",
      "856/856 [==============================] - 6s 7ms/step - loss: 1.0647 - accuracy: 0.5784 - val_loss: 1.0752 - val_accuracy: 0.5770\n",
      "Epoch 95/100\n",
      "854/856 [============================>.] - ETA: 0s - loss: 1.0767 - accuracy: 0.5756"
     ]
    },
    {
     "name": "stderr",
     "output_type": "stream",
     "text": [
      "WARNING:absl:Found untraced functions such as _jit_compiled_convolution_op, _jit_compiled_convolution_op, lstm_cell_9_layer_call_fn, lstm_cell_9_layer_call_and_return_conditional_losses, lstm_cell_10_layer_call_fn while saving (showing 5 of 8). These functions will not be directly callable after loading.\n"
     ]
    },
    {
     "name": "stdout",
     "output_type": "stream",
     "text": [
      "INFO:tensorflow:Assets written to: ../SpeechER/checkpoints/model6_best/assets\n"
     ]
    },
    {
     "name": "stderr",
     "output_type": "stream",
     "text": [
      "INFO:tensorflow:Assets written to: ../SpeechER/checkpoints/model6_best/assets\n"
     ]
    },
    {
     "name": "stdout",
     "output_type": "stream",
     "text": [
      "856/856 [==============================] - 12s 15ms/step - loss: 1.0766 - accuracy: 0.5756 - val_loss: 1.0673 - val_accuracy: 0.5731\n",
      "Epoch 96/100\n",
      "856/856 [==============================] - 6s 7ms/step - loss: 1.0680 - accuracy: 0.5797 - val_loss: 1.0748 - val_accuracy: 0.5761\n",
      "Epoch 97/100\n",
      "856/856 [==============================] - ETA: 0s - loss: 1.0651 - accuracy: 0.5831"
     ]
    },
    {
     "name": "stderr",
     "output_type": "stream",
     "text": [
      "WARNING:absl:Found untraced functions such as _jit_compiled_convolution_op, _jit_compiled_convolution_op, lstm_cell_9_layer_call_fn, lstm_cell_9_layer_call_and_return_conditional_losses, lstm_cell_10_layer_call_fn while saving (showing 5 of 8). These functions will not be directly callable after loading.\n"
     ]
    },
    {
     "name": "stdout",
     "output_type": "stream",
     "text": [
      "INFO:tensorflow:Assets written to: ../SpeechER/checkpoints/model6_best/assets\n"
     ]
    },
    {
     "name": "stderr",
     "output_type": "stream",
     "text": [
      "INFO:tensorflow:Assets written to: ../SpeechER/checkpoints/model6_best/assets\n"
     ]
    },
    {
     "name": "stdout",
     "output_type": "stream",
     "text": [
      "856/856 [==============================] - 13s 15ms/step - loss: 1.0651 - accuracy: 0.5831 - val_loss: 1.0606 - val_accuracy: 0.5781\n",
      "Epoch 98/100\n",
      "856/856 [==============================] - 6s 7ms/step - loss: 1.0688 - accuracy: 0.5786 - val_loss: 1.0722 - val_accuracy: 0.5749\n",
      "Epoch 99/100\n",
      "856/856 [==============================] - 6s 7ms/step - loss: 1.0651 - accuracy: 0.5793 - val_loss: 1.0658 - val_accuracy: 0.5750\n",
      "Epoch 100/100\n",
      "856/856 [==============================] - 6s 7ms/step - loss: 1.0724 - accuracy: 0.5764 - val_loss: 1.0706 - val_accuracy: 0.5753\n"
     ]
    }
   ],
   "source": [
    "history = model.fit(X_train, y_train, epochs=100, validation_data=(X_test, y_test), callbacks=[stop_early, checkpoint])"
   ]
  },
  {
   "cell_type": "code",
   "execution_count": 26,
   "metadata": {},
   "outputs": [
    {
     "name": "stdout",
     "output_type": "stream",
     "text": [
      "286/286 [==============================] - 1s 3ms/step - loss: 1.0706 - accuracy: 0.5753\n"
     ]
    }
   ],
   "source": [
    "eval = model.evaluate(X_test, y_test)"
   ]
  },
  {
   "cell_type": "code",
   "execution_count": 27,
   "metadata": {},
   "outputs": [],
   "source": [
    "encoder = OneHotEncoder()\n",
    "Y = np.load(\"../SpeechER/feature_labels.npy\")\n",
    "Y = encoder.fit_transform(np.array(Y).reshape(-1,1)).toarray()"
   ]
  },
  {
   "cell_type": "code",
   "execution_count": 28,
   "metadata": {},
   "outputs": [
    {
     "name": "stdout",
     "output_type": "stream",
     "text": [
      "286/286 [==============================] - 1s 3ms/step\n"
     ]
    },
    {
     "data": {
      "text/html": [
       "<div>\n",
       "<style scoped>\n",
       "    .dataframe tbody tr th:only-of-type {\n",
       "        vertical-align: middle;\n",
       "    }\n",
       "\n",
       "    .dataframe tbody tr th {\n",
       "        vertical-align: top;\n",
       "    }\n",
       "\n",
       "    .dataframe thead th {\n",
       "        text-align: right;\n",
       "    }\n",
       "</style>\n",
       "<table border=\"1\" class=\"dataframe\">\n",
       "  <thead>\n",
       "    <tr style=\"text-align: right;\">\n",
       "      <th></th>\n",
       "      <th>Predicted Labels</th>\n",
       "      <th>Actual Labels</th>\n",
       "    </tr>\n",
       "  </thead>\n",
       "  <tbody>\n",
       "    <tr>\n",
       "      <th>0</th>\n",
       "      <td>disgust</td>\n",
       "      <td>disgust</td>\n",
       "    </tr>\n",
       "    <tr>\n",
       "      <th>1</th>\n",
       "      <td>sad</td>\n",
       "      <td>sad</td>\n",
       "    </tr>\n",
       "    <tr>\n",
       "      <th>2</th>\n",
       "      <td>happy</td>\n",
       "      <td>happy</td>\n",
       "    </tr>\n",
       "    <tr>\n",
       "      <th>3</th>\n",
       "      <td>angry</td>\n",
       "      <td>disgust</td>\n",
       "    </tr>\n",
       "    <tr>\n",
       "      <th>4</th>\n",
       "      <td>happy</td>\n",
       "      <td>happy</td>\n",
       "    </tr>\n",
       "    <tr>\n",
       "      <th>5</th>\n",
       "      <td>sad</td>\n",
       "      <td>calm</td>\n",
       "    </tr>\n",
       "    <tr>\n",
       "      <th>6</th>\n",
       "      <td>happy</td>\n",
       "      <td>happy</td>\n",
       "    </tr>\n",
       "    <tr>\n",
       "      <th>7</th>\n",
       "      <td>neutral</td>\n",
       "      <td>neutral</td>\n",
       "    </tr>\n",
       "    <tr>\n",
       "      <th>8</th>\n",
       "      <td>surprise</td>\n",
       "      <td>surprise</td>\n",
       "    </tr>\n",
       "    <tr>\n",
       "      <th>9</th>\n",
       "      <td>disgust</td>\n",
       "      <td>sad</td>\n",
       "    </tr>\n",
       "  </tbody>\n",
       "</table>\n",
       "</div>"
      ],
      "text/plain": [
       "  Predicted Labels Actual Labels\n",
       "0          disgust       disgust\n",
       "1              sad           sad\n",
       "2            happy         happy\n",
       "3            angry       disgust\n",
       "4            happy         happy\n",
       "5              sad          calm\n",
       "6            happy         happy\n",
       "7          neutral       neutral\n",
       "8         surprise      surprise\n",
       "9          disgust           sad"
      ]
     },
     "execution_count": 28,
     "metadata": {},
     "output_type": "execute_result"
    }
   ],
   "source": [
    "pred_test = model.predict(X_test)\n",
    "y_pred = encoder.inverse_transform(pred_test)\n",
    "y_test = encoder.inverse_transform(y_test)\n",
    "\n",
    "\n",
    "df = pd.DataFrame(columns=['Predicted Labels', 'Actual Labels'])\n",
    "df['Predicted Labels'] = y_pred.flatten()\n",
    "df['Actual Labels'] = y_test.flatten()\n",
    "\n",
    "df.head(10)"
   ]
  },
  {
   "cell_type": "code",
   "execution_count": 29,
   "metadata": {},
   "outputs": [
    {
     "data": {
      "image/png": "[encoded data removed]",
      "text/plain": [
       "<Figure size 2000x600 with 2 Axes>"
      ]
     },
     "metadata": {},
     "output_type": "display_data"
    }
   ],
   "source": [
    "epochs = [i for i in range(len(history.history[\"loss\"]))]\n",
    "fig , ax = plt.subplots(1,2)\n",
    "train_acc = history.history['accuracy']\n",
    "train_loss = history.history['loss']\n",
    "test_acc = history.history['val_accuracy']\n",
    "test_loss = history.history['val_loss']\n",
    "\n",
    "fig.set_size_inches(20,6)\n",
    "fig.suptitle(f\"Model 6 - CNN-LSTM - Accuracy: %{round(eval[1]*100,2)}\")\n",
    "ax[0].plot(epochs , train_loss , label = 'Training Loss')\n",
    "ax[0].plot(epochs , test_loss , label = 'Validation Loss')\n",
    "ax[0].set_title('Training & Validation Loss')\n",
    "ax[0].legend()\n",
    "ax[0].set_xlabel(\"Epochs\")\n",
    "\n",
    "ax[1].plot(epochs , train_acc , label = 'Training Accuracy')\n",
    "ax[1].plot(epochs , test_acc , label = 'Validation Accuracy')\n",
    "ax[1].set_title('Training & Validation Accuracy')\n",
    "ax[1].legend()\n",
    "ax[1].set_xlabel(\"Epochs\")\n",
    "plt.savefig(\"../SpeechER/figs/model6.png\")"
   ]
  },
  {
   "cell_type": "code",
   "execution_count": 30,
   "metadata": {},
   "outputs": [
    {
     "data": {
      "image/png": "[encoded data removed]",
      "text/plain": [
       "<Figure size 1200x1000 with 2 Axes>"
      ]
     },
     "metadata": {},
     "output_type": "display_data"
    }
   ],
   "source": [
    "cm = confusion_matrix(y_test, y_pred)\n",
    "plt.figure(figsize = (12, 10))\n",
    "cm = pd.DataFrame(cm , index = [i for i in encoder.categories_] , columns = [i for i in encoder.categories_])\n",
    "sns.heatmap(cm, linecolor='white', cmap='Blues', linewidth=1, annot=True, fmt='')\n",
    "plt.title('Confusion Matrix', size=20)\n",
    "plt.xlabel('Predicted Labels', size=14)\n",
    "plt.ylabel('Actual Labels', size=14)\n",
    "plt.show()"
   ]
  },
  {
   "cell_type": "code",
   "execution_count": 31,
   "metadata": {},
   "outputs": [
    {
     "name": "stdout",
     "output_type": "stream",
     "text": [
      "              precision    recall  f1-score   support\n",
      "\n",
      "       angry       0.68      0.71      0.70      1431\n",
      "        calm       0.54      0.85      0.66       155\n",
      "     disgust       0.45      0.51      0.48      1399\n",
      "        fear       0.66      0.42      0.52      1453\n",
      "       happy       0.49      0.51      0.50      1433\n",
      "     neutral       0.54      0.59      0.56      1260\n",
      "         sad       0.64      0.60      0.62      1483\n",
      "    surprise       0.70      0.82      0.76       508\n",
      "\n",
      "    accuracy                           0.58      9122\n",
      "   macro avg       0.59      0.63      0.60      9122\n",
      "weighted avg       0.58      0.58      0.57      9122\n",
      "\n"
     ]
    }
   ],
   "source": [
    "print(classification_report(y_test, y_pred))"
   ]
  }
 ],
 "metadata": {
  "kernelspec": {
   "display_name": "Python 3",
   "language": "python",
   "name": "python3"
  },
  "language_info": {
   "codemirror_mode": {
    "name": "ipython",
    "version": 3
   },
   "file_extension": ".py",
   "mimetype": "text/x-python",
   "name": "python",
   "nbconvert_exporter": "python",
   "pygments_lexer": "ipython3",
   "version": "3.10.6"
  },
  "orig_nbformat": 4
 },
 "nbformat": 4,
 "nbformat_minor": 2
}
