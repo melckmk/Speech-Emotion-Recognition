{
 "cells": [
  {
   "cell_type": "code",
   "execution_count": 2,
   "metadata": {},
   "outputs": [],
   "source": [
    "import os\n",
    "import pandas as pd\n",
    "import numpy as np\n",
    "import tensorflow as tf\n",
    "os.environ['TF_FORCE_GPU_ALLOW_GROWTH'] = 'true'\n",
    "os.environ['TF_GPU_ALLOCATOR'] = 'cuda_malloc_async'\n",
    "\n",
    "from keras.models import Sequential\n",
    "from keras.layers import Dense, Conv1D, MaxPooling1D, Flatten, Dropout, BatchNormalization\n",
    "from keras.callbacks import ModelCheckpoint, EarlyStopping\n",
    "from keras.utils.vis_utils import plot_model\n",
    "\n",
    "import matplotlib.pyplot as plt\n",
    "import seaborn as sns\n",
    "\n",
    "from sklearn.preprocessing import OneHotEncoder\n",
    "from sklearn.metrics import confusion_matrix, classification_report"
   ]
  },
  {
   "cell_type": "code",
   "execution_count": 3,
   "metadata": {},
   "outputs": [],
   "source": [
    "X_train = np.load(\"../SpeechER/data_split/X_train.npy\")\n",
    "X_test = np.load(\"../SpeechER/data_split/X_test.npy\")\n",
    "y_train = np.load(\"../SpeechER/data_split/y_train.npy\")\n",
    "y_test = np.load(\"../SpeechER/data_split/y_test.npy\")"
   ]
  },
  {
   "cell_type": "code",
   "execution_count": 4,
   "metadata": {},
   "outputs": [
    {
     "name": "stdout",
     "output_type": "stream",
     "text": [
      "Model: \"sequential\"\n",
      "_________________________________________________________________\n",
      " Layer (type)                Output Shape              Param #   \n",
      "=================================================================\n",
      " conv1d (Conv1D)             (None, 162, 256)          1536      \n",
      "                                                                 \n",
      " max_pooling1d (MaxPooling1D  (None, 33, 256)          0         \n",
      " )                                                               \n",
      "                                                                 \n",
      " batch_normalization (BatchN  (None, 33, 256)          1024      \n",
      " ormalization)                                                   \n",
      "                                                                 \n",
      " conv1d_1 (Conv1D)           (None, 33, 128)           163968    \n",
      "                                                                 \n",
      " max_pooling1d_1 (MaxPooling  (None, 7, 128)           0         \n",
      " 1D)                                                             \n",
      "                                                                 \n",
      " dropout (Dropout)           (None, 7, 128)            0         \n",
      "                                                                 \n",
      " batch_normalization_1 (Batc  (None, 7, 128)           512       \n",
      " hNormalization)                                                 \n",
      "                                                                 \n",
      " conv1d_2 (Conv1D)           (None, 7, 64)             41024     \n",
      "                                                                 \n",
      " max_pooling1d_2 (MaxPooling  (None, 2, 64)            0         \n",
      " 1D)                                                             \n",
      "                                                                 \n",
      " dropout_1 (Dropout)         (None, 2, 64)             0         \n",
      "                                                                 \n",
      " batch_normalization_2 (Batc  (None, 2, 64)            256       \n",
      " hNormalization)                                                 \n",
      "                                                                 \n",
      " conv1d_3 (Conv1D)           (None, 2, 32)             10272     \n",
      "                                                                 \n",
      " conv1d_4 (Conv1D)           (None, 2, 32)             5152      \n",
      "                                                                 \n",
      " max_pooling1d_3 (MaxPooling  (None, 1, 32)            0         \n",
      " 1D)                                                             \n",
      "                                                                 \n",
      " batch_normalization_3 (Batc  (None, 1, 32)            128       \n",
      " hNormalization)                                                 \n",
      "                                                                 \n",
      " flatten (Flatten)           (None, 32)                0         \n",
      "                                                                 \n",
      " dense (Dense)               (None, 32)                1056      \n",
      "                                                                 \n",
      " dropout_2 (Dropout)         (None, 32)                0         \n",
      "                                                                 \n",
      " dense_1 (Dense)             (None, 8)                 264       \n",
      "                                                                 \n",
      "=================================================================\n",
      "Total params: 225,192\n",
      "Trainable params: 224,232\n",
      "Non-trainable params: 960\n",
      "_________________________________________________________________\n"
     ]
    },
    {
     "name": "stderr",
     "output_type": "stream",
     "text": [
      "2023-06-09 21:14:21.255991: I tensorflow/compiler/xla/stream_executor/cuda/cuda_gpu_executor.cc:981] successful NUMA node read from SysFS had negative value (-1), but there must be at least one NUMA node, so returning NUMA node zero\n",
      "2023-06-09 21:14:21.280096: I tensorflow/compiler/xla/stream_executor/cuda/cuda_gpu_executor.cc:981] successful NUMA node read from SysFS had negative value (-1), but there must be at least one NUMA node, so returning NUMA node zero\n",
      "2023-06-09 21:14:21.280372: I tensorflow/compiler/xla/stream_executor/cuda/cuda_gpu_executor.cc:981] successful NUMA node read from SysFS had negative value (-1), but there must be at least one NUMA node, so returning NUMA node zero\n",
      "2023-06-09 21:14:21.281405: I tensorflow/compiler/xla/stream_executor/cuda/cuda_gpu_executor.cc:981] successful NUMA node read from SysFS had negative value (-1), but there must be at least one NUMA node, so returning NUMA node zero\n",
      "2023-06-09 21:14:21.281596: I tensorflow/compiler/xla/stream_executor/cuda/cuda_gpu_executor.cc:981] successful NUMA node read from SysFS had negative value (-1), but there must be at least one NUMA node, so returning NUMA node zero\n",
      "2023-06-09 21:14:21.281686: I tensorflow/compiler/xla/stream_executor/cuda/cuda_gpu_executor.cc:981] successful NUMA node read from SysFS had negative value (-1), but there must be at least one NUMA node, so returning NUMA node zero\n",
      "2023-06-09 21:14:21.800298: I tensorflow/compiler/xla/stream_executor/cuda/cuda_gpu_executor.cc:981] successful NUMA node read from SysFS had negative value (-1), but there must be at least one NUMA node, so returning NUMA node zero\n",
      "2023-06-09 21:14:21.800461: I tensorflow/compiler/xla/stream_executor/cuda/cuda_gpu_executor.cc:981] successful NUMA node read from SysFS had negative value (-1), but there must be at least one NUMA node, so returning NUMA node zero\n",
      "2023-06-09 21:14:21.800556: I tensorflow/compiler/xla/stream_executor/cuda/cuda_gpu_executor.cc:981] successful NUMA node read from SysFS had negative value (-1), but there must be at least one NUMA node, so returning NUMA node zero\n",
      "2023-06-09 21:14:21.800625: W tensorflow/core/common_runtime/gpu/gpu_bfc_allocator.cc:42] Overriding orig_value setting because the TF_FORCE_GPU_ALLOW_GROWTH environment variable is set. Original config value was 0.\n",
      "2023-06-09 21:14:21.800631: I tensorflow/core/common_runtime/gpu/gpu_process_state.cc:222] Using CUDA malloc Async allocator for GPU: 0\n",
      "2023-06-09 21:14:21.800714: I tensorflow/core/common_runtime/gpu/gpu_device.cc:1613] Created device /job:localhost/replica:0/task:0/device:GPU:0 with 180 MB memory:  -> device: 0, name: NVIDIA GeForce RTX 3050 Laptop GPU, pci bus id: 0000:01:00.0, compute capability: 8.6\n"
     ]
    }
   ],
   "source": [
    "model = Sequential()\n",
    "model.add(Conv1D(filters=32*8, kernel_size=5, activation=\"relu\", padding=\"same\", input_shape=(X_train.shape[1], 1)))\n",
    "model.add(MaxPooling1D(pool_size=5, padding=\"same\"))\n",
    "model.add(BatchNormalization())\n",
    "model.add(Conv1D(filters=32*4, kernel_size=5, activation=\"relu\", padding=\"same\"))\n",
    "model.add(MaxPooling1D(pool_size=5, padding=\"same\"))\n",
    "model.add(Dropout(0.2))\n",
    "model.add(BatchNormalization())\n",
    "model.add(Conv1D(filters=32*2, kernel_size=5, activation=\"relu\", padding=\"same\"))\n",
    "model.add(MaxPooling1D(pool_size=5, padding=\"same\"))\n",
    "model.add(Dropout(0.3))\n",
    "model.add(BatchNormalization())\n",
    "model.add(Conv1D(filters=32, kernel_size=5, activation=\"relu\", padding=\"same\"))\n",
    "model.add(Conv1D(filters=32, kernel_size=5, activation=\"relu\", padding=\"same\"))\n",
    "model.add(MaxPooling1D(pool_size=5, padding=\"same\"))\n",
    "model.add(BatchNormalization())\n",
    "model.add(Flatten())\n",
    "model.add(Dense(units=32, activation='relu'))\n",
    "model.add(Dropout(0.3))\n",
    "\n",
    "model.add(Dense(units=8, activation='softmax'))\n",
    "model.compile(optimizer = 'adam' , loss = 'categorical_crossentropy' , metrics = ['accuracy'])\n",
    "\n",
    "model.summary()\n",
    "model.save(filepath=\"../SpeechER/models/model4.h5\")"
   ]
  },
  {
   "cell_type": "code",
   "execution_count": 5,
   "metadata": {},
   "outputs": [
    {
     "data": {
      "image/png": "[encoded data removed]",
      "text/plain": [
       "<IPython.core.display.Image object>"
      ]
     },
     "execution_count": 5,
     "metadata": {},
     "output_type": "execute_result"
    }
   ],
   "source": [
    "plot_model(model, \"../SpeechER/figs/m4arc.png\", show_layer_names=False, show_layer_activations=True)"
   ]
  },
  {
   "cell_type": "code",
   "execution_count": 5,
   "metadata": {},
   "outputs": [],
   "source": [
    "model.compile(loss='categorical_crossentropy', optimizer='adam', metrics=['accuracy'])\n",
    "checkpoint = ModelCheckpoint(\"../SpeechER/checkpoints/model4_best\", save_best_only=True)\n",
    "stop_early = EarlyStopping(monitor='val_loss', patience=20)"
   ]
  },
  {
   "cell_type": "code",
   "execution_count": 6,
   "metadata": {},
   "outputs": [
    {
     "name": "stdout",
     "output_type": "stream",
     "text": [
      "Epoch 1/100\n"
     ]
    },
    {
     "name": "stderr",
     "output_type": "stream",
     "text": [
      "2023-06-04 11:32:16.356286: I tensorflow/compiler/xla/stream_executor/cuda/cuda_dnn.cc:428] Loaded cuDNN version 8901\n",
      "2023-06-04 11:32:16.862348: E tensorflow/core/common_runtime/gpu/gpu_cudamallocasync_allocator.cc:288] gpu_async_0 cuMemAllocAsync failed to allocate 2232025088 bytes: CUDA error: out of memory (CUDA_ERROR_OUT_OF_MEMORY)\n",
      " Reported by CUDA: Free memory/Total memory: 33554432/4100456448\n",
      "2023-06-04 11:32:16.862389: E tensorflow/core/common_runtime/gpu/gpu_cudamallocasync_allocator.cc:293] Stats: Limit:                      1074790400\n",
      "InUse:                        98595920\n",
      "MaxInUse:                    122516576\n",
      "NumAllocs:                         201\n",
      "MaxAllocSize:                 38010880\n",
      "Reserved:                            0\n",
      "PeakReserved:                        0\n",
      "LargestFreeBlock:                    0\n",
      "\n",
      "2023-06-04 11:32:16.862404: E tensorflow/core/common_runtime/gpu/gpu_cudamallocasync_allocator.cc:56] Histogram of current allocation: (allocation_size_in_bytes, nb_allocation_of_that_sizes), ...;\n",
      "2023-06-04 11:32:16.862410: E tensorflow/core/common_runtime/gpu/gpu_cudamallocasync_allocator.cc:59] 4, 39\n",
      "2023-06-04 11:32:16.862414: E tensorflow/core/common_runtime/gpu/gpu_cudamallocasync_allocator.cc:59] 8, 6\n",
      "2023-06-04 11:32:16.862418: E tensorflow/core/common_runtime/gpu/gpu_cudamallocasync_allocator.cc:59] 32, 3\n",
      "2023-06-04 11:32:16.862421: E tensorflow/core/common_runtime/gpu/gpu_cudamallocasync_allocator.cc:59] 128, 17\n",
      "2023-06-04 11:32:16.862425: E tensorflow/core/common_runtime/gpu/gpu_cudamallocasync_allocator.cc:59] 256, 11\n",
      "2023-06-04 11:32:16.862428: E tensorflow/core/common_runtime/gpu/gpu_cudamallocasync_allocator.cc:59] 512, 11\n",
      "2023-06-04 11:32:16.862431: E tensorflow/core/common_runtime/gpu/gpu_cudamallocasync_allocator.cc:59] 1024, 18\n",
      "2023-06-04 11:32:16.862434: E tensorflow/core/common_runtime/gpu/gpu_cudamallocasync_allocator.cc:59] 1028, 1\n",
      "2023-06-04 11:32:16.862438: E tensorflow/core/common_runtime/gpu/gpu_cudamallocasync_allocator.cc:59] 4096, 4\n",
      "2023-06-04 11:32:16.862441: E tensorflow/core/common_runtime/gpu/gpu_cudamallocasync_allocator.cc:59] 5120, 3\n",
      "2023-06-04 11:32:16.862445: E tensorflow/core/common_runtime/gpu/gpu_cudamallocasync_allocator.cc:59] 20480, 3\n",
      "2023-06-04 11:32:16.862448: E tensorflow/core/common_runtime/gpu/gpu_cudamallocasync_allocator.cc:59] 40960, 3\n",
      "2023-06-04 11:32:16.862452: E tensorflow/core/common_runtime/gpu/gpu_cudamallocasync_allocator.cc:59] 82944, 1\n",
      "2023-06-04 11:32:16.862456: E tensorflow/core/common_runtime/gpu/gpu_cudamallocasync_allocator.cc:59] 163840, 3\n",
      "2023-06-04 11:32:16.862459: E tensorflow/core/common_runtime/gpu/gpu_cudamallocasync_allocator.cc:59] 655360, 4\n",
      "2023-06-04 11:32:16.862463: E tensorflow/core/common_runtime/gpu/gpu_cudamallocasync_allocator.cc:59] 875648, 1\n",
      "2023-06-04 11:32:16.862466: E tensorflow/core/common_runtime/gpu/gpu_cudamallocasync_allocator.cc:59] 2162688, 1\n",
      "2023-06-04 11:32:16.862469: E tensorflow/core/common_runtime/gpu/gpu_cudamallocasync_allocator.cc:59] 4325376, 3\n",
      "2023-06-04 11:32:16.862473: E tensorflow/core/common_runtime/gpu/gpu_cudamallocasync_allocator.cc:59] 17731872, 1\n",
      "2023-06-04 11:32:16.862476: E tensorflow/core/common_runtime/gpu/gpu_cudamallocasync_allocator.cc:59] 18939904, 1\n",
      "2023-06-04 11:32:16.862480: E tensorflow/core/common_runtime/gpu/gpu_cudamallocasync_allocator.cc:59] 21233664, 2\n",
      "2023-06-04 11:32:16.862631: E tensorflow/core/common_runtime/gpu/gpu_cudamallocasync_allocator.cc:288] gpu_async_0 cuMemAllocAsync failed to allocate 2232025088 bytes: CUDA error: out of memory (CUDA_ERROR_OUT_OF_MEMORY)\n",
      " Reported by CUDA: Free memory/Total memory: 33554432/4100456448\n",
      "2023-06-04 11:32:16.862641: E tensorflow/core/common_runtime/gpu/gpu_cudamallocasync_allocator.cc:293] Stats: Limit:                      1074790400\n",
      "InUse:                        98595920\n",
      "MaxInUse:                    122516576\n",
      "NumAllocs:                         201\n",
      "MaxAllocSize:                 38010880\n",
      "Reserved:                            0\n",
      "PeakReserved:                        0\n",
      "LargestFreeBlock:                    0\n",
      "\n",
      "2023-06-04 11:32:16.862650: E tensorflow/core/common_runtime/gpu/gpu_cudamallocasync_allocator.cc:56] Histogram of current allocation: (allocation_size_in_bytes, nb_allocation_of_that_sizes), ...;\n",
      "2023-06-04 11:32:16.862654: E tensorflow/core/common_runtime/gpu/gpu_cudamallocasync_allocator.cc:59] 4, 39\n",
      "2023-06-04 11:32:16.862657: E tensorflow/core/common_runtime/gpu/gpu_cudamallocasync_allocator.cc:59] 8, 6\n",
      "2023-06-04 11:32:16.862660: E tensorflow/core/common_runtime/gpu/gpu_cudamallocasync_allocator.cc:59] 32, 3\n",
      "2023-06-04 11:32:16.862666: E tensorflow/core/common_runtime/gpu/gpu_cudamallocasync_allocator.cc:59] 128, 17\n",
      "2023-06-04 11:32:16.862669: E tensorflow/core/common_runtime/gpu/gpu_cudamallocasync_allocator.cc:59] 256, 11\n",
      "2023-06-04 11:32:16.862673: E tensorflow/core/common_runtime/gpu/gpu_cudamallocasync_allocator.cc:59] 512, 11\n",
      "2023-06-04 11:32:16.862676: E tensorflow/core/common_runtime/gpu/gpu_cudamallocasync_allocator.cc:59] 1024, 18\n",
      "2023-06-04 11:32:16.862679: E tensorflow/core/common_runtime/gpu/gpu_cudamallocasync_allocator.cc:59] 1028, 1\n",
      "2023-06-04 11:32:16.862683: E tensorflow/core/common_runtime/gpu/gpu_cudamallocasync_allocator.cc:59] 4096, 4\n",
      "2023-06-04 11:32:16.862686: E tensorflow/core/common_runtime/gpu/gpu_cudamallocasync_allocator.cc:59] 5120, 3\n",
      "2023-06-04 11:32:16.862689: E tensorflow/core/common_runtime/gpu/gpu_cudamallocasync_allocator.cc:59] 20480, 3\n",
      "2023-06-04 11:32:16.862693: E tensorflow/core/common_runtime/gpu/gpu_cudamallocasync_allocator.cc:59] 40960, 3\n",
      "2023-06-04 11:32:16.862696: E tensorflow/core/common_runtime/gpu/gpu_cudamallocasync_allocator.cc:59] 82944, 1\n",
      "2023-06-04 11:32:16.862700: E tensorflow/core/common_runtime/gpu/gpu_cudamallocasync_allocator.cc:59] 163840, 3\n",
      "2023-06-04 11:32:16.862703: E tensorflow/core/common_runtime/gpu/gpu_cudamallocasync_allocator.cc:59] 655360, 4\n",
      "2023-06-04 11:32:16.862706: E tensorflow/core/common_runtime/gpu/gpu_cudamallocasync_allocator.cc:59] 875648, 1\n",
      "2023-06-04 11:32:16.862710: E tensorflow/core/common_runtime/gpu/gpu_cudamallocasync_allocator.cc:59] 2162688, 1\n",
      "2023-06-04 11:32:16.862714: E tensorflow/core/common_runtime/gpu/gpu_cudamallocasync_allocator.cc:59] 4325376, 3\n",
      "2023-06-04 11:32:16.862717: E tensorflow/core/common_runtime/gpu/gpu_cudamallocasync_allocator.cc:59] 17731872, 1\n",
      "2023-06-04 11:32:16.862722: E tensorflow/core/common_runtime/gpu/gpu_cudamallocasync_allocator.cc:59] 18939904, 1\n",
      "2023-06-04 11:32:16.862725: E tensorflow/core/common_runtime/gpu/gpu_cudamallocasync_allocator.cc:59] 21233664, 2\n",
      "2023-06-04 11:32:16.919670: I tensorflow/compiler/xla/stream_executor/cuda/cuda_blas.cc:630] TensorFloat-32 will be used for the matrix multiplication. This will only be logged once.\n",
      "2023-06-04 11:32:18.271018: E tensorflow/core/common_runtime/gpu/gpu_cudamallocasync_allocator.cc:288] gpu_async_0 cuMemAllocAsync failed to allocate 1678376960 bytes: CUDA error: out of memory (CUDA_ERROR_OUT_OF_MEMORY)\n",
      " Reported by CUDA: Free memory/Total memory: 27262976/4100456448\n",
      "2023-06-04 11:32:18.271048: E tensorflow/core/common_runtime/gpu/gpu_cudamallocasync_allocator.cc:293] Stats: Limit:                      1074790400\n",
      "InUse:                       109404252\n",
      "MaxInUse:                    174237284\n",
      "NumAllocs:                         531\n",
      "MaxAllocSize:                 73629696\n",
      "Reserved:                            0\n",
      "PeakReserved:                        0\n",
      "LargestFreeBlock:                    0\n",
      "\n",
      "2023-06-04 11:32:18.271060: E tensorflow/core/common_runtime/gpu/gpu_cudamallocasync_allocator.cc:56] Histogram of current allocation: (allocation_size_in_bytes, nb_allocation_of_that_sizes), ...;\n",
      "2023-06-04 11:32:18.271063: E tensorflow/core/common_runtime/gpu/gpu_cudamallocasync_allocator.cc:59] 4, 40\n",
      "2023-06-04 11:32:18.271066: E tensorflow/core/common_runtime/gpu/gpu_cudamallocasync_allocator.cc:59] 8, 7\n",
      "2023-06-04 11:32:18.271068: E tensorflow/core/common_runtime/gpu/gpu_cudamallocasync_allocator.cc:59] 32, 3\n",
      "2023-06-04 11:32:18.271071: E tensorflow/core/common_runtime/gpu/gpu_cudamallocasync_allocator.cc:59] 128, 17\n",
      "2023-06-04 11:32:18.271073: E tensorflow/core/common_runtime/gpu/gpu_cudamallocasync_allocator.cc:59] 256, 11\n",
      "2023-06-04 11:32:18.271075: E tensorflow/core/common_runtime/gpu/gpu_cudamallocasync_allocator.cc:59] 512, 11\n",
      "2023-06-04 11:32:18.271077: E tensorflow/core/common_runtime/gpu/gpu_cudamallocasync_allocator.cc:59] 1024, 17\n",
      "2023-06-04 11:32:18.271079: E tensorflow/core/common_runtime/gpu/gpu_cudamallocasync_allocator.cc:59] 1028, 1\n",
      "2023-06-04 11:32:18.271082: E tensorflow/core/common_runtime/gpu/gpu_cudamallocasync_allocator.cc:59] 4096, 3\n",
      "2023-06-04 11:32:18.271084: E tensorflow/core/common_runtime/gpu/gpu_cudamallocasync_allocator.cc:59] 5120, 3\n",
      "2023-06-04 11:32:18.271086: E tensorflow/core/common_runtime/gpu/gpu_cudamallocasync_allocator.cc:59] 20480, 3\n",
      "2023-06-04 11:32:18.271088: E tensorflow/core/common_runtime/gpu/gpu_cudamallocasync_allocator.cc:59] 40960, 3\n",
      "2023-06-04 11:32:18.271091: E tensorflow/core/common_runtime/gpu/gpu_cudamallocasync_allocator.cc:59] 82944, 1\n",
      "2023-06-04 11:32:18.271093: E tensorflow/core/common_runtime/gpu/gpu_cudamallocasync_allocator.cc:59] 163840, 3\n",
      "2023-06-04 11:32:18.271095: E tensorflow/core/common_runtime/gpu/gpu_cudamallocasync_allocator.cc:59] 655360, 4\n",
      "2023-06-04 11:32:18.271097: E tensorflow/core/common_runtime/gpu/gpu_cudamallocasync_allocator.cc:59] 875648, 1\n",
      "2023-06-04 11:32:18.271099: E tensorflow/core/common_runtime/gpu/gpu_cudamallocasync_allocator.cc:59] 2162688, 1\n",
      "2023-06-04 11:32:18.271102: E tensorflow/core/common_runtime/gpu/gpu_cudamallocasync_allocator.cc:59] 4325376, 5\n",
      "2023-06-04 11:32:18.271104: E tensorflow/core/common_runtime/gpu/gpu_cudamallocasync_allocator.cc:59] 17731872, 1\n",
      "2023-06-04 11:32:18.271106: E tensorflow/core/common_runtime/gpu/gpu_cudamallocasync_allocator.cc:59] 21102592, 1\n",
      "2023-06-04 11:32:18.271108: E tensorflow/core/common_runtime/gpu/gpu_cudamallocasync_allocator.cc:59] 21233664, 2\n",
      "2023-06-04 11:32:18.271197: E tensorflow/core/common_runtime/gpu/gpu_cudamallocasync_allocator.cc:288] gpu_async_0 cuMemAllocAsync failed to allocate 1678376960 bytes: CUDA error: out of memory (CUDA_ERROR_OUT_OF_MEMORY)\n",
      " Reported by CUDA: Free memory/Total memory: 27262976/4100456448\n",
      "2023-06-04 11:32:18.271202: E tensorflow/core/common_runtime/gpu/gpu_cudamallocasync_allocator.cc:293] Stats: Limit:                      1074790400\n",
      "InUse:                       109404252\n",
      "MaxInUse:                    174237284\n",
      "NumAllocs:                         531\n",
      "MaxAllocSize:                 73629696\n",
      "Reserved:                            0\n",
      "PeakReserved:                        0\n",
      "LargestFreeBlock:                    0\n",
      "\n",
      "2023-06-04 11:32:18.271208: E tensorflow/core/common_runtime/gpu/gpu_cudamallocasync_allocator.cc:56] Histogram of current allocation: (allocation_size_in_bytes, nb_allocation_of_that_sizes), ...;\n",
      "2023-06-04 11:32:18.271211: E tensorflow/core/common_runtime/gpu/gpu_cudamallocasync_allocator.cc:59] 4, 40\n",
      "2023-06-04 11:32:18.271214: E tensorflow/core/common_runtime/gpu/gpu_cudamallocasync_allocator.cc:59] 8, 7\n",
      "2023-06-04 11:32:18.271216: E tensorflow/core/common_runtime/gpu/gpu_cudamallocasync_allocator.cc:59] 32, 3\n",
      "2023-06-04 11:32:18.271219: E tensorflow/core/common_runtime/gpu/gpu_cudamallocasync_allocator.cc:59] 128, 17\n",
      "2023-06-04 11:32:18.271221: E tensorflow/core/common_runtime/gpu/gpu_cudamallocasync_allocator.cc:59] 256, 11\n",
      "2023-06-04 11:32:18.271223: E tensorflow/core/common_runtime/gpu/gpu_cudamallocasync_allocator.cc:59] 512, 11\n",
      "2023-06-04 11:32:18.271226: E tensorflow/core/common_runtime/gpu/gpu_cudamallocasync_allocator.cc:59] 1024, 17\n",
      "2023-06-04 11:32:18.271228: E tensorflow/core/common_runtime/gpu/gpu_cudamallocasync_allocator.cc:59] 1028, 1\n",
      "2023-06-04 11:32:18.271230: E tensorflow/core/common_runtime/gpu/gpu_cudamallocasync_allocator.cc:59] 4096, 3\n",
      "2023-06-04 11:32:18.271233: E tensorflow/core/common_runtime/gpu/gpu_cudamallocasync_allocator.cc:59] 5120, 3\n",
      "2023-06-04 11:32:18.271235: E tensorflow/core/common_runtime/gpu/gpu_cudamallocasync_allocator.cc:59] 20480, 3\n",
      "2023-06-04 11:32:18.271237: E tensorflow/core/common_runtime/gpu/gpu_cudamallocasync_allocator.cc:59] 40960, 3\n",
      "2023-06-04 11:32:18.271240: E tensorflow/core/common_runtime/gpu/gpu_cudamallocasync_allocator.cc:59] 82944, 1\n",
      "2023-06-04 11:32:18.271242: E tensorflow/core/common_runtime/gpu/gpu_cudamallocasync_allocator.cc:59] 163840, 3\n",
      "2023-06-04 11:32:18.271245: E tensorflow/core/common_runtime/gpu/gpu_cudamallocasync_allocator.cc:59] 655360, 4\n",
      "2023-06-04 11:32:18.271247: E tensorflow/core/common_runtime/gpu/gpu_cudamallocasync_allocator.cc:59] 875648, 1\n",
      "2023-06-04 11:32:18.271249: E tensorflow/core/common_runtime/gpu/gpu_cudamallocasync_allocator.cc:59] 2162688, 1\n",
      "2023-06-04 11:32:18.271252: E tensorflow/core/common_runtime/gpu/gpu_cudamallocasync_allocator.cc:59] 4325376, 5\n",
      "2023-06-04 11:32:18.271254: E tensorflow/core/common_runtime/gpu/gpu_cudamallocasync_allocator.cc:59] 17731872, 1\n",
      "2023-06-04 11:32:18.271256: E tensorflow/core/common_runtime/gpu/gpu_cudamallocasync_allocator.cc:59] 21102592, 1\n",
      "2023-06-04 11:32:18.271259: E tensorflow/core/common_runtime/gpu/gpu_cudamallocasync_allocator.cc:59] 21233664, 2\n",
      "2023-06-04 11:32:18.283098: E tensorflow/core/common_runtime/gpu/gpu_cudamallocasync_allocator.cc:288] gpu_async_0 cuMemAllocAsync failed to allocate 1679884288 bytes: CUDA error: out of memory (CUDA_ERROR_OUT_OF_MEMORY)\n",
      " Reported by CUDA: Free memory/Total memory: 27262976/4100456448\n",
      "2023-06-04 11:32:18.283122: E tensorflow/core/common_runtime/gpu/gpu_cudamallocasync_allocator.cc:293] Stats: Limit:                      1074790400\n",
      "InUse:                       102064220\n",
      "MaxInUse:                    174237284\n",
      "NumAllocs:                         541\n",
      "MaxAllocSize:                 73629696\n",
      "Reserved:                            0\n",
      "PeakReserved:                        0\n",
      "LargestFreeBlock:                    0\n",
      "\n",
      "2023-06-04 11:32:18.283132: E tensorflow/core/common_runtime/gpu/gpu_cudamallocasync_allocator.cc:56] Histogram of current allocation: (allocation_size_in_bytes, nb_allocation_of_that_sizes), ...;\n",
      "2023-06-04 11:32:18.283135: E tensorflow/core/common_runtime/gpu/gpu_cudamallocasync_allocator.cc:59] 4, 40\n",
      "2023-06-04 11:32:18.283138: E tensorflow/core/common_runtime/gpu/gpu_cudamallocasync_allocator.cc:59] 8, 7\n",
      "2023-06-04 11:32:18.283140: E tensorflow/core/common_runtime/gpu/gpu_cudamallocasync_allocator.cc:59] 32, 3\n",
      "2023-06-04 11:32:18.283142: E tensorflow/core/common_runtime/gpu/gpu_cudamallocasync_allocator.cc:59] 128, 17\n",
      "2023-06-04 11:32:18.283145: E tensorflow/core/common_runtime/gpu/gpu_cudamallocasync_allocator.cc:59] 256, 11\n",
      "2023-06-04 11:32:18.283147: E tensorflow/core/common_runtime/gpu/gpu_cudamallocasync_allocator.cc:59] 512, 11\n",
      "2023-06-04 11:32:18.283149: E tensorflow/core/common_runtime/gpu/gpu_cudamallocasync_allocator.cc:59] 1024, 17\n",
      "2023-06-04 11:32:18.283151: E tensorflow/core/common_runtime/gpu/gpu_cudamallocasync_allocator.cc:59] 1028, 1\n",
      "2023-06-04 11:32:18.283154: E tensorflow/core/common_runtime/gpu/gpu_cudamallocasync_allocator.cc:59] 4096, 3\n",
      "2023-06-04 11:32:18.283156: E tensorflow/core/common_runtime/gpu/gpu_cudamallocasync_allocator.cc:59] 5120, 3\n",
      "2023-06-04 11:32:18.283158: E tensorflow/core/common_runtime/gpu/gpu_cudamallocasync_allocator.cc:59] 20480, 3\n",
      "2023-06-04 11:32:18.283160: E tensorflow/core/common_runtime/gpu/gpu_cudamallocasync_allocator.cc:59] 40960, 3\n",
      "2023-06-04 11:32:18.283162: E tensorflow/core/common_runtime/gpu/gpu_cudamallocasync_allocator.cc:59] 82944, 1\n",
      "2023-06-04 11:32:18.283165: E tensorflow/core/common_runtime/gpu/gpu_cudamallocasync_allocator.cc:59] 163840, 3\n",
      "2023-06-04 11:32:18.283167: E tensorflow/core/common_runtime/gpu/gpu_cudamallocasync_allocator.cc:59] 655360, 5\n",
      "2023-06-04 11:32:18.283169: E tensorflow/core/common_runtime/gpu/gpu_cudamallocasync_allocator.cc:59] 875648, 1\n",
      "2023-06-04 11:32:18.283171: E tensorflow/core/common_runtime/gpu/gpu_cudamallocasync_allocator.cc:59] 2162688, 1\n",
      "2023-06-04 11:32:18.283174: E tensorflow/core/common_runtime/gpu/gpu_cudamallocasync_allocator.cc:59] 4325376, 4\n",
      "2023-06-04 11:32:18.283176: E tensorflow/core/common_runtime/gpu/gpu_cudamallocasync_allocator.cc:59] 17432576, 1\n",
      "2023-06-04 11:32:18.283178: E tensorflow/core/common_runtime/gpu/gpu_cudamallocasync_allocator.cc:59] 17731872, 1\n",
      "2023-06-04 11:32:18.283180: E tensorflow/core/common_runtime/gpu/gpu_cudamallocasync_allocator.cc:59] 21233664, 2\n",
      "2023-06-04 11:32:18.283265: E tensorflow/core/common_runtime/gpu/gpu_cudamallocasync_allocator.cc:288] gpu_async_0 cuMemAllocAsync failed to allocate 1679884288 bytes: CUDA error: out of memory (CUDA_ERROR_OUT_OF_MEMORY)\n",
      " Reported by CUDA: Free memory/Total memory: 27262976/4100456448\n",
      "2023-06-04 11:32:18.283269: E tensorflow/core/common_runtime/gpu/gpu_cudamallocasync_allocator.cc:293] Stats: Limit:                      1074790400\n",
      "InUse:                       102064220\n",
      "MaxInUse:                    174237284\n",
      "NumAllocs:                         541\n",
      "MaxAllocSize:                 73629696\n",
      "Reserved:                            0\n",
      "PeakReserved:                        0\n",
      "LargestFreeBlock:                    0\n",
      "\n",
      "2023-06-04 11:32:18.283275: E tensorflow/core/common_runtime/gpu/gpu_cudamallocasync_allocator.cc:56] Histogram of current allocation: (allocation_size_in_bytes, nb_allocation_of_that_sizes), ...;\n",
      "2023-06-04 11:32:18.283277: E tensorflow/core/common_runtime/gpu/gpu_cudamallocasync_allocator.cc:59] 4, 40\n",
      "2023-06-04 11:32:18.283280: E tensorflow/core/common_runtime/gpu/gpu_cudamallocasync_allocator.cc:59] 8, 7\n",
      "2023-06-04 11:32:18.283282: E tensorflow/core/common_runtime/gpu/gpu_cudamallocasync_allocator.cc:59] 32, 3\n",
      "2023-06-04 11:32:18.283284: E tensorflow/core/common_runtime/gpu/gpu_cudamallocasync_allocator.cc:59] 128, 17\n",
      "2023-06-04 11:32:18.283287: E tensorflow/core/common_runtime/gpu/gpu_cudamallocasync_allocator.cc:59] 256, 11\n",
      "2023-06-04 11:32:18.283289: E tensorflow/core/common_runtime/gpu/gpu_cudamallocasync_allocator.cc:59] 512, 11\n",
      "2023-06-04 11:32:18.283292: E tensorflow/core/common_runtime/gpu/gpu_cudamallocasync_allocator.cc:59] 1024, 17\n",
      "2023-06-04 11:32:18.283294: E tensorflow/core/common_runtime/gpu/gpu_cudamallocasync_allocator.cc:59] 1028, 1\n",
      "2023-06-04 11:32:18.283296: E tensorflow/core/common_runtime/gpu/gpu_cudamallocasync_allocator.cc:59] 4096, 3\n",
      "2023-06-04 11:32:18.283299: E tensorflow/core/common_runtime/gpu/gpu_cudamallocasync_allocator.cc:59] 5120, 3\n",
      "2023-06-04 11:32:18.283301: E tensorflow/core/common_runtime/gpu/gpu_cudamallocasync_allocator.cc:59] 20480, 3\n",
      "2023-06-04 11:32:18.283304: E tensorflow/core/common_runtime/gpu/gpu_cudamallocasync_allocator.cc:59] 40960, 3\n",
      "2023-06-04 11:32:18.283306: E tensorflow/core/common_runtime/gpu/gpu_cudamallocasync_allocator.cc:59] 82944, 1\n",
      "2023-06-04 11:32:18.283310: E tensorflow/core/common_runtime/gpu/gpu_cudamallocasync_allocator.cc:59] 163840, 3\n",
      "2023-06-04 11:32:18.283312: E tensorflow/core/common_runtime/gpu/gpu_cudamallocasync_allocator.cc:59] 655360, 5\n",
      "2023-06-04 11:32:18.283314: E tensorflow/core/common_runtime/gpu/gpu_cudamallocasync_allocator.cc:59] 875648, 1\n",
      "2023-06-04 11:32:18.283317: E tensorflow/core/common_runtime/gpu/gpu_cudamallocasync_allocator.cc:59] 2162688, 1\n",
      "2023-06-04 11:32:18.283319: E tensorflow/core/common_runtime/gpu/gpu_cudamallocasync_allocator.cc:59] 4325376, 4\n",
      "2023-06-04 11:32:18.283321: E tensorflow/core/common_runtime/gpu/gpu_cudamallocasync_allocator.cc:59] 17432576, 1\n",
      "2023-06-04 11:32:18.283324: E tensorflow/core/common_runtime/gpu/gpu_cudamallocasync_allocator.cc:59] 17731872, 1\n",
      "2023-06-04 11:32:18.283326: E tensorflow/core/common_runtime/gpu/gpu_cudamallocasync_allocator.cc:59] 21233664, 2\n"
     ]
    },
    {
     "name": "stdout",
     "output_type": "stream",
     "text": [
      "214/214 [==============================] - ETA: 0s - loss: 1.8076 - accuracy: 0.2776"
     ]
    },
    {
     "name": "stderr",
     "output_type": "stream",
     "text": [
      "2023-06-04 11:32:20.764952: E tensorflow/core/common_runtime/gpu/gpu_cudamallocasync_allocator.cc:288] gpu_async_0 cuMemAllocAsync failed to allocate 1989804032 bytes: CUDA error: out of memory (CUDA_ERROR_OUT_OF_MEMORY)\n",
      " Reported by CUDA: Free memory/Total memory: 27262976/4100456448\n",
      "2023-06-04 11:32:20.764988: E tensorflow/core/common_runtime/gpu/gpu_cudamallocasync_allocator.cc:293] Stats: Limit:                      1074790400\n",
      "InUse:                        85502248\n",
      "MaxInUse:                    174237284\n",
      "NumAllocs:                       51729\n",
      "MaxAllocSize:                 73629696\n",
      "Reserved:                            0\n",
      "PeakReserved:                        0\n",
      "LargestFreeBlock:                    0\n",
      "\n",
      "2023-06-04 11:32:20.765000: E tensorflow/core/common_runtime/gpu/gpu_cudamallocasync_allocator.cc:56] Histogram of current allocation: (allocation_size_in_bytes, nb_allocation_of_that_sizes), ...;\n",
      "2023-06-04 11:32:20.765005: E tensorflow/core/common_runtime/gpu/gpu_cudamallocasync_allocator.cc:59] 4, 41\n",
      "2023-06-04 11:32:20.765008: E tensorflow/core/common_runtime/gpu/gpu_cudamallocasync_allocator.cc:59] 8, 8\n",
      "2023-06-04 11:32:20.765011: E tensorflow/core/common_runtime/gpu/gpu_cudamallocasync_allocator.cc:59] 32, 3\n",
      "2023-06-04 11:32:20.765013: E tensorflow/core/common_runtime/gpu/gpu_cudamallocasync_allocator.cc:59] 128, 17\n",
      "2023-06-04 11:32:20.765015: E tensorflow/core/common_runtime/gpu/gpu_cudamallocasync_allocator.cc:59] 256, 11\n",
      "2023-06-04 11:32:20.765018: E tensorflow/core/common_runtime/gpu/gpu_cudamallocasync_allocator.cc:59] 512, 11\n",
      "2023-06-04 11:32:20.765020: E tensorflow/core/common_runtime/gpu/gpu_cudamallocasync_allocator.cc:59] 800, 1\n",
      "2023-06-04 11:32:20.765023: E tensorflow/core/common_runtime/gpu/gpu_cudamallocasync_allocator.cc:59] 1024, 17\n",
      "2023-06-04 11:32:20.765025: E tensorflow/core/common_runtime/gpu/gpu_cudamallocasync_allocator.cc:59] 1028, 1\n",
      "2023-06-04 11:32:20.765027: E tensorflow/core/common_runtime/gpu/gpu_cudamallocasync_allocator.cc:59] 3200, 1\n",
      "2023-06-04 11:32:20.765030: E tensorflow/core/common_runtime/gpu/gpu_cudamallocasync_allocator.cc:59] 4096, 3\n",
      "2023-06-04 11:32:20.765032: E tensorflow/core/common_runtime/gpu/gpu_cudamallocasync_allocator.cc:59] 5120, 3\n",
      "2023-06-04 11:32:20.765035: E tensorflow/core/common_runtime/gpu/gpu_cudamallocasync_allocator.cc:59] 20480, 3\n",
      "2023-06-04 11:32:20.765037: E tensorflow/core/common_runtime/gpu/gpu_cudamallocasync_allocator.cc:59] 40960, 3\n",
      "2023-06-04 11:32:20.765039: E tensorflow/core/common_runtime/gpu/gpu_cudamallocasync_allocator.cc:59] 64800, 1\n",
      "2023-06-04 11:32:20.765042: E tensorflow/core/common_runtime/gpu/gpu_cudamallocasync_allocator.cc:59] 163840, 3\n",
      "2023-06-04 11:32:20.765044: E tensorflow/core/common_runtime/gpu/gpu_cudamallocasync_allocator.cc:59] 655360, 4\n",
      "2023-06-04 11:32:20.765047: E tensorflow/core/common_runtime/gpu/gpu_cudamallocasync_allocator.cc:59] 875648, 1\n",
      "2023-06-04 11:32:20.765049: E tensorflow/core/common_runtime/gpu/gpu_cudamallocasync_allocator.cc:59] 1689600, 1\n",
      "2023-06-04 11:32:20.765051: E tensorflow/core/common_runtime/gpu/gpu_cudamallocasync_allocator.cc:59] 3379200, 3\n",
      "2023-06-04 11:32:20.765054: E tensorflow/core/common_runtime/gpu/gpu_cudamallocasync_allocator.cc:59] 16588800, 2\n",
      "2023-06-04 11:32:20.765056: E tensorflow/core/common_runtime/gpu/gpu_cudamallocasync_allocator.cc:59] 17731872, 1\n",
      "2023-06-04 11:32:20.765059: E tensorflow/core/common_runtime/gpu/gpu_cudamallocasync_allocator.cc:59] 18466816, 1\n",
      "2023-06-04 11:32:20.765178: E tensorflow/core/common_runtime/gpu/gpu_cudamallocasync_allocator.cc:288] gpu_async_0 cuMemAllocAsync failed to allocate 1989804032 bytes: CUDA error: out of memory (CUDA_ERROR_OUT_OF_MEMORY)\n",
      " Reported by CUDA: Free memory/Total memory: 27262976/4100456448\n",
      "2023-06-04 11:32:20.765184: E tensorflow/core/common_runtime/gpu/gpu_cudamallocasync_allocator.cc:293] Stats: Limit:                      1074790400\n",
      "InUse:                        85502248\n",
      "MaxInUse:                    174237284\n",
      "NumAllocs:                       51729\n",
      "MaxAllocSize:                 73629696\n",
      "Reserved:                            0\n",
      "PeakReserved:                        0\n",
      "LargestFreeBlock:                    0\n",
      "\n",
      "2023-06-04 11:32:20.765190: E tensorflow/core/common_runtime/gpu/gpu_cudamallocasync_allocator.cc:56] Histogram of current allocation: (allocation_size_in_bytes, nb_allocation_of_that_sizes), ...;\n",
      "2023-06-04 11:32:20.765193: E tensorflow/core/common_runtime/gpu/gpu_cudamallocasync_allocator.cc:59] 4, 41\n",
      "2023-06-04 11:32:20.765196: E tensorflow/core/common_runtime/gpu/gpu_cudamallocasync_allocator.cc:59] 8, 8\n",
      "2023-06-04 11:32:20.765198: E tensorflow/core/common_runtime/gpu/gpu_cudamallocasync_allocator.cc:59] 32, 3\n",
      "2023-06-04 11:32:20.765201: E tensorflow/core/common_runtime/gpu/gpu_cudamallocasync_allocator.cc:59] 128, 17\n",
      "2023-06-04 11:32:20.765203: E tensorflow/core/common_runtime/gpu/gpu_cudamallocasync_allocator.cc:59] 256, 11\n",
      "2023-06-04 11:32:20.765207: E tensorflow/core/common_runtime/gpu/gpu_cudamallocasync_allocator.cc:59] 512, 11\n",
      "2023-06-04 11:32:20.765209: E tensorflow/core/common_runtime/gpu/gpu_cudamallocasync_allocator.cc:59] 800, 1\n",
      "2023-06-04 11:32:20.765212: E tensorflow/core/common_runtime/gpu/gpu_cudamallocasync_allocator.cc:59] 1024, 17\n",
      "2023-06-04 11:32:20.765214: E tensorflow/core/common_runtime/gpu/gpu_cudamallocasync_allocator.cc:59] 1028, 1\n",
      "2023-06-04 11:32:20.765216: E tensorflow/core/common_runtime/gpu/gpu_cudamallocasync_allocator.cc:59] 3200, 1\n",
      "2023-06-04 11:32:20.765219: E tensorflow/core/common_runtime/gpu/gpu_cudamallocasync_allocator.cc:59] 4096, 3\n",
      "2023-06-04 11:32:20.765221: E tensorflow/core/common_runtime/gpu/gpu_cudamallocasync_allocator.cc:59] 5120, 3\n",
      "2023-06-04 11:32:20.765223: E tensorflow/core/common_runtime/gpu/gpu_cudamallocasync_allocator.cc:59] 20480, 3\n",
      "2023-06-04 11:32:20.765226: E tensorflow/core/common_runtime/gpu/gpu_cudamallocasync_allocator.cc:59] 40960, 3\n",
      "2023-06-04 11:32:20.765228: E tensorflow/core/common_runtime/gpu/gpu_cudamallocasync_allocator.cc:59] 64800, 1\n",
      "2023-06-04 11:32:20.765231: E tensorflow/core/common_runtime/gpu/gpu_cudamallocasync_allocator.cc:59] 163840, 3\n",
      "2023-06-04 11:32:20.765233: E tensorflow/core/common_runtime/gpu/gpu_cudamallocasync_allocator.cc:59] 655360, 4\n",
      "2023-06-04 11:32:20.765235: E tensorflow/core/common_runtime/gpu/gpu_cudamallocasync_allocator.cc:59] 875648, 1\n",
      "2023-06-04 11:32:20.765238: E tensorflow/core/common_runtime/gpu/gpu_cudamallocasync_allocator.cc:59] 1689600, 1\n",
      "2023-06-04 11:32:20.765240: E tensorflow/core/common_runtime/gpu/gpu_cudamallocasync_allocator.cc:59] 3379200, 3\n",
      "2023-06-04 11:32:20.765243: E tensorflow/core/common_runtime/gpu/gpu_cudamallocasync_allocator.cc:59] 16588800, 2\n",
      "2023-06-04 11:32:20.765245: E tensorflow/core/common_runtime/gpu/gpu_cudamallocasync_allocator.cc:59] 17731872, 1\n",
      "2023-06-04 11:32:20.765247: E tensorflow/core/common_runtime/gpu/gpu_cudamallocasync_allocator.cc:59] 18466816, 1\n",
      "2023-06-04 11:32:20.881285: E tensorflow/core/common_runtime/gpu/gpu_cudamallocasync_allocator.cc:288] gpu_async_0 cuMemAllocAsync failed to allocate 1557266432 bytes: CUDA error: out of memory (CUDA_ERROR_OUT_OF_MEMORY)\n",
      " Reported by CUDA: Free memory/Total memory: 27262976/4100456448\n",
      "2023-06-04 11:32:20.881318: E tensorflow/core/common_runtime/gpu/gpu_cudamallocasync_allocator.cc:293] Stats: Limit:                      1074790400\n",
      "InUse:                        93946252\n",
      "MaxInUse:                    174237284\n",
      "NumAllocs:                       52007\n",
      "MaxAllocSize:                 73629696\n",
      "Reserved:                            0\n",
      "PeakReserved:                        0\n",
      "LargestFreeBlock:                    0\n",
      "\n",
      "2023-06-04 11:32:20.881332: E tensorflow/core/common_runtime/gpu/gpu_cudamallocasync_allocator.cc:56] Histogram of current allocation: (allocation_size_in_bytes, nb_allocation_of_that_sizes), ...;\n",
      "2023-06-04 11:32:20.881337: E tensorflow/core/common_runtime/gpu/gpu_cudamallocasync_allocator.cc:59] 4, 42\n",
      "2023-06-04 11:32:20.881341: E tensorflow/core/common_runtime/gpu/gpu_cudamallocasync_allocator.cc:59] 8, 8\n",
      "2023-06-04 11:32:20.881345: E tensorflow/core/common_runtime/gpu/gpu_cudamallocasync_allocator.cc:59] 32, 3\n",
      "2023-06-04 11:32:20.881348: E tensorflow/core/common_runtime/gpu/gpu_cudamallocasync_allocator.cc:59] 128, 17\n",
      "2023-06-04 11:32:20.881352: E tensorflow/core/common_runtime/gpu/gpu_cudamallocasync_allocator.cc:59] 256, 11\n",
      "2023-06-04 11:32:20.881355: E tensorflow/core/common_runtime/gpu/gpu_cudamallocasync_allocator.cc:59] 512, 11\n",
      "2023-06-04 11:32:20.881358: E tensorflow/core/common_runtime/gpu/gpu_cudamallocasync_allocator.cc:59] 1024, 17\n",
      "2023-06-04 11:32:20.881361: E tensorflow/core/common_runtime/gpu/gpu_cudamallocasync_allocator.cc:59] 1028, 1\n",
      "2023-06-04 11:32:20.881365: E tensorflow/core/common_runtime/gpu/gpu_cudamallocasync_allocator.cc:59] 4096, 3\n",
      "2023-06-04 11:32:20.881368: E tensorflow/core/common_runtime/gpu/gpu_cudamallocasync_allocator.cc:59] 5120, 3\n",
      "2023-06-04 11:32:20.881372: E tensorflow/core/common_runtime/gpu/gpu_cudamallocasync_allocator.cc:59] 20480, 3\n",
      "2023-06-04 11:32:20.881375: E tensorflow/core/common_runtime/gpu/gpu_cudamallocasync_allocator.cc:59] 40960, 3\n",
      "2023-06-04 11:32:20.881378: E tensorflow/core/common_runtime/gpu/gpu_cudamallocasync_allocator.cc:59] 64800, 1\n",
      "2023-06-04 11:32:20.881382: E tensorflow/core/common_runtime/gpu/gpu_cudamallocasync_allocator.cc:59] 163840, 3\n",
      "2023-06-04 11:32:20.881386: E tensorflow/core/common_runtime/gpu/gpu_cudamallocasync_allocator.cc:59] 655360, 4\n",
      "2023-06-04 11:32:20.881391: E tensorflow/core/common_runtime/gpu/gpu_cudamallocasync_allocator.cc:59] 875648, 1\n",
      "2023-06-04 11:32:20.881395: E tensorflow/core/common_runtime/gpu/gpu_cudamallocasync_allocator.cc:59] 1689600, 1\n",
      "2023-06-04 11:32:20.881399: E tensorflow/core/common_runtime/gpu/gpu_cudamallocasync_allocator.cc:59] 3379200, 5\n",
      "2023-06-04 11:32:20.881404: E tensorflow/core/common_runtime/gpu/gpu_cudamallocasync_allocator.cc:59] 16588800, 2\n",
      "2023-06-04 11:32:20.881408: E tensorflow/core/common_runtime/gpu/gpu_cudamallocasync_allocator.cc:59] 17731872, 1\n",
      "2023-06-04 11:32:20.881414: E tensorflow/core/common_runtime/gpu/gpu_cudamallocasync_allocator.cc:59] 20156416, 1\n",
      "2023-06-04 11:32:20.881532: E tensorflow/core/common_runtime/gpu/gpu_cudamallocasync_allocator.cc:288] gpu_async_0 cuMemAllocAsync failed to allocate 1557266432 bytes: CUDA error: out of memory (CUDA_ERROR_OUT_OF_MEMORY)\n",
      " Reported by CUDA: Free memory/Total memory: 27262976/4100456448\n",
      "2023-06-04 11:32:20.881539: E tensorflow/core/common_runtime/gpu/gpu_cudamallocasync_allocator.cc:293] Stats: Limit:                      1074790400\n",
      "InUse:                        93946252\n",
      "MaxInUse:                    174237284\n",
      "NumAllocs:                       52007\n",
      "MaxAllocSize:                 73629696\n",
      "Reserved:                            0\n",
      "PeakReserved:                        0\n",
      "LargestFreeBlock:                    0\n",
      "\n",
      "2023-06-04 11:32:20.881549: E tensorflow/core/common_runtime/gpu/gpu_cudamallocasync_allocator.cc:56] Histogram of current allocation: (allocation_size_in_bytes, nb_allocation_of_that_sizes), ...;\n",
      "2023-06-04 11:32:20.881553: E tensorflow/core/common_runtime/gpu/gpu_cudamallocasync_allocator.cc:59] 4, 42\n",
      "2023-06-04 11:32:20.881558: E tensorflow/core/common_runtime/gpu/gpu_cudamallocasync_allocator.cc:59] 8, 8\n",
      "2023-06-04 11:32:20.881562: E tensorflow/core/common_runtime/gpu/gpu_cudamallocasync_allocator.cc:59] 32, 3\n",
      "2023-06-04 11:32:20.881567: E tensorflow/core/common_runtime/gpu/gpu_cudamallocasync_allocator.cc:59] 128, 17\n",
      "2023-06-04 11:32:20.881571: E tensorflow/core/common_runtime/gpu/gpu_cudamallocasync_allocator.cc:59] 256, 11\n",
      "2023-06-04 11:32:20.881575: E tensorflow/core/common_runtime/gpu/gpu_cudamallocasync_allocator.cc:59] 512, 11\n",
      "2023-06-04 11:32:20.881581: E tensorflow/core/common_runtime/gpu/gpu_cudamallocasync_allocator.cc:59] 1024, 17\n",
      "2023-06-04 11:32:20.881585: E tensorflow/core/common_runtime/gpu/gpu_cudamallocasync_allocator.cc:59] 1028, 1\n",
      "2023-06-04 11:32:20.881589: E tensorflow/core/common_runtime/gpu/gpu_cudamallocasync_allocator.cc:59] 4096, 3\n",
      "2023-06-04 11:32:20.881594: E tensorflow/core/common_runtime/gpu/gpu_cudamallocasync_allocator.cc:59] 5120, 3\n",
      "2023-06-04 11:32:20.881598: E tensorflow/core/common_runtime/gpu/gpu_cudamallocasync_allocator.cc:59] 20480, 3\n",
      "2023-06-04 11:32:20.881603: E tensorflow/core/common_runtime/gpu/gpu_cudamallocasync_allocator.cc:59] 40960, 3\n",
      "2023-06-04 11:32:20.881607: E tensorflow/core/common_runtime/gpu/gpu_cudamallocasync_allocator.cc:59] 64800, 1\n",
      "2023-06-04 11:32:20.881612: E tensorflow/core/common_runtime/gpu/gpu_cudamallocasync_allocator.cc:59] 163840, 3\n",
      "2023-06-04 11:32:20.881617: E tensorflow/core/common_runtime/gpu/gpu_cudamallocasync_allocator.cc:59] 655360, 4\n",
      "2023-06-04 11:32:20.881621: E tensorflow/core/common_runtime/gpu/gpu_cudamallocasync_allocator.cc:59] 875648, 1\n",
      "2023-06-04 11:32:20.881626: E tensorflow/core/common_runtime/gpu/gpu_cudamallocasync_allocator.cc:59] 1689600, 1\n",
      "2023-06-04 11:32:20.881631: E tensorflow/core/common_runtime/gpu/gpu_cudamallocasync_allocator.cc:59] 3379200, 5\n",
      "2023-06-04 11:32:20.881635: E tensorflow/core/common_runtime/gpu/gpu_cudamallocasync_allocator.cc:59] 16588800, 2\n",
      "2023-06-04 11:32:20.881639: E tensorflow/core/common_runtime/gpu/gpu_cudamallocasync_allocator.cc:59] 17731872, 1\n",
      "2023-06-04 11:32:20.881644: E tensorflow/core/common_runtime/gpu/gpu_cudamallocasync_allocator.cc:59] 20156416, 1\n",
      "2023-06-04 11:32:20.892298: E tensorflow/core/common_runtime/gpu/gpu_cudamallocasync_allocator.cc:288] gpu_async_0 cuMemAllocAsync failed to allocate 1316079616 bytes: CUDA error: out of memory (CUDA_ERROR_OUT_OF_MEMORY)\n",
      " Reported by CUDA: Free memory/Total memory: 27262976/4100456448\n",
      "2023-06-04 11:32:20.892336: E tensorflow/core/common_runtime/gpu/gpu_cudamallocasync_allocator.cc:293] Stats: Limit:                      1074790400\n",
      "InUse:                        88498572\n",
      "MaxInUse:                    174237284\n",
      "NumAllocs:                       52017\n",
      "MaxAllocSize:                 73629696\n",
      "Reserved:                            0\n",
      "PeakReserved:                        0\n",
      "LargestFreeBlock:                    0\n",
      "\n",
      "2023-06-04 11:32:20.892348: E tensorflow/core/common_runtime/gpu/gpu_cudamallocasync_allocator.cc:56] Histogram of current allocation: (allocation_size_in_bytes, nb_allocation_of_that_sizes), ...;\n",
      "2023-06-04 11:32:20.892352: E tensorflow/core/common_runtime/gpu/gpu_cudamallocasync_allocator.cc:59] 4, 42\n",
      "2023-06-04 11:32:20.892354: E tensorflow/core/common_runtime/gpu/gpu_cudamallocasync_allocator.cc:59] 8, 8\n",
      "2023-06-04 11:32:20.892357: E tensorflow/core/common_runtime/gpu/gpu_cudamallocasync_allocator.cc:59] 32, 3\n",
      "2023-06-04 11:32:20.892359: E tensorflow/core/common_runtime/gpu/gpu_cudamallocasync_allocator.cc:59] 128, 17\n",
      "2023-06-04 11:32:20.892362: E tensorflow/core/common_runtime/gpu/gpu_cudamallocasync_allocator.cc:59] 256, 11\n",
      "2023-06-04 11:32:20.892364: E tensorflow/core/common_runtime/gpu/gpu_cudamallocasync_allocator.cc:59] 512, 11\n",
      "2023-06-04 11:32:20.892366: E tensorflow/core/common_runtime/gpu/gpu_cudamallocasync_allocator.cc:59] 1024, 17\n",
      "2023-06-04 11:32:20.892369: E tensorflow/core/common_runtime/gpu/gpu_cudamallocasync_allocator.cc:59] 1028, 1\n",
      "2023-06-04 11:32:20.892371: E tensorflow/core/common_runtime/gpu/gpu_cudamallocasync_allocator.cc:59] 4096, 3\n",
      "2023-06-04 11:32:20.892374: E tensorflow/core/common_runtime/gpu/gpu_cudamallocasync_allocator.cc:59] 5120, 3\n",
      "2023-06-04 11:32:20.892376: E tensorflow/core/common_runtime/gpu/gpu_cudamallocasync_allocator.cc:59] 20480, 3\n",
      "2023-06-04 11:32:20.892379: E tensorflow/core/common_runtime/gpu/gpu_cudamallocasync_allocator.cc:59] 40960, 3\n",
      "2023-06-04 11:32:20.892381: E tensorflow/core/common_runtime/gpu/gpu_cudamallocasync_allocator.cc:59] 64800, 1\n",
      "2023-06-04 11:32:20.892383: E tensorflow/core/common_runtime/gpu/gpu_cudamallocasync_allocator.cc:59] 163840, 3\n",
      "2023-06-04 11:32:20.892386: E tensorflow/core/common_runtime/gpu/gpu_cudamallocasync_allocator.cc:59] 655360, 5\n",
      "2023-06-04 11:32:20.892388: E tensorflow/core/common_runtime/gpu/gpu_cudamallocasync_allocator.cc:59] 875648, 1\n",
      "2023-06-04 11:32:20.892390: E tensorflow/core/common_runtime/gpu/gpu_cudamallocasync_allocator.cc:59] 1689600, 1\n",
      "2023-06-04 11:32:20.892393: E tensorflow/core/common_runtime/gpu/gpu_cudamallocasync_allocator.cc:59] 3379200, 4\n",
      "2023-06-04 11:32:20.892395: E tensorflow/core/common_runtime/gpu/gpu_cudamallocasync_allocator.cc:59] 16588800, 2\n",
      "2023-06-04 11:32:20.892398: E tensorflow/core/common_runtime/gpu/gpu_cudamallocasync_allocator.cc:59] 17432576, 1\n",
      "2023-06-04 11:32:20.892401: E tensorflow/core/common_runtime/gpu/gpu_cudamallocasync_allocator.cc:59] 17731872, 1\n",
      "2023-06-04 11:32:20.892505: E tensorflow/core/common_runtime/gpu/gpu_cudamallocasync_allocator.cc:288] gpu_async_0 cuMemAllocAsync failed to allocate 1316079616 bytes: CUDA error: out of memory (CUDA_ERROR_OUT_OF_MEMORY)\n",
      " Reported by CUDA: Free memory/Total memory: 27262976/4100456448\n",
      "2023-06-04 11:32:20.892510: E tensorflow/core/common_runtime/gpu/gpu_cudamallocasync_allocator.cc:293] Stats: Limit:                      1074790400\n",
      "InUse:                        88498572\n",
      "MaxInUse:                    174237284\n",
      "NumAllocs:                       52017\n",
      "MaxAllocSize:                 73629696\n",
      "Reserved:                            0\n",
      "PeakReserved:                        0\n",
      "LargestFreeBlock:                    0\n",
      "\n",
      "2023-06-04 11:32:20.892516: E tensorflow/core/common_runtime/gpu/gpu_cudamallocasync_allocator.cc:56] Histogram of current allocation: (allocation_size_in_bytes, nb_allocation_of_that_sizes), ...;\n",
      "2023-06-04 11:32:20.892519: E tensorflow/core/common_runtime/gpu/gpu_cudamallocasync_allocator.cc:59] 4, 42\n",
      "2023-06-04 11:32:20.892522: E tensorflow/core/common_runtime/gpu/gpu_cudamallocasync_allocator.cc:59] 8, 8\n",
      "2023-06-04 11:32:20.892524: E tensorflow/core/common_runtime/gpu/gpu_cudamallocasync_allocator.cc:59] 32, 3\n",
      "2023-06-04 11:32:20.892527: E tensorflow/core/common_runtime/gpu/gpu_cudamallocasync_allocator.cc:59] 128, 17\n",
      "2023-06-04 11:32:20.892529: E tensorflow/core/common_runtime/gpu/gpu_cudamallocasync_allocator.cc:59] 256, 11\n",
      "2023-06-04 11:32:20.892531: E tensorflow/core/common_runtime/gpu/gpu_cudamallocasync_allocator.cc:59] 512, 11\n",
      "2023-06-04 11:32:20.892534: E tensorflow/core/common_runtime/gpu/gpu_cudamallocasync_allocator.cc:59] 1024, 17\n",
      "2023-06-04 11:32:20.892536: E tensorflow/core/common_runtime/gpu/gpu_cudamallocasync_allocator.cc:59] 1028, 1\n",
      "2023-06-04 11:32:20.892539: E tensorflow/core/common_runtime/gpu/gpu_cudamallocasync_allocator.cc:59] 4096, 3\n",
      "2023-06-04 11:32:20.892541: E tensorflow/core/common_runtime/gpu/gpu_cudamallocasync_allocator.cc:59] 5120, 3\n",
      "2023-06-04 11:32:20.892544: E tensorflow/core/common_runtime/gpu/gpu_cudamallocasync_allocator.cc:59] 20480, 3\n",
      "2023-06-04 11:32:20.892546: E tensorflow/core/common_runtime/gpu/gpu_cudamallocasync_allocator.cc:59] 40960, 3\n",
      "2023-06-04 11:32:20.892549: E tensorflow/core/common_runtime/gpu/gpu_cudamallocasync_allocator.cc:59] 64800, 1\n",
      "2023-06-04 11:32:20.892551: E tensorflow/core/common_runtime/gpu/gpu_cudamallocasync_allocator.cc:59] 163840, 3\n",
      "2023-06-04 11:32:20.892553: E tensorflow/core/common_runtime/gpu/gpu_cudamallocasync_allocator.cc:59] 655360, 5\n",
      "2023-06-04 11:32:20.892556: E tensorflow/core/common_runtime/gpu/gpu_cudamallocasync_allocator.cc:59] 875648, 1\n",
      "2023-06-04 11:32:20.892559: E tensorflow/core/common_runtime/gpu/gpu_cudamallocasync_allocator.cc:59] 1689600, 1\n",
      "2023-06-04 11:32:20.892562: E tensorflow/core/common_runtime/gpu/gpu_cudamallocasync_allocator.cc:59] 3379200, 4\n",
      "2023-06-04 11:32:20.892564: E tensorflow/core/common_runtime/gpu/gpu_cudamallocasync_allocator.cc:59] 16588800, 2\n",
      "2023-06-04 11:32:20.892566: E tensorflow/core/common_runtime/gpu/gpu_cudamallocasync_allocator.cc:59] 17432576, 1\n",
      "2023-06-04 11:32:20.892569: E tensorflow/core/common_runtime/gpu/gpu_cudamallocasync_allocator.cc:59] 17731872, 1\n",
      "2023-06-04 11:32:21.362084: E tensorflow/core/common_runtime/gpu/gpu_cudamallocasync_allocator.cc:288] gpu_async_0 cuMemAllocAsync failed to allocate 1418854400 bytes: CUDA error: out of memory (CUDA_ERROR_OUT_OF_MEMORY)\n",
      " Reported by CUDA: Free memory/Total memory: 27262976/4100456448\n",
      "2023-06-04 11:32:21.362116: E tensorflow/core/common_runtime/gpu/gpu_cudamallocasync_allocator.cc:293] Stats: Limit:                      1074790400\n",
      "InUse:                        47239964\n",
      "MaxInUse:                    174237284\n",
      "NumAllocs:                       56859\n",
      "MaxAllocSize:                 73629696\n",
      "Reserved:                            0\n",
      "PeakReserved:                        0\n",
      "LargestFreeBlock:                    0\n",
      "\n",
      "2023-06-04 11:32:21.362127: E tensorflow/core/common_runtime/gpu/gpu_cudamallocasync_allocator.cc:56] Histogram of current allocation: (allocation_size_in_bytes, nb_allocation_of_that_sizes), ...;\n",
      "2023-06-04 11:32:21.362130: E tensorflow/core/common_runtime/gpu/gpu_cudamallocasync_allocator.cc:59] 4, 42\n",
      "2023-06-04 11:32:21.362133: E tensorflow/core/common_runtime/gpu/gpu_cudamallocasync_allocator.cc:59] 8, 10\n",
      "2023-06-04 11:32:21.362136: E tensorflow/core/common_runtime/gpu/gpu_cudamallocasync_allocator.cc:59] 32, 3\n",
      "2023-06-04 11:32:21.362138: E tensorflow/core/common_runtime/gpu/gpu_cudamallocasync_allocator.cc:59] 128, 19\n",
      "2023-06-04 11:32:21.362141: E tensorflow/core/common_runtime/gpu/gpu_cudamallocasync_allocator.cc:59] 256, 13\n",
      "2023-06-04 11:32:21.362143: E tensorflow/core/common_runtime/gpu/gpu_cudamallocasync_allocator.cc:59] 272, 1\n",
      "2023-06-04 11:32:21.362145: E tensorflow/core/common_runtime/gpu/gpu_cudamallocasync_allocator.cc:59] 512, 13\n",
      "2023-06-04 11:32:21.362148: E tensorflow/core/common_runtime/gpu/gpu_cudamallocasync_allocator.cc:59] 1024, 14\n",
      "2023-06-04 11:32:21.362150: E tensorflow/core/common_runtime/gpu/gpu_cudamallocasync_allocator.cc:59] 1028, 1\n",
      "2023-06-04 11:32:21.362153: E tensorflow/core/common_runtime/gpu/gpu_cudamallocasync_allocator.cc:59] 1088, 1\n",
      "2023-06-04 11:32:21.362155: E tensorflow/core/common_runtime/gpu/gpu_cudamallocasync_allocator.cc:59] 4096, 3\n",
      "2023-06-04 11:32:21.362157: E tensorflow/core/common_runtime/gpu/gpu_cudamallocasync_allocator.cc:59] 5120, 3\n",
      "2023-06-04 11:32:21.362160: E tensorflow/core/common_runtime/gpu/gpu_cudamallocasync_allocator.cc:59] 20480, 3\n",
      "2023-06-04 11:32:21.362162: E tensorflow/core/common_runtime/gpu/gpu_cudamallocasync_allocator.cc:59] 40960, 3\n",
      "2023-06-04 11:32:21.362165: E tensorflow/core/common_runtime/gpu/gpu_cudamallocasync_allocator.cc:59] 163840, 3\n",
      "2023-06-04 11:32:21.362167: E tensorflow/core/common_runtime/gpu/gpu_cudamallocasync_allocator.cc:59] 291904, 1\n",
      "2023-06-04 11:32:21.362169: E tensorflow/core/common_runtime/gpu/gpu_cudamallocasync_allocator.cc:59] 574464, 1\n",
      "2023-06-04 11:32:21.362172: E tensorflow/core/common_runtime/gpu/gpu_cudamallocasync_allocator.cc:59] 655360, 4\n",
      "2023-06-04 11:32:21.362174: E tensorflow/core/common_runtime/gpu/gpu_cudamallocasync_allocator.cc:59] 875648, 1\n",
      "2023-06-04 11:32:21.362177: E tensorflow/core/common_runtime/gpu/gpu_cudamallocasync_allocator.cc:59] 1148928, 1\n",
      "2023-06-04 11:32:21.362179: E tensorflow/core/common_runtime/gpu/gpu_cudamallocasync_allocator.cc:59] 5911056, 1\n",
      "2023-06-04 11:32:21.362181: E tensorflow/core/common_runtime/gpu/gpu_cudamallocasync_allocator.cc:59] 17351680, 1\n",
      "2023-06-04 11:32:21.362184: E tensorflow/core/common_runtime/gpu/gpu_cudamallocasync_allocator.cc:59] 17731872, 1\n",
      "2023-06-04 11:32:21.362277: E tensorflow/core/common_runtime/gpu/gpu_cudamallocasync_allocator.cc:288] gpu_async_0 cuMemAllocAsync failed to allocate 1418854400 bytes: CUDA error: out of memory (CUDA_ERROR_OUT_OF_MEMORY)\n",
      " Reported by CUDA: Free memory/Total memory: 27262976/4100456448\n",
      "2023-06-04 11:32:21.362282: E tensorflow/core/common_runtime/gpu/gpu_cudamallocasync_allocator.cc:293] Stats: Limit:                      1074790400\n",
      "InUse:                        47239964\n",
      "MaxInUse:                    174237284\n",
      "NumAllocs:                       56859\n",
      "MaxAllocSize:                 73629696\n",
      "Reserved:                            0\n",
      "PeakReserved:                        0\n",
      "LargestFreeBlock:                    0\n",
      "\n",
      "2023-06-04 11:32:21.362289: E tensorflow/core/common_runtime/gpu/gpu_cudamallocasync_allocator.cc:56] Histogram of current allocation: (allocation_size_in_bytes, nb_allocation_of_that_sizes), ...;\n",
      "2023-06-04 11:32:21.362292: E tensorflow/core/common_runtime/gpu/gpu_cudamallocasync_allocator.cc:59] 4, 42\n",
      "2023-06-04 11:32:21.362295: E tensorflow/core/common_runtime/gpu/gpu_cudamallocasync_allocator.cc:59] 8, 10\n",
      "2023-06-04 11:32:21.362298: E tensorflow/core/common_runtime/gpu/gpu_cudamallocasync_allocator.cc:59] 32, 3\n",
      "2023-06-04 11:32:21.362300: E tensorflow/core/common_runtime/gpu/gpu_cudamallocasync_allocator.cc:59] 128, 19\n",
      "2023-06-04 11:32:21.362303: E tensorflow/core/common_runtime/gpu/gpu_cudamallocasync_allocator.cc:59] 256, 13\n",
      "2023-06-04 11:32:21.362305: E tensorflow/core/common_runtime/gpu/gpu_cudamallocasync_allocator.cc:59] 272, 1\n",
      "2023-06-04 11:32:21.362307: E tensorflow/core/common_runtime/gpu/gpu_cudamallocasync_allocator.cc:59] 512, 13\n",
      "2023-06-04 11:32:21.362310: E tensorflow/core/common_runtime/gpu/gpu_cudamallocasync_allocator.cc:59] 1024, 14\n",
      "2023-06-04 11:32:21.362312: E tensorflow/core/common_runtime/gpu/gpu_cudamallocasync_allocator.cc:59] 1028, 1\n",
      "2023-06-04 11:32:21.362315: E tensorflow/core/common_runtime/gpu/gpu_cudamallocasync_allocator.cc:59] 1088, 1\n",
      "2023-06-04 11:32:21.362317: E tensorflow/core/common_runtime/gpu/gpu_cudamallocasync_allocator.cc:59] 4096, 3\n",
      "2023-06-04 11:32:21.362320: E tensorflow/core/common_runtime/gpu/gpu_cudamallocasync_allocator.cc:59] 5120, 3\n",
      "2023-06-04 11:32:21.362322: E tensorflow/core/common_runtime/gpu/gpu_cudamallocasync_allocator.cc:59] 20480, 3\n",
      "2023-06-04 11:32:21.362324: E tensorflow/core/common_runtime/gpu/gpu_cudamallocasync_allocator.cc:59] 40960, 3\n",
      "2023-06-04 11:32:21.362327: E tensorflow/core/common_runtime/gpu/gpu_cudamallocasync_allocator.cc:59] 163840, 3\n",
      "2023-06-04 11:32:21.362329: E tensorflow/core/common_runtime/gpu/gpu_cudamallocasync_allocator.cc:59] 291904, 1\n",
      "2023-06-04 11:32:21.362332: E tensorflow/core/common_runtime/gpu/gpu_cudamallocasync_allocator.cc:59] 574464, 1\n",
      "2023-06-04 11:32:21.362334: E tensorflow/core/common_runtime/gpu/gpu_cudamallocasync_allocator.cc:59] 655360, 4\n",
      "2023-06-04 11:32:21.362336: E tensorflow/core/common_runtime/gpu/gpu_cudamallocasync_allocator.cc:59] 875648, 1\n",
      "2023-06-04 11:32:21.362339: E tensorflow/core/common_runtime/gpu/gpu_cudamallocasync_allocator.cc:59] 1148928, 1\n",
      "2023-06-04 11:32:21.362341: E tensorflow/core/common_runtime/gpu/gpu_cudamallocasync_allocator.cc:59] 5911056, 1\n",
      "2023-06-04 11:32:21.362344: E tensorflow/core/common_runtime/gpu/gpu_cudamallocasync_allocator.cc:59] 17351680, 1\n",
      "2023-06-04 11:32:21.362346: E tensorflow/core/common_runtime/gpu/gpu_cudamallocasync_allocator.cc:59] 17731872, 1\n",
      "WARNING:absl:Found untraced functions such as _jit_compiled_convolution_op, _jit_compiled_convolution_op, _jit_compiled_convolution_op, _jit_compiled_convolution_op, _jit_compiled_convolution_op while saving (showing 5 of 5). These functions will not be directly callable after loading.\n"
     ]
    },
    {
     "name": "stdout",
     "output_type": "stream",
     "text": [
      "INFO:tensorflow:Assets written to: ../SpeechER/checkpoints/model4_best/assets\n"
     ]
    },
    {
     "name": "stderr",
     "output_type": "stream",
     "text": [
      "INFO:tensorflow:Assets written to: ../SpeechER/checkpoints/model4_best/assets\n"
     ]
    },
    {
     "name": "stdout",
     "output_type": "stream",
     "text": [
      "214/214 [==============================] - 9s 22ms/step - loss: 1.8076 - accuracy: 0.2776 - val_loss: 1.9395 - val_accuracy: 0.1930\n",
      "Epoch 2/100\n",
      "213/214 [============================>.] - ETA: 0s - loss: 1.5262 - accuracy: 0.3894"
     ]
    },
    {
     "name": "stderr",
     "output_type": "stream",
     "text": [
      "WARNING:absl:Found untraced functions such as _jit_compiled_convolution_op, _jit_compiled_convolution_op, _jit_compiled_convolution_op, _jit_compiled_convolution_op, _jit_compiled_convolution_op while saving (showing 5 of 5). These functions will not be directly callable after loading.\n"
     ]
    },
    {
     "name": "stdout",
     "output_type": "stream",
     "text": [
      "INFO:tensorflow:Assets written to: ../SpeechER/checkpoints/model4_best/assets\n"
     ]
    },
    {
     "name": "stderr",
     "output_type": "stream",
     "text": [
      "INFO:tensorflow:Assets written to: ../SpeechER/checkpoints/model4_best/assets\n"
     ]
    },
    {
     "name": "stdout",
     "output_type": "stream",
     "text": [
      "214/214 [==============================] - 4s 19ms/step - loss: 1.5257 - accuracy: 0.3895 - val_loss: 1.6512 - val_accuracy: 0.3617\n",
      "Epoch 3/100\n",
      "210/214 [============================>.] - ETA: 0s - loss: 1.4216 - accuracy: 0.4409"
     ]
    },
    {
     "name": "stderr",
     "output_type": "stream",
     "text": [
      "WARNING:absl:Found untraced functions such as _jit_compiled_convolution_op, _jit_compiled_convolution_op, _jit_compiled_convolution_op, _jit_compiled_convolution_op, _jit_compiled_convolution_op while saving (showing 5 of 5). These functions will not be directly callable after loading.\n"
     ]
    },
    {
     "name": "stdout",
     "output_type": "stream",
     "text": [
      "INFO:tensorflow:Assets written to: ../SpeechER/checkpoints/model4_best/assets\n"
     ]
    },
    {
     "name": "stderr",
     "output_type": "stream",
     "text": [
      "INFO:tensorflow:Assets written to: ../SpeechER/checkpoints/model4_best/assets\n"
     ]
    },
    {
     "name": "stdout",
     "output_type": "stream",
     "text": [
      "214/214 [==============================] - 4s 18ms/step - loss: 1.4211 - accuracy: 0.4408 - val_loss: 1.3877 - val_accuracy: 0.4581\n",
      "Epoch 4/100\n",
      "214/214 [==============================] - ETA: 0s - loss: 1.3536 - accuracy: 0.4660"
     ]
    },
    {
     "name": "stderr",
     "output_type": "stream",
     "text": [
      "WARNING:absl:Found untraced functions such as _jit_compiled_convolution_op, _jit_compiled_convolution_op, _jit_compiled_convolution_op, _jit_compiled_convolution_op, _jit_compiled_convolution_op while saving (showing 5 of 5). These functions will not be directly callable after loading.\n"
     ]
    },
    {
     "name": "stdout",
     "output_type": "stream",
     "text": [
      "INFO:tensorflow:Assets written to: ../SpeechER/checkpoints/model4_best/assets\n"
     ]
    },
    {
     "name": "stderr",
     "output_type": "stream",
     "text": [
      "INFO:tensorflow:Assets written to: ../SpeechER/checkpoints/model4_best/assets\n"
     ]
    },
    {
     "name": "stdout",
     "output_type": "stream",
     "text": [
      "214/214 [==============================] - 4s 18ms/step - loss: 1.3536 - accuracy: 0.4660 - val_loss: 1.2897 - val_accuracy: 0.4875\n",
      "Epoch 5/100\n",
      "211/214 [============================>.] - ETA: 0s - loss: 1.3069 - accuracy: 0.4817"
     ]
    },
    {
     "name": "stderr",
     "output_type": "stream",
     "text": [
      "WARNING:absl:Found untraced functions such as _jit_compiled_convolution_op, _jit_compiled_convolution_op, _jit_compiled_convolution_op, _jit_compiled_convolution_op, _jit_compiled_convolution_op while saving (showing 5 of 5). These functions will not be directly callable after loading.\n"
     ]
    },
    {
     "name": "stdout",
     "output_type": "stream",
     "text": [
      "INFO:tensorflow:Assets written to: ../SpeechER/checkpoints/model4_best/assets\n"
     ]
    },
    {
     "name": "stderr",
     "output_type": "stream",
     "text": [
      "INFO:tensorflow:Assets written to: ../SpeechER/checkpoints/model4_best/assets\n"
     ]
    },
    {
     "name": "stdout",
     "output_type": "stream",
     "text": [
      "214/214 [==============================] - 4s 19ms/step - loss: 1.3067 - accuracy: 0.4817 - val_loss: 1.2228 - val_accuracy: 0.5189\n",
      "Epoch 6/100\n",
      "212/214 [============================>.] - ETA: 0s - loss: 1.2728 - accuracy: 0.4977"
     ]
    },
    {
     "name": "stderr",
     "output_type": "stream",
     "text": [
      "WARNING:absl:Found untraced functions such as _jit_compiled_convolution_op, _jit_compiled_convolution_op, _jit_compiled_convolution_op, _jit_compiled_convolution_op, _jit_compiled_convolution_op while saving (showing 5 of 5). These functions will not be directly callable after loading.\n"
     ]
    },
    {
     "name": "stdout",
     "output_type": "stream",
     "text": [
      "INFO:tensorflow:Assets written to: ../SpeechER/checkpoints/model4_best/assets\n"
     ]
    },
    {
     "name": "stderr",
     "output_type": "stream",
     "text": [
      "INFO:tensorflow:Assets written to: ../SpeechER/checkpoints/model4_best/assets\n"
     ]
    },
    {
     "name": "stdout",
     "output_type": "stream",
     "text": [
      "214/214 [==============================] - 4s 18ms/step - loss: 1.2725 - accuracy: 0.4981 - val_loss: 1.2209 - val_accuracy: 0.5113\n",
      "Epoch 7/100\n",
      "212/214 [============================>.] - ETA: 0s - loss: 1.2449 - accuracy: 0.5056"
     ]
    },
    {
     "name": "stderr",
     "output_type": "stream",
     "text": [
      "WARNING:absl:Found untraced functions such as _jit_compiled_convolution_op, _jit_compiled_convolution_op, _jit_compiled_convolution_op, _jit_compiled_convolution_op, _jit_compiled_convolution_op while saving (showing 5 of 5). These functions will not be directly callable after loading.\n"
     ]
    },
    {
     "name": "stdout",
     "output_type": "stream",
     "text": [
      "INFO:tensorflow:Assets written to: ../SpeechER/checkpoints/model4_best/assets\n"
     ]
    },
    {
     "name": "stderr",
     "output_type": "stream",
     "text": [
      "INFO:tensorflow:Assets written to: ../SpeechER/checkpoints/model4_best/assets\n"
     ]
    },
    {
     "name": "stdout",
     "output_type": "stream",
     "text": [
      "214/214 [==============================] - 4s 18ms/step - loss: 1.2454 - accuracy: 0.5054 - val_loss: 1.1900 - val_accuracy: 0.5334\n",
      "Epoch 8/100\n",
      "213/214 [============================>.] - ETA: 0s - loss: 1.2325 - accuracy: 0.5120"
     ]
    },
    {
     "name": "stderr",
     "output_type": "stream",
     "text": [
      "WARNING:absl:Found untraced functions such as _jit_compiled_convolution_op, _jit_compiled_convolution_op, _jit_compiled_convolution_op, _jit_compiled_convolution_op, _jit_compiled_convolution_op while saving (showing 5 of 5). These functions will not be directly callable after loading.\n"
     ]
    },
    {
     "name": "stdout",
     "output_type": "stream",
     "text": [
      "INFO:tensorflow:Assets written to: ../SpeechER/checkpoints/model4_best/assets\n"
     ]
    },
    {
     "name": "stderr",
     "output_type": "stream",
     "text": [
      "INFO:tensorflow:Assets written to: ../SpeechER/checkpoints/model4_best/assets\n"
     ]
    },
    {
     "name": "stdout",
     "output_type": "stream",
     "text": [
      "214/214 [==============================] - 4s 18ms/step - loss: 1.2323 - accuracy: 0.5122 - val_loss: 1.1706 - val_accuracy: 0.5417\n",
      "Epoch 9/100\n",
      "214/214 [==============================] - 2s 11ms/step - loss: 1.2162 - accuracy: 0.5184 - val_loss: 1.1790 - val_accuracy: 0.5243\n",
      "Epoch 10/100\n",
      "209/214 [============================>.] - ETA: 0s - loss: 1.2018 - accuracy: 0.5228"
     ]
    },
    {
     "name": "stderr",
     "output_type": "stream",
     "text": [
      "WARNING:absl:Found untraced functions such as _jit_compiled_convolution_op, _jit_compiled_convolution_op, _jit_compiled_convolution_op, _jit_compiled_convolution_op, _jit_compiled_convolution_op while saving (showing 5 of 5). These functions will not be directly callable after loading.\n"
     ]
    },
    {
     "name": "stdout",
     "output_type": "stream",
     "text": [
      "INFO:tensorflow:Assets written to: ../SpeechER/checkpoints/model4_best/assets\n"
     ]
    },
    {
     "name": "stderr",
     "output_type": "stream",
     "text": [
      "INFO:tensorflow:Assets written to: ../SpeechER/checkpoints/model4_best/assets\n"
     ]
    },
    {
     "name": "stdout",
     "output_type": "stream",
     "text": [
      "214/214 [==============================] - 4s 17ms/step - loss: 1.2027 - accuracy: 0.5229 - val_loss: 1.1486 - val_accuracy: 0.5470\n",
      "Epoch 11/100\n",
      "210/214 [============================>.] - ETA: 0s - loss: 1.1791 - accuracy: 0.5340"
     ]
    },
    {
     "name": "stderr",
     "output_type": "stream",
     "text": [
      "WARNING:absl:Found untraced functions such as _jit_compiled_convolution_op, _jit_compiled_convolution_op, _jit_compiled_convolution_op, _jit_compiled_convolution_op, _jit_compiled_convolution_op while saving (showing 5 of 5). These functions will not be directly callable after loading.\n"
     ]
    },
    {
     "name": "stdout",
     "output_type": "stream",
     "text": [
      "INFO:tensorflow:Assets written to: ../SpeechER/checkpoints/model4_best/assets\n"
     ]
    },
    {
     "name": "stderr",
     "output_type": "stream",
     "text": [
      "INFO:tensorflow:Assets written to: ../SpeechER/checkpoints/model4_best/assets\n"
     ]
    },
    {
     "name": "stdout",
     "output_type": "stream",
     "text": [
      "214/214 [==============================] - 4s 18ms/step - loss: 1.1798 - accuracy: 0.5339 - val_loss: 1.1257 - val_accuracy: 0.5487\n",
      "Epoch 12/100\n",
      "214/214 [==============================] - 2s 11ms/step - loss: 1.1743 - accuracy: 0.5334 - val_loss: 1.1427 - val_accuracy: 0.5533\n",
      "Epoch 13/100\n",
      "214/214 [==============================] - 2s 11ms/step - loss: 1.1604 - accuracy: 0.5428 - val_loss: 1.1289 - val_accuracy: 0.5592\n",
      "Epoch 14/100\n",
      "214/214 [==============================] - 2s 11ms/step - loss: 1.1540 - accuracy: 0.5438 - val_loss: 1.1508 - val_accuracy: 0.5413\n",
      "Epoch 15/100\n",
      "211/214 [============================>.] - ETA: 0s - loss: 1.1507 - accuracy: 0.5476"
     ]
    },
    {
     "name": "stderr",
     "output_type": "stream",
     "text": [
      "WARNING:absl:Found untraced functions such as _jit_compiled_convolution_op, _jit_compiled_convolution_op, _jit_compiled_convolution_op, _jit_compiled_convolution_op, _jit_compiled_convolution_op while saving (showing 5 of 5). These functions will not be directly callable after loading.\n"
     ]
    },
    {
     "name": "stdout",
     "output_type": "stream",
     "text": [
      "INFO:tensorflow:Assets written to: ../SpeechER/checkpoints/model4_best/assets\n"
     ]
    },
    {
     "name": "stderr",
     "output_type": "stream",
     "text": [
      "INFO:tensorflow:Assets written to: ../SpeechER/checkpoints/model4_best/assets\n"
     ]
    },
    {
     "name": "stdout",
     "output_type": "stream",
     "text": [
      "214/214 [==============================] - 4s 17ms/step - loss: 1.1507 - accuracy: 0.5476 - val_loss: 1.1243 - val_accuracy: 0.5476\n",
      "Epoch 16/100\n",
      "214/214 [==============================] - 2s 11ms/step - loss: 1.1406 - accuracy: 0.5490 - val_loss: 1.1308 - val_accuracy: 0.5553\n",
      "Epoch 17/100\n",
      "211/214 [============================>.] - ETA: 0s - loss: 1.1285 - accuracy: 0.5559"
     ]
    },
    {
     "name": "stderr",
     "output_type": "stream",
     "text": [
      "WARNING:absl:Found untraced functions such as _jit_compiled_convolution_op, _jit_compiled_convolution_op, _jit_compiled_convolution_op, _jit_compiled_convolution_op, _jit_compiled_convolution_op while saving (showing 5 of 5). These functions will not be directly callable after loading.\n"
     ]
    },
    {
     "name": "stdout",
     "output_type": "stream",
     "text": [
      "INFO:tensorflow:Assets written to: ../SpeechER/checkpoints/model4_best/assets\n"
     ]
    },
    {
     "name": "stderr",
     "output_type": "stream",
     "text": [
      "INFO:tensorflow:Assets written to: ../SpeechER/checkpoints/model4_best/assets\n"
     ]
    },
    {
     "name": "stdout",
     "output_type": "stream",
     "text": [
      "214/214 [==============================] - 4s 18ms/step - loss: 1.1295 - accuracy: 0.5551 - val_loss: 1.1015 - val_accuracy: 0.5553\n",
      "Epoch 18/100\n",
      "214/214 [==============================] - 2s 11ms/step - loss: 1.1204 - accuracy: 0.5610 - val_loss: 1.1183 - val_accuracy: 0.5479\n",
      "Epoch 19/100\n",
      "211/214 [============================>.] - ETA: 0s - loss: 1.1082 - accuracy: 0.5637"
     ]
    },
    {
     "name": "stderr",
     "output_type": "stream",
     "text": [
      "WARNING:absl:Found untraced functions such as _jit_compiled_convolution_op, _jit_compiled_convolution_op, _jit_compiled_convolution_op, _jit_compiled_convolution_op, _jit_compiled_convolution_op while saving (showing 5 of 5). These functions will not be directly callable after loading.\n"
     ]
    },
    {
     "name": "stdout",
     "output_type": "stream",
     "text": [
      "INFO:tensorflow:Assets written to: ../SpeechER/checkpoints/model4_best/assets\n"
     ]
    },
    {
     "name": "stderr",
     "output_type": "stream",
     "text": [
      "INFO:tensorflow:Assets written to: ../SpeechER/checkpoints/model4_best/assets\n"
     ]
    },
    {
     "name": "stdout",
     "output_type": "stream",
     "text": [
      "214/214 [==============================] - 4s 18ms/step - loss: 1.1081 - accuracy: 0.5638 - val_loss: 1.0913 - val_accuracy: 0.5652\n",
      "Epoch 20/100\n",
      "214/214 [==============================] - ETA: 0s - loss: 1.1051 - accuracy: 0.5655"
     ]
    },
    {
     "name": "stderr",
     "output_type": "stream",
     "text": [
      "WARNING:absl:Found untraced functions such as _jit_compiled_convolution_op, _jit_compiled_convolution_op, _jit_compiled_convolution_op, _jit_compiled_convolution_op, _jit_compiled_convolution_op while saving (showing 5 of 5). These functions will not be directly callable after loading.\n"
     ]
    },
    {
     "name": "stdout",
     "output_type": "stream",
     "text": [
      "INFO:tensorflow:Assets written to: ../SpeechER/checkpoints/model4_best/assets\n"
     ]
    },
    {
     "name": "stderr",
     "output_type": "stream",
     "text": [
      "INFO:tensorflow:Assets written to: ../SpeechER/checkpoints/model4_best/assets\n"
     ]
    },
    {
     "name": "stdout",
     "output_type": "stream",
     "text": [
      "214/214 [==============================] - 4s 18ms/step - loss: 1.1051 - accuracy: 0.5655 - val_loss: 1.0867 - val_accuracy: 0.5636\n",
      "Epoch 21/100\n",
      "209/214 [============================>.] - ETA: 0s - loss: 1.0976 - accuracy: 0.5701"
     ]
    },
    {
     "name": "stderr",
     "output_type": "stream",
     "text": [
      "WARNING:absl:Found untraced functions such as _jit_compiled_convolution_op, _jit_compiled_convolution_op, _jit_compiled_convolution_op, _jit_compiled_convolution_op, _jit_compiled_convolution_op while saving (showing 5 of 5). These functions will not be directly callable after loading.\n"
     ]
    },
    {
     "name": "stdout",
     "output_type": "stream",
     "text": [
      "INFO:tensorflow:Assets written to: ../SpeechER/checkpoints/model4_best/assets\n"
     ]
    },
    {
     "name": "stderr",
     "output_type": "stream",
     "text": [
      "INFO:tensorflow:Assets written to: ../SpeechER/checkpoints/model4_best/assets\n"
     ]
    },
    {
     "name": "stdout",
     "output_type": "stream",
     "text": [
      "214/214 [==============================] - 4s 18ms/step - loss: 1.0971 - accuracy: 0.5704 - val_loss: 1.0682 - val_accuracy: 0.5759\n",
      "Epoch 22/100\n",
      "214/214 [==============================] - ETA: 0s - loss: 1.0849 - accuracy: 0.5768"
     ]
    },
    {
     "name": "stderr",
     "output_type": "stream",
     "text": [
      "WARNING:absl:Found untraced functions such as _jit_compiled_convolution_op, _jit_compiled_convolution_op, _jit_compiled_convolution_op, _jit_compiled_convolution_op, _jit_compiled_convolution_op while saving (showing 5 of 5). These functions will not be directly callable after loading.\n"
     ]
    },
    {
     "name": "stdout",
     "output_type": "stream",
     "text": [
      "INFO:tensorflow:Assets written to: ../SpeechER/checkpoints/model4_best/assets\n"
     ]
    },
    {
     "name": "stderr",
     "output_type": "stream",
     "text": [
      "INFO:tensorflow:Assets written to: ../SpeechER/checkpoints/model4_best/assets\n"
     ]
    },
    {
     "name": "stdout",
     "output_type": "stream",
     "text": [
      "214/214 [==============================] - 4s 17ms/step - loss: 1.0849 - accuracy: 0.5768 - val_loss: 1.0613 - val_accuracy: 0.5827\n",
      "Epoch 23/100\n",
      "214/214 [==============================] - 2s 11ms/step - loss: 1.0871 - accuracy: 0.5731 - val_loss: 1.1223 - val_accuracy: 0.5457\n",
      "Epoch 24/100\n",
      "214/214 [==============================] - 2s 11ms/step - loss: 1.0819 - accuracy: 0.5762 - val_loss: 1.0782 - val_accuracy: 0.5741\n",
      "Epoch 25/100\n",
      "212/214 [============================>.] - ETA: 0s - loss: 1.0715 - accuracy: 0.5765"
     ]
    },
    {
     "name": "stderr",
     "output_type": "stream",
     "text": [
      "WARNING:absl:Found untraced functions such as _jit_compiled_convolution_op, _jit_compiled_convolution_op, _jit_compiled_convolution_op, _jit_compiled_convolution_op, _jit_compiled_convolution_op while saving (showing 5 of 5). These functions will not be directly callable after loading.\n"
     ]
    },
    {
     "name": "stdout",
     "output_type": "stream",
     "text": [
      "INFO:tensorflow:Assets written to: ../SpeechER/checkpoints/model4_best/assets\n"
     ]
    },
    {
     "name": "stderr",
     "output_type": "stream",
     "text": [
      "INFO:tensorflow:Assets written to: ../SpeechER/checkpoints/model4_best/assets\n"
     ]
    },
    {
     "name": "stdout",
     "output_type": "stream",
     "text": [
      "214/214 [==============================] - 4s 18ms/step - loss: 1.0718 - accuracy: 0.5763 - val_loss: 1.0575 - val_accuracy: 0.5833\n",
      "Epoch 26/100\n",
      "214/214 [==============================] - 2s 12ms/step - loss: 1.0668 - accuracy: 0.5790 - val_loss: 1.0697 - val_accuracy: 0.5764\n",
      "Epoch 27/100\n",
      "210/214 [============================>.] - ETA: 0s - loss: 1.0624 - accuracy: 0.5787"
     ]
    },
    {
     "name": "stderr",
     "output_type": "stream",
     "text": [
      "WARNING:absl:Found untraced functions such as _jit_compiled_convolution_op, _jit_compiled_convolution_op, _jit_compiled_convolution_op, _jit_compiled_convolution_op, _jit_compiled_convolution_op while saving (showing 5 of 5). These functions will not be directly callable after loading.\n"
     ]
    },
    {
     "name": "stdout",
     "output_type": "stream",
     "text": [
      "INFO:tensorflow:Assets written to: ../SpeechER/checkpoints/model4_best/assets\n"
     ]
    },
    {
     "name": "stderr",
     "output_type": "stream",
     "text": [
      "INFO:tensorflow:Assets written to: ../SpeechER/checkpoints/model4_best/assets\n"
     ]
    },
    {
     "name": "stdout",
     "output_type": "stream",
     "text": [
      "214/214 [==============================] - 4s 18ms/step - loss: 1.0633 - accuracy: 0.5789 - val_loss: 1.0552 - val_accuracy: 0.5825\n",
      "Epoch 28/100\n",
      "214/214 [==============================] - 2s 11ms/step - loss: 1.0577 - accuracy: 0.5845 - val_loss: 1.0869 - val_accuracy: 0.5661\n",
      "Epoch 29/100\n",
      "214/214 [==============================] - 2s 11ms/step - loss: 1.0491 - accuracy: 0.5884 - val_loss: 1.0644 - val_accuracy: 0.5759\n",
      "Epoch 30/100\n",
      "211/214 [============================>.] - ETA: 0s - loss: 1.0479 - accuracy: 0.5940"
     ]
    },
    {
     "name": "stderr",
     "output_type": "stream",
     "text": [
      "WARNING:absl:Found untraced functions such as _jit_compiled_convolution_op, _jit_compiled_convolution_op, _jit_compiled_convolution_op, _jit_compiled_convolution_op, _jit_compiled_convolution_op while saving (showing 5 of 5). These functions will not be directly callable after loading.\n"
     ]
    },
    {
     "name": "stdout",
     "output_type": "stream",
     "text": [
      "INFO:tensorflow:Assets written to: ../SpeechER/checkpoints/model4_best/assets\n"
     ]
    },
    {
     "name": "stderr",
     "output_type": "stream",
     "text": [
      "INFO:tensorflow:Assets written to: ../SpeechER/checkpoints/model4_best/assets\n"
     ]
    },
    {
     "name": "stdout",
     "output_type": "stream",
     "text": [
      "214/214 [==============================] - 4s 17ms/step - loss: 1.0483 - accuracy: 0.5937 - val_loss: 1.0345 - val_accuracy: 0.5910\n",
      "Epoch 31/100\n",
      "214/214 [==============================] - 2s 10ms/step - loss: 1.0351 - accuracy: 0.5964 - val_loss: 1.0571 - val_accuracy: 0.5756\n",
      "Epoch 32/100\n",
      "214/214 [==============================] - 2s 11ms/step - loss: 1.0403 - accuracy: 0.5955 - val_loss: 1.0557 - val_accuracy: 0.5836\n",
      "Epoch 33/100\n",
      "214/214 [==============================] - 2s 11ms/step - loss: 1.0335 - accuracy: 0.5953 - val_loss: 1.0538 - val_accuracy: 0.5782\n",
      "Epoch 34/100\n",
      "214/214 [==============================] - 2s 11ms/step - loss: 1.0299 - accuracy: 0.5985 - val_loss: 1.0467 - val_accuracy: 0.5881\n",
      "Epoch 35/100\n",
      "214/214 [==============================] - 2s 11ms/step - loss: 1.0203 - accuracy: 0.6004 - val_loss: 1.0687 - val_accuracy: 0.5719\n",
      "Epoch 36/100\n",
      "214/214 [==============================] - 2s 11ms/step - loss: 1.0208 - accuracy: 0.5995 - val_loss: 1.0520 - val_accuracy: 0.5812\n",
      "Epoch 37/100\n",
      "212/214 [============================>.] - ETA: 0s - loss: 1.0214 - accuracy: 0.6023"
     ]
    },
    {
     "name": "stderr",
     "output_type": "stream",
     "text": [
      "WARNING:absl:Found untraced functions such as _jit_compiled_convolution_op, _jit_compiled_convolution_op, _jit_compiled_convolution_op, _jit_compiled_convolution_op, _jit_compiled_convolution_op while saving (showing 5 of 5). These functions will not be directly callable after loading.\n"
     ]
    },
    {
     "name": "stdout",
     "output_type": "stream",
     "text": [
      "INFO:tensorflow:Assets written to: ../SpeechER/checkpoints/model4_best/assets\n"
     ]
    },
    {
     "name": "stderr",
     "output_type": "stream",
     "text": [
      "INFO:tensorflow:Assets written to: ../SpeechER/checkpoints/model4_best/assets\n"
     ]
    },
    {
     "name": "stdout",
     "output_type": "stream",
     "text": [
      "214/214 [==============================] - 4s 18ms/step - loss: 1.0208 - accuracy: 0.6030 - val_loss: 1.0336 - val_accuracy: 0.5915\n",
      "Epoch 38/100\n",
      "210/214 [============================>.] - ETA: 0s - loss: 1.0060 - accuracy: 0.6057"
     ]
    },
    {
     "name": "stderr",
     "output_type": "stream",
     "text": [
      "WARNING:absl:Found untraced functions such as _jit_compiled_convolution_op, _jit_compiled_convolution_op, _jit_compiled_convolution_op, _jit_compiled_convolution_op, _jit_compiled_convolution_op while saving (showing 5 of 5). These functions will not be directly callable after loading.\n"
     ]
    },
    {
     "name": "stdout",
     "output_type": "stream",
     "text": [
      "INFO:tensorflow:Assets written to: ../SpeechER/checkpoints/model4_best/assets\n"
     ]
    },
    {
     "name": "stderr",
     "output_type": "stream",
     "text": [
      "INFO:tensorflow:Assets written to: ../SpeechER/checkpoints/model4_best/assets\n"
     ]
    },
    {
     "name": "stdout",
     "output_type": "stream",
     "text": [
      "214/214 [==============================] - 4s 18ms/step - loss: 1.0059 - accuracy: 0.6059 - val_loss: 1.0294 - val_accuracy: 0.5955\n",
      "Epoch 39/100\n",
      "214/214 [==============================] - 2s 11ms/step - loss: 1.0010 - accuracy: 0.6109 - val_loss: 1.0501 - val_accuracy: 0.5845\n",
      "Epoch 40/100\n",
      "214/214 [==============================] - 2s 10ms/step - loss: 0.9994 - accuracy: 0.6117 - val_loss: 1.0402 - val_accuracy: 0.5864\n",
      "Epoch 41/100\n",
      "214/214 [==============================] - 2s 11ms/step - loss: 0.9982 - accuracy: 0.6103 - val_loss: 1.0539 - val_accuracy: 0.5825\n",
      "Epoch 42/100\n",
      "211/214 [============================>.] - ETA: 0s - loss: 0.9936 - accuracy: 0.6160"
     ]
    },
    {
     "name": "stderr",
     "output_type": "stream",
     "text": [
      "WARNING:absl:Found untraced functions such as _jit_compiled_convolution_op, _jit_compiled_convolution_op, _jit_compiled_convolution_op, _jit_compiled_convolution_op, _jit_compiled_convolution_op while saving (showing 5 of 5). These functions will not be directly callable after loading.\n"
     ]
    },
    {
     "name": "stdout",
     "output_type": "stream",
     "text": [
      "INFO:tensorflow:Assets written to: ../SpeechER/checkpoints/model4_best/assets\n"
     ]
    },
    {
     "name": "stderr",
     "output_type": "stream",
     "text": [
      "INFO:tensorflow:Assets written to: ../SpeechER/checkpoints/model4_best/assets\n"
     ]
    },
    {
     "name": "stdout",
     "output_type": "stream",
     "text": [
      "214/214 [==============================] - 4s 18ms/step - loss: 0.9927 - accuracy: 0.6163 - val_loss: 1.0126 - val_accuracy: 0.6032\n",
      "Epoch 43/100\n",
      "214/214 [==============================] - 2s 11ms/step - loss: 0.9856 - accuracy: 0.6153 - val_loss: 1.0298 - val_accuracy: 0.5918\n",
      "Epoch 44/100\n",
      "214/214 [==============================] - 2s 11ms/step - loss: 0.9842 - accuracy: 0.6169 - val_loss: 1.0557 - val_accuracy: 0.5897\n",
      "Epoch 45/100\n",
      "214/214 [==============================] - 2s 11ms/step - loss: 0.9744 - accuracy: 0.6244 - val_loss: 1.0799 - val_accuracy: 0.5674\n",
      "Epoch 46/100\n",
      "214/214 [==============================] - 2s 11ms/step - loss: 0.9818 - accuracy: 0.6199 - val_loss: 1.0950 - val_accuracy: 0.5601\n",
      "Epoch 47/100\n",
      "211/214 [============================>.] - ETA: 0s - loss: 0.9718 - accuracy: 0.6222"
     ]
    },
    {
     "name": "stderr",
     "output_type": "stream",
     "text": [
      "WARNING:absl:Found untraced functions such as _jit_compiled_convolution_op, _jit_compiled_convolution_op, _jit_compiled_convolution_op, _jit_compiled_convolution_op, _jit_compiled_convolution_op while saving (showing 5 of 5). These functions will not be directly callable after loading.\n"
     ]
    },
    {
     "name": "stdout",
     "output_type": "stream",
     "text": [
      "INFO:tensorflow:Assets written to: ../SpeechER/checkpoints/model4_best/assets\n"
     ]
    },
    {
     "name": "stderr",
     "output_type": "stream",
     "text": [
      "INFO:tensorflow:Assets written to: ../SpeechER/checkpoints/model4_best/assets\n"
     ]
    },
    {
     "name": "stdout",
     "output_type": "stream",
     "text": [
      "214/214 [==============================] - 4s 17ms/step - loss: 0.9720 - accuracy: 0.6221 - val_loss: 1.0077 - val_accuracy: 0.6102\n",
      "Epoch 48/100\n",
      "214/214 [==============================] - 2s 11ms/step - loss: 0.9723 - accuracy: 0.6241 - val_loss: 1.0113 - val_accuracy: 0.5973\n",
      "Epoch 49/100\n",
      "214/214 [==============================] - 2s 11ms/step - loss: 0.9583 - accuracy: 0.6300 - val_loss: 1.0187 - val_accuracy: 0.5978\n",
      "Epoch 50/100\n",
      "211/214 [============================>.] - ETA: 0s - loss: 0.9583 - accuracy: 0.6288"
     ]
    },
    {
     "name": "stderr",
     "output_type": "stream",
     "text": [
      "WARNING:absl:Found untraced functions such as _jit_compiled_convolution_op, _jit_compiled_convolution_op, _jit_compiled_convolution_op, _jit_compiled_convolution_op, _jit_compiled_convolution_op while saving (showing 5 of 5). These functions will not be directly callable after loading.\n"
     ]
    },
    {
     "name": "stdout",
     "output_type": "stream",
     "text": [
      "INFO:tensorflow:Assets written to: ../SpeechER/checkpoints/model4_best/assets\n"
     ]
    },
    {
     "name": "stderr",
     "output_type": "stream",
     "text": [
      "INFO:tensorflow:Assets written to: ../SpeechER/checkpoints/model4_best/assets\n"
     ]
    },
    {
     "name": "stdout",
     "output_type": "stream",
     "text": [
      "214/214 [==============================] - 4s 19ms/step - loss: 0.9574 - accuracy: 0.6293 - val_loss: 1.0036 - val_accuracy: 0.5994\n",
      "Epoch 51/100\n",
      "214/214 [==============================] - 2s 11ms/step - loss: 0.9594 - accuracy: 0.6285 - val_loss: 1.0161 - val_accuracy: 0.6003\n",
      "Epoch 52/100\n",
      "214/214 [==============================] - 2s 11ms/step - loss: 0.9542 - accuracy: 0.6303 - val_loss: 1.0065 - val_accuracy: 0.6022\n",
      "Epoch 53/100\n",
      "214/214 [==============================] - 2s 11ms/step - loss: 0.9527 - accuracy: 0.6324 - val_loss: 1.0251 - val_accuracy: 0.5990\n",
      "Epoch 54/100\n",
      "214/214 [==============================] - 2s 11ms/step - loss: 0.9433 - accuracy: 0.6375 - val_loss: 1.0165 - val_accuracy: 0.6034\n",
      "Epoch 55/100\n",
      "213/214 [============================>.] - ETA: 0s - loss: 0.9372 - accuracy: 0.6370"
     ]
    },
    {
     "name": "stderr",
     "output_type": "stream",
     "text": [
      "WARNING:absl:Found untraced functions such as _jit_compiled_convolution_op, _jit_compiled_convolution_op, _jit_compiled_convolution_op, _jit_compiled_convolution_op, _jit_compiled_convolution_op while saving (showing 5 of 5). These functions will not be directly callable after loading.\n"
     ]
    },
    {
     "name": "stdout",
     "output_type": "stream",
     "text": [
      "INFO:tensorflow:Assets written to: ../SpeechER/checkpoints/model4_best/assets\n"
     ]
    },
    {
     "name": "stderr",
     "output_type": "stream",
     "text": [
      "INFO:tensorflow:Assets written to: ../SpeechER/checkpoints/model4_best/assets\n"
     ]
    },
    {
     "name": "stdout",
     "output_type": "stream",
     "text": [
      "214/214 [==============================] - 4s 19ms/step - loss: 0.9380 - accuracy: 0.6366 - val_loss: 0.9995 - val_accuracy: 0.6083\n",
      "Epoch 56/100\n",
      "214/214 [==============================] - 2s 11ms/step - loss: 0.9293 - accuracy: 0.6425 - val_loss: 1.0052 - val_accuracy: 0.6095\n",
      "Epoch 57/100\n",
      "214/214 [==============================] - 2s 11ms/step - loss: 0.9393 - accuracy: 0.6420 - val_loss: 1.0226 - val_accuracy: 0.5996\n",
      "Epoch 58/100\n",
      "214/214 [==============================] - 2s 11ms/step - loss: 0.9384 - accuracy: 0.6395 - val_loss: 1.0085 - val_accuracy: 0.6109\n",
      "Epoch 59/100\n",
      "214/214 [==============================] - 2s 11ms/step - loss: 0.9340 - accuracy: 0.6388 - val_loss: 1.0448 - val_accuracy: 0.5946\n",
      "Epoch 60/100\n",
      "214/214 [==============================] - 2s 11ms/step - loss: 0.9274 - accuracy: 0.6411 - val_loss: 1.0278 - val_accuracy: 0.6002\n",
      "Epoch 61/100\n",
      "214/214 [==============================] - 2s 11ms/step - loss: 0.9211 - accuracy: 0.6471 - val_loss: 1.0099 - val_accuracy: 0.6025\n",
      "Epoch 62/100\n",
      "214/214 [==============================] - 2s 11ms/step - loss: 0.9177 - accuracy: 0.6433 - val_loss: 1.0571 - val_accuracy: 0.5840\n",
      "Epoch 63/100\n",
      "214/214 [==============================] - ETA: 0s - loss: 0.9146 - accuracy: 0.6471"
     ]
    },
    {
     "name": "stderr",
     "output_type": "stream",
     "text": [
      "WARNING:absl:Found untraced functions such as _jit_compiled_convolution_op, _jit_compiled_convolution_op, _jit_compiled_convolution_op, _jit_compiled_convolution_op, _jit_compiled_convolution_op while saving (showing 5 of 5). These functions will not be directly callable after loading.\n"
     ]
    },
    {
     "name": "stdout",
     "output_type": "stream",
     "text": [
      "INFO:tensorflow:Assets written to: ../SpeechER/checkpoints/model4_best/assets\n"
     ]
    },
    {
     "name": "stderr",
     "output_type": "stream",
     "text": [
      "INFO:tensorflow:Assets written to: ../SpeechER/checkpoints/model4_best/assets\n"
     ]
    },
    {
     "name": "stdout",
     "output_type": "stream",
     "text": [
      "214/214 [==============================] - 4s 18ms/step - loss: 0.9146 - accuracy: 0.6471 - val_loss: 0.9990 - val_accuracy: 0.6081\n",
      "Epoch 64/100\n",
      "214/214 [==============================] - 2s 11ms/step - loss: 0.9124 - accuracy: 0.6495 - val_loss: 1.0070 - val_accuracy: 0.6077\n",
      "Epoch 65/100\n",
      "210/214 [============================>.] - ETA: 0s - loss: 0.9112 - accuracy: 0.6509"
     ]
    },
    {
     "name": "stderr",
     "output_type": "stream",
     "text": [
      "WARNING:absl:Found untraced functions such as _jit_compiled_convolution_op, _jit_compiled_convolution_op, _jit_compiled_convolution_op, _jit_compiled_convolution_op, _jit_compiled_convolution_op while saving (showing 5 of 5). These functions will not be directly callable after loading.\n"
     ]
    },
    {
     "name": "stdout",
     "output_type": "stream",
     "text": [
      "INFO:tensorflow:Assets written to: ../SpeechER/checkpoints/model4_best/assets\n"
     ]
    },
    {
     "name": "stderr",
     "output_type": "stream",
     "text": [
      "INFO:tensorflow:Assets written to: ../SpeechER/checkpoints/model4_best/assets\n"
     ]
    },
    {
     "name": "stdout",
     "output_type": "stream",
     "text": [
      "214/214 [==============================] - 4s 17ms/step - loss: 0.9116 - accuracy: 0.6510 - val_loss: 0.9939 - val_accuracy: 0.6118\n",
      "Epoch 66/100\n",
      "214/214 [==============================] - 2s 11ms/step - loss: 0.9157 - accuracy: 0.6441 - val_loss: 0.9994 - val_accuracy: 0.6061\n",
      "Epoch 67/100\n",
      "213/214 [============================>.] - ETA: 0s - loss: 0.8980 - accuracy: 0.6567"
     ]
    },
    {
     "name": "stderr",
     "output_type": "stream",
     "text": [
      "WARNING:absl:Found untraced functions such as _jit_compiled_convolution_op, _jit_compiled_convolution_op, _jit_compiled_convolution_op, _jit_compiled_convolution_op, _jit_compiled_convolution_op while saving (showing 5 of 5). These functions will not be directly callable after loading.\n"
     ]
    },
    {
     "name": "stdout",
     "output_type": "stream",
     "text": [
      "INFO:tensorflow:Assets written to: ../SpeechER/checkpoints/model4_best/assets\n"
     ]
    },
    {
     "name": "stderr",
     "output_type": "stream",
     "text": [
      "INFO:tensorflow:Assets written to: ../SpeechER/checkpoints/model4_best/assets\n"
     ]
    },
    {
     "name": "stdout",
     "output_type": "stream",
     "text": [
      "214/214 [==============================] - 4s 18ms/step - loss: 0.8982 - accuracy: 0.6566 - val_loss: 0.9887 - val_accuracy: 0.6175\n",
      "Epoch 68/100\n",
      "214/214 [==============================] - 2s 11ms/step - loss: 0.8989 - accuracy: 0.6528 - val_loss: 1.0457 - val_accuracy: 0.5947\n",
      "Epoch 69/100\n",
      "214/214 [==============================] - 2s 11ms/step - loss: 0.8969 - accuracy: 0.6560 - val_loss: 0.9940 - val_accuracy: 0.6074\n",
      "Epoch 70/100\n",
      "214/214 [==============================] - 2s 11ms/step - loss: 0.8968 - accuracy: 0.6547 - val_loss: 0.9983 - val_accuracy: 0.6094\n",
      "Epoch 71/100\n",
      "214/214 [==============================] - 2s 11ms/step - loss: 0.8938 - accuracy: 0.6577 - val_loss: 0.9917 - val_accuracy: 0.6175\n",
      "Epoch 72/100\n",
      "214/214 [==============================] - 2s 10ms/step - loss: 0.8845 - accuracy: 0.6605 - val_loss: 1.0078 - val_accuracy: 0.6047\n",
      "Epoch 73/100\n",
      "211/214 [============================>.] - ETA: 0s - loss: 0.8927 - accuracy: 0.6602"
     ]
    },
    {
     "name": "stderr",
     "output_type": "stream",
     "text": [
      "WARNING:absl:Found untraced functions such as _jit_compiled_convolution_op, _jit_compiled_convolution_op, _jit_compiled_convolution_op, _jit_compiled_convolution_op, _jit_compiled_convolution_op while saving (showing 5 of 5). These functions will not be directly callable after loading.\n"
     ]
    },
    {
     "name": "stdout",
     "output_type": "stream",
     "text": [
      "INFO:tensorflow:Assets written to: ../SpeechER/checkpoints/model4_best/assets\n"
     ]
    },
    {
     "name": "stderr",
     "output_type": "stream",
     "text": [
      "INFO:tensorflow:Assets written to: ../SpeechER/checkpoints/model4_best/assets\n"
     ]
    },
    {
     "name": "stdout",
     "output_type": "stream",
     "text": [
      "214/214 [==============================] - 4s 18ms/step - loss: 0.8928 - accuracy: 0.6604 - val_loss: 0.9788 - val_accuracy: 0.6194\n",
      "Epoch 74/100\n",
      "214/214 [==============================] - 2s 11ms/step - loss: 0.8818 - accuracy: 0.6625 - val_loss: 0.9924 - val_accuracy: 0.6175\n",
      "Epoch 75/100\n",
      "214/214 [==============================] - 2s 11ms/step - loss: 0.8795 - accuracy: 0.6638 - val_loss: 0.9921 - val_accuracy: 0.6163\n",
      "Epoch 76/100\n",
      "214/214 [==============================] - 2s 11ms/step - loss: 0.8700 - accuracy: 0.6671 - val_loss: 0.9860 - val_accuracy: 0.6226\n",
      "Epoch 77/100\n",
      "214/214 [==============================] - 2s 11ms/step - loss: 0.8709 - accuracy: 0.6683 - val_loss: 1.0007 - val_accuracy: 0.6137\n",
      "Epoch 78/100\n",
      "214/214 [==============================] - 2s 12ms/step - loss: 0.8766 - accuracy: 0.6669 - val_loss: 0.9938 - val_accuracy: 0.6125\n",
      "Epoch 79/100\n",
      "209/214 [============================>.] - ETA: 0s - loss: 0.8730 - accuracy: 0.6677"
     ]
    },
    {
     "name": "stderr",
     "output_type": "stream",
     "text": [
      "WARNING:absl:Found untraced functions such as _jit_compiled_convolution_op, _jit_compiled_convolution_op, _jit_compiled_convolution_op, _jit_compiled_convolution_op, _jit_compiled_convolution_op while saving (showing 5 of 5). These functions will not be directly callable after loading.\n"
     ]
    },
    {
     "name": "stdout",
     "output_type": "stream",
     "text": [
      "INFO:tensorflow:Assets written to: ../SpeechER/checkpoints/model4_best/assets\n"
     ]
    },
    {
     "name": "stderr",
     "output_type": "stream",
     "text": [
      "INFO:tensorflow:Assets written to: ../SpeechER/checkpoints/model4_best/assets\n"
     ]
    },
    {
     "name": "stdout",
     "output_type": "stream",
     "text": [
      "214/214 [==============================] - 4s 17ms/step - loss: 0.8736 - accuracy: 0.6670 - val_loss: 0.9674 - val_accuracy: 0.6238\n",
      "Epoch 80/100\n",
      "214/214 [==============================] - 2s 11ms/step - loss: 0.8696 - accuracy: 0.6644 - val_loss: 1.0002 - val_accuracy: 0.6078\n",
      "Epoch 81/100\n",
      "214/214 [==============================] - 2s 11ms/step - loss: 0.8598 - accuracy: 0.6707 - val_loss: 0.9707 - val_accuracy: 0.6244\n",
      "Epoch 82/100\n",
      "214/214 [==============================] - 2s 11ms/step - loss: 0.8613 - accuracy: 0.6663 - val_loss: 0.9821 - val_accuracy: 0.6189\n",
      "Epoch 83/100\n",
      "214/214 [==============================] - 2s 11ms/step - loss: 0.8643 - accuracy: 0.6701 - val_loss: 0.9821 - val_accuracy: 0.6205\n",
      "Epoch 84/100\n",
      "214/214 [==============================] - 2s 11ms/step - loss: 0.8616 - accuracy: 0.6700 - val_loss: 0.9993 - val_accuracy: 0.6134\n",
      "Epoch 85/100\n",
      "214/214 [==============================] - 2s 11ms/step - loss: 0.8609 - accuracy: 0.6722 - val_loss: 0.9912 - val_accuracy: 0.6125\n",
      "Epoch 86/100\n",
      "214/214 [==============================] - 2s 11ms/step - loss: 0.8560 - accuracy: 0.6704 - val_loss: 0.9719 - val_accuracy: 0.6243\n",
      "Epoch 87/100\n",
      "214/214 [==============================] - 2s 11ms/step - loss: 0.8554 - accuracy: 0.6741 - val_loss: 0.9852 - val_accuracy: 0.6228\n",
      "Epoch 88/100\n",
      "214/214 [==============================] - 2s 11ms/step - loss: 0.8416 - accuracy: 0.6791 - val_loss: 0.9986 - val_accuracy: 0.6188\n",
      "Epoch 89/100\n",
      "214/214 [==============================] - 2s 11ms/step - loss: 0.8439 - accuracy: 0.6766 - val_loss: 1.0189 - val_accuracy: 0.6033\n",
      "Epoch 90/100\n",
      "214/214 [==============================] - 2s 11ms/step - loss: 0.8390 - accuracy: 0.6793 - val_loss: 1.0135 - val_accuracy: 0.6048\n",
      "Epoch 91/100\n",
      "214/214 [==============================] - 2s 11ms/step - loss: 0.8431 - accuracy: 0.6786 - val_loss: 0.9776 - val_accuracy: 0.6198\n",
      "Epoch 92/100\n",
      "214/214 [==============================] - 2s 11ms/step - loss: 0.8362 - accuracy: 0.6835 - val_loss: 0.9806 - val_accuracy: 0.6194\n",
      "Epoch 93/100\n",
      "214/214 [==============================] - 2s 11ms/step - loss: 0.8363 - accuracy: 0.6813 - val_loss: 0.9834 - val_accuracy: 0.6157\n",
      "Epoch 94/100\n",
      "214/214 [==============================] - 2s 11ms/step - loss: 0.8266 - accuracy: 0.6867 - val_loss: 1.0053 - val_accuracy: 0.6121\n",
      "Epoch 95/100\n",
      "214/214 [==============================] - 2s 11ms/step - loss: 0.8341 - accuracy: 0.6841 - val_loss: 0.9874 - val_accuracy: 0.6210\n",
      "Epoch 96/100\n",
      "214/214 [==============================] - 2s 11ms/step - loss: 0.8262 - accuracy: 0.6892 - val_loss: 0.9884 - val_accuracy: 0.6173\n",
      "Epoch 97/100\n",
      "214/214 [==============================] - 2s 11ms/step - loss: 0.8237 - accuracy: 0.6898 - val_loss: 0.9772 - val_accuracy: 0.6252\n",
      "Epoch 98/100\n",
      "214/214 [==============================] - 2s 11ms/step - loss: 0.8267 - accuracy: 0.6857 - val_loss: 0.9727 - val_accuracy: 0.6265\n",
      "Epoch 99/100\n",
      "214/214 [==============================] - 2s 11ms/step - loss: 0.8217 - accuracy: 0.6881 - val_loss: 0.9945 - val_accuracy: 0.6257\n"
     ]
    }
   ],
   "source": [
    "history = model.fit(X_train, y_train, epochs=100, batch_size=128, validation_data=(X_test, y_test), callbacks=[stop_early, checkpoint])"
   ]
  },
  {
   "cell_type": "code",
   "execution_count": 7,
   "metadata": {},
   "outputs": [
    {
     "name": "stdout",
     "output_type": "stream",
     "text": [
      " 82/286 [=======>......................] - ETA: 0s - loss: 0.9818 - accuracy: 0.6261"
     ]
    },
    {
     "name": "stderr",
     "output_type": "stream",
     "text": [
      "2023-06-04 11:36:54.183588: E tensorflow/core/common_runtime/gpu/gpu_cudamallocasync_allocator.cc:288] gpu_async_0 cuMemAllocAsync failed to allocate 1401552896 bytes: CUDA error: out of memory (CUDA_ERROR_OUT_OF_MEMORY)\n",
      " Reported by CUDA: Free memory/Total memory: 27262976/4100456448\n",
      "2023-06-04 11:36:54.183616: E tensorflow/core/common_runtime/gpu/gpu_cudamallocasync_allocator.cc:293] Stats: Limit:                      1074790400\n",
      "InUse:                        53307664\n",
      "MaxInUse:                    174237284\n",
      "NumAllocs:                     5587663\n",
      "MaxAllocSize:                 73629696\n",
      "Reserved:                            0\n",
      "PeakReserved:                        0\n",
      "LargestFreeBlock:                    0\n",
      "\n",
      "2023-06-04 11:36:54.183628: E tensorflow/core/common_runtime/gpu/gpu_cudamallocasync_allocator.cc:56] Histogram of current allocation: (allocation_size_in_bytes, nb_allocation_of_that_sizes), ...;\n",
      "2023-06-04 11:36:54.183632: E tensorflow/core/common_runtime/gpu/gpu_cudamallocasync_allocator.cc:59] 4, 38\n",
      "2023-06-04 11:36:54.183634: E tensorflow/core/common_runtime/gpu/gpu_cudamallocasync_allocator.cc:59] 8, 9\n",
      "2023-06-04 11:36:54.183636: E tensorflow/core/common_runtime/gpu/gpu_cudamallocasync_allocator.cc:59] 32, 3\n",
      "2023-06-04 11:36:54.183639: E tensorflow/core/common_runtime/gpu/gpu_cudamallocasync_allocator.cc:59] 128, 19\n",
      "2023-06-04 11:36:54.183641: E tensorflow/core/common_runtime/gpu/gpu_cudamallocasync_allocator.cc:59] 256, 14\n",
      "2023-06-04 11:36:54.183643: E tensorflow/core/common_runtime/gpu/gpu_cudamallocasync_allocator.cc:59] 512, 13\n",
      "2023-06-04 11:36:54.183645: E tensorflow/core/common_runtime/gpu/gpu_cudamallocasync_allocator.cc:59] 1024, 15\n",
      "2023-06-04 11:36:54.183647: E tensorflow/core/common_runtime/gpu/gpu_cudamallocasync_allocator.cc:59] 1028, 1\n",
      "2023-06-04 11:36:54.183650: E tensorflow/core/common_runtime/gpu/gpu_cudamallocasync_allocator.cc:59] 4096, 3\n",
      "2023-06-04 11:36:54.183652: E tensorflow/core/common_runtime/gpu/gpu_cudamallocasync_allocator.cc:59] 5120, 3\n",
      "2023-06-04 11:36:54.183654: E tensorflow/core/common_runtime/gpu/gpu_cudamallocasync_allocator.cc:59] 20480, 3\n",
      "2023-06-04 11:36:54.183656: E tensorflow/core/common_runtime/gpu/gpu_cudamallocasync_allocator.cc:59] 40960, 3\n",
      "2023-06-04 11:36:54.183659: E tensorflow/core/common_runtime/gpu/gpu_cudamallocasync_allocator.cc:59] 163840, 3\n",
      "2023-06-04 11:36:54.183661: E tensorflow/core/common_runtime/gpu/gpu_cudamallocasync_allocator.cc:59] 291904, 2\n",
      "2023-06-04 11:36:54.183663: E tensorflow/core/common_runtime/gpu/gpu_cudamallocasync_allocator.cc:59] 540672, 1\n",
      "2023-06-04 11:36:54.183665: E tensorflow/core/common_runtime/gpu/gpu_cudamallocasync_allocator.cc:59] 655360, 4\n",
      "2023-06-04 11:36:54.183667: E tensorflow/core/common_runtime/gpu/gpu_cudamallocasync_allocator.cc:59] 875648, 1\n",
      "2023-06-04 11:36:54.183670: E tensorflow/core/common_runtime/gpu/gpu_cudamallocasync_allocator.cc:59] 1081344, 1\n",
      "2023-06-04 11:36:54.183672: E tensorflow/core/common_runtime/gpu/gpu_cudamallocasync_allocator.cc:59] 5911056, 2\n",
      "2023-06-04 11:36:54.183674: E tensorflow/core/common_runtime/gpu/gpu_cudamallocasync_allocator.cc:59] 17317888, 1\n",
      "2023-06-04 11:36:54.183676: E tensorflow/core/common_runtime/gpu/gpu_cudamallocasync_allocator.cc:59] 17731872, 1\n",
      "2023-06-04 11:36:54.183793: E tensorflow/core/common_runtime/gpu/gpu_cudamallocasync_allocator.cc:288] gpu_async_0 cuMemAllocAsync failed to allocate 1401552896 bytes: CUDA error: out of memory (CUDA_ERROR_OUT_OF_MEMORY)\n",
      " Reported by CUDA: Free memory/Total memory: 27262976/4100456448\n",
      "2023-06-04 11:36:54.183801: E tensorflow/core/common_runtime/gpu/gpu_cudamallocasync_allocator.cc:293] Stats: Limit:                      1074790400\n",
      "InUse:                        53307664\n",
      "MaxInUse:                    174237284\n",
      "NumAllocs:                     5587663\n",
      "MaxAllocSize:                 73629696\n",
      "Reserved:                            0\n",
      "PeakReserved:                        0\n",
      "LargestFreeBlock:                    0\n",
      "\n",
      "2023-06-04 11:36:54.183812: E tensorflow/core/common_runtime/gpu/gpu_cudamallocasync_allocator.cc:56] Histogram of current allocation: (allocation_size_in_bytes, nb_allocation_of_that_sizes), ...;\n",
      "2023-06-04 11:36:54.183815: E tensorflow/core/common_runtime/gpu/gpu_cudamallocasync_allocator.cc:59] 4, 38\n",
      "2023-06-04 11:36:54.183819: E tensorflow/core/common_runtime/gpu/gpu_cudamallocasync_allocator.cc:59] 8, 9\n",
      "2023-06-04 11:36:54.183823: E tensorflow/core/common_runtime/gpu/gpu_cudamallocasync_allocator.cc:59] 32, 3\n",
      "2023-06-04 11:36:54.183828: E tensorflow/core/common_runtime/gpu/gpu_cudamallocasync_allocator.cc:59] 128, 19\n",
      "2023-06-04 11:36:54.183832: E tensorflow/core/common_runtime/gpu/gpu_cudamallocasync_allocator.cc:59] 256, 14\n",
      "2023-06-04 11:36:54.183835: E tensorflow/core/common_runtime/gpu/gpu_cudamallocasync_allocator.cc:59] 512, 13\n",
      "2023-06-04 11:36:54.183839: E tensorflow/core/common_runtime/gpu/gpu_cudamallocasync_allocator.cc:59] 1024, 15\n",
      "2023-06-04 11:36:54.183842: E tensorflow/core/common_runtime/gpu/gpu_cudamallocasync_allocator.cc:59] 1028, 1\n",
      "2023-06-04 11:36:54.183846: E tensorflow/core/common_runtime/gpu/gpu_cudamallocasync_allocator.cc:59] 4096, 3\n",
      "2023-06-04 11:36:54.183850: E tensorflow/core/common_runtime/gpu/gpu_cudamallocasync_allocator.cc:59] 5120, 3\n",
      "2023-06-04 11:36:54.183853: E tensorflow/core/common_runtime/gpu/gpu_cudamallocasync_allocator.cc:59] 20480, 3\n",
      "2023-06-04 11:36:54.183857: E tensorflow/core/common_runtime/gpu/gpu_cudamallocasync_allocator.cc:59] 40960, 3\n",
      "2023-06-04 11:36:54.183860: E tensorflow/core/common_runtime/gpu/gpu_cudamallocasync_allocator.cc:59] 163840, 3\n",
      "2023-06-04 11:36:54.183864: E tensorflow/core/common_runtime/gpu/gpu_cudamallocasync_allocator.cc:59] 291904, 2\n",
      "2023-06-04 11:36:54.183867: E tensorflow/core/common_runtime/gpu/gpu_cudamallocasync_allocator.cc:59] 540672, 1\n",
      "2023-06-04 11:36:54.183871: E tensorflow/core/common_runtime/gpu/gpu_cudamallocasync_allocator.cc:59] 655360, 4\n",
      "2023-06-04 11:36:54.183874: E tensorflow/core/common_runtime/gpu/gpu_cudamallocasync_allocator.cc:59] 875648, 1\n",
      "2023-06-04 11:36:54.183878: E tensorflow/core/common_runtime/gpu/gpu_cudamallocasync_allocator.cc:59] 1081344, 1\n",
      "2023-06-04 11:36:54.183882: E tensorflow/core/common_runtime/gpu/gpu_cudamallocasync_allocator.cc:59] 5911056, 2\n",
      "2023-06-04 11:36:54.183886: E tensorflow/core/common_runtime/gpu/gpu_cudamallocasync_allocator.cc:59] 17317888, 1\n",
      "2023-06-04 11:36:54.183889: E tensorflow/core/common_runtime/gpu/gpu_cudamallocasync_allocator.cc:59] 17731872, 1\n"
     ]
    },
    {
     "name": "stdout",
     "output_type": "stream",
     "text": [
      "286/286 [==============================] - 1s 2ms/step - loss: 0.9945 - accuracy: 0.6257\n"
     ]
    },
    {
     "name": "stderr",
     "output_type": "stream",
     "text": [
      "2023-06-04 11:36:54.793968: E tensorflow/core/common_runtime/gpu/gpu_cudamallocasync_allocator.cc:288] gpu_async_0 cuMemAllocAsync failed to allocate 1142030336 bytes: CUDA error: out of memory (CUDA_ERROR_OUT_OF_MEMORY)\n",
      " Reported by CUDA: Free memory/Total memory: 27262976/4100456448\n",
      "2023-06-04 11:36:54.793998: E tensorflow/core/common_runtime/gpu/gpu_cudamallocasync_allocator.cc:293] Stats: Limit:                      1074790400\n",
      "InUse:                        51278960\n",
      "MaxInUse:                    338473468\n",
      "NumAllocs:                     5606811\n",
      "MaxAllocSize:                287314944\n",
      "Reserved:                            0\n",
      "PeakReserved:                        0\n",
      "LargestFreeBlock:                    0\n",
      "\n",
      "2023-06-04 11:36:54.794010: E tensorflow/core/common_runtime/gpu/gpu_cudamallocasync_allocator.cc:56] Histogram of current allocation: (allocation_size_in_bytes, nb_allocation_of_that_sizes), ...;\n",
      "2023-06-04 11:36:54.794014: E tensorflow/core/common_runtime/gpu/gpu_cudamallocasync_allocator.cc:59] 4, 40\n",
      "2023-06-04 11:36:54.794016: E tensorflow/core/common_runtime/gpu/gpu_cudamallocasync_allocator.cc:59] 8, 10\n",
      "2023-06-04 11:36:54.794019: E tensorflow/core/common_runtime/gpu/gpu_cudamallocasync_allocator.cc:59] 16, 1\n",
      "2023-06-04 11:36:54.794021: E tensorflow/core/common_runtime/gpu/gpu_cudamallocasync_allocator.cc:59] 32, 3\n",
      "2023-06-04 11:36:54.794023: E tensorflow/core/common_runtime/gpu/gpu_cudamallocasync_allocator.cc:59] 64, 1\n",
      "2023-06-04 11:36:54.794026: E tensorflow/core/common_runtime/gpu/gpu_cudamallocasync_allocator.cc:59] 128, 19\n",
      "2023-06-04 11:36:54.794028: E tensorflow/core/common_runtime/gpu/gpu_cudamallocasync_allocator.cc:59] 256, 13\n",
      "2023-06-04 11:36:54.794030: E tensorflow/core/common_runtime/gpu/gpu_cudamallocasync_allocator.cc:59] 512, 13\n",
      "2023-06-04 11:36:54.794032: E tensorflow/core/common_runtime/gpu/gpu_cudamallocasync_allocator.cc:59] 1024, 14\n",
      "2023-06-04 11:36:54.794035: E tensorflow/core/common_runtime/gpu/gpu_cudamallocasync_allocator.cc:59] 1028, 1\n",
      "2023-06-04 11:36:54.794037: E tensorflow/core/common_runtime/gpu/gpu_cudamallocasync_allocator.cc:59] 4096, 3\n",
      "2023-06-04 11:36:54.794039: E tensorflow/core/common_runtime/gpu/gpu_cudamallocasync_allocator.cc:59] 5120, 3\n",
      "2023-06-04 11:36:54.794042: E tensorflow/core/common_runtime/gpu/gpu_cudamallocasync_allocator.cc:59] 20480, 3\n",
      "2023-06-04 11:36:54.794044: E tensorflow/core/common_runtime/gpu/gpu_cudamallocasync_allocator.cc:59] 33792, 1\n",
      "2023-06-04 11:36:54.794046: E tensorflow/core/common_runtime/gpu/gpu_cudamallocasync_allocator.cc:59] 40960, 3\n",
      "2023-06-04 11:36:54.794048: E tensorflow/core/common_runtime/gpu/gpu_cudamallocasync_allocator.cc:59] 67584, 1\n",
      "2023-06-04 11:36:54.794051: E tensorflow/core/common_runtime/gpu/gpu_cudamallocasync_allocator.cc:59] 163840, 3\n",
      "2023-06-04 11:36:54.794053: E tensorflow/core/common_runtime/gpu/gpu_cudamallocasync_allocator.cc:59] 291904, 2\n",
      "2023-06-04 11:36:54.794055: E tensorflow/core/common_runtime/gpu/gpu_cudamallocasync_allocator.cc:59] 655360, 4\n",
      "2023-06-04 11:36:54.794058: E tensorflow/core/common_runtime/gpu/gpu_cudamallocasync_allocator.cc:59] 875648, 1\n",
      "2023-06-04 11:36:54.794060: E tensorflow/core/common_runtime/gpu/gpu_cudamallocasync_allocator.cc:59] 5911056, 2\n",
      "2023-06-04 11:36:54.794062: E tensorflow/core/common_runtime/gpu/gpu_cudamallocasync_allocator.cc:59] 16811008, 1\n",
      "2023-06-04 11:36:54.794064: E tensorflow/core/common_runtime/gpu/gpu_cudamallocasync_allocator.cc:59] 17731872, 1\n",
      "2023-06-04 11:36:54.794153: E tensorflow/core/common_runtime/gpu/gpu_cudamallocasync_allocator.cc:288] gpu_async_0 cuMemAllocAsync failed to allocate 1142030336 bytes: CUDA error: out of memory (CUDA_ERROR_OUT_OF_MEMORY)\n",
      " Reported by CUDA: Free memory/Total memory: 27262976/4100456448\n",
      "2023-06-04 11:36:54.794157: E tensorflow/core/common_runtime/gpu/gpu_cudamallocasync_allocator.cc:293] Stats: Limit:                      1074790400\n",
      "InUse:                        51278960\n",
      "MaxInUse:                    338473468\n",
      "NumAllocs:                     5606811\n",
      "MaxAllocSize:                287314944\n",
      "Reserved:                            0\n",
      "PeakReserved:                        0\n",
      "LargestFreeBlock:                    0\n",
      "\n",
      "2023-06-04 11:36:54.794165: E tensorflow/core/common_runtime/gpu/gpu_cudamallocasync_allocator.cc:56] Histogram of current allocation: (allocation_size_in_bytes, nb_allocation_of_that_sizes), ...;\n",
      "2023-06-04 11:36:54.794168: E tensorflow/core/common_runtime/gpu/gpu_cudamallocasync_allocator.cc:59] 4, 40\n",
      "2023-06-04 11:36:54.794170: E tensorflow/core/common_runtime/gpu/gpu_cudamallocasync_allocator.cc:59] 8, 10\n",
      "2023-06-04 11:36:54.794173: E tensorflow/core/common_runtime/gpu/gpu_cudamallocasync_allocator.cc:59] 16, 1\n",
      "2023-06-04 11:36:54.794175: E tensorflow/core/common_runtime/gpu/gpu_cudamallocasync_allocator.cc:59] 32, 3\n",
      "2023-06-04 11:36:54.794177: E tensorflow/core/common_runtime/gpu/gpu_cudamallocasync_allocator.cc:59] 64, 1\n",
      "2023-06-04 11:36:54.794180: E tensorflow/core/common_runtime/gpu/gpu_cudamallocasync_allocator.cc:59] 128, 19\n",
      "2023-06-04 11:36:54.794182: E tensorflow/core/common_runtime/gpu/gpu_cudamallocasync_allocator.cc:59] 256, 13\n",
      "2023-06-04 11:36:54.794184: E tensorflow/core/common_runtime/gpu/gpu_cudamallocasync_allocator.cc:59] 512, 13\n",
      "2023-06-04 11:36:54.794186: E tensorflow/core/common_runtime/gpu/gpu_cudamallocasync_allocator.cc:59] 1024, 14\n",
      "2023-06-04 11:36:54.794189: E tensorflow/core/common_runtime/gpu/gpu_cudamallocasync_allocator.cc:59] 1028, 1\n",
      "2023-06-04 11:36:54.794191: E tensorflow/core/common_runtime/gpu/gpu_cudamallocasync_allocator.cc:59] 4096, 3\n",
      "2023-06-04 11:36:54.794193: E tensorflow/core/common_runtime/gpu/gpu_cudamallocasync_allocator.cc:59] 5120, 3\n",
      "2023-06-04 11:36:54.794195: E tensorflow/core/common_runtime/gpu/gpu_cudamallocasync_allocator.cc:59] 20480, 3\n",
      "2023-06-04 11:36:54.794198: E tensorflow/core/common_runtime/gpu/gpu_cudamallocasync_allocator.cc:59] 33792, 1\n",
      "2023-06-04 11:36:54.794200: E tensorflow/core/common_runtime/gpu/gpu_cudamallocasync_allocator.cc:59] 40960, 3\n",
      "2023-06-04 11:36:54.794202: E tensorflow/core/common_runtime/gpu/gpu_cudamallocasync_allocator.cc:59] 67584, 1\n",
      "2023-06-04 11:36:54.794205: E tensorflow/core/common_runtime/gpu/gpu_cudamallocasync_allocator.cc:59] 163840, 3\n",
      "2023-06-04 11:36:54.794207: E tensorflow/core/common_runtime/gpu/gpu_cudamallocasync_allocator.cc:59] 291904, 2\n",
      "2023-06-04 11:36:54.794209: E tensorflow/core/common_runtime/gpu/gpu_cudamallocasync_allocator.cc:59] 655360, 4\n",
      "2023-06-04 11:36:54.794212: E tensorflow/core/common_runtime/gpu/gpu_cudamallocasync_allocator.cc:59] 875648, 1\n",
      "2023-06-04 11:36:54.794214: E tensorflow/core/common_runtime/gpu/gpu_cudamallocasync_allocator.cc:59] 5911056, 2\n",
      "2023-06-04 11:36:54.794216: E tensorflow/core/common_runtime/gpu/gpu_cudamallocasync_allocator.cc:59] 16811008, 1\n",
      "2023-06-04 11:36:54.794218: E tensorflow/core/common_runtime/gpu/gpu_cudamallocasync_allocator.cc:59] 17731872, 1\n"
     ]
    }
   ],
   "source": [
    "eval = model.evaluate(X_test, y_test)"
   ]
  },
  {
   "cell_type": "code",
   "execution_count": 8,
   "metadata": {},
   "outputs": [],
   "source": [
    "encoder = OneHotEncoder()\n",
    "Y = np.load(\"../SpeechER/feature_labels.npy\")\n",
    "Y = encoder.fit_transform(np.array(Y).reshape(-1,1)).toarray()"
   ]
  },
  {
   "cell_type": "code",
   "execution_count": 9,
   "metadata": {},
   "outputs": [
    {
     "name": "stdout",
     "output_type": "stream",
     "text": [
      "286/286 [==============================] - 1s 1ms/step\n"
     ]
    },
    {
     "data": {
      "text/html": [
       "<div>\n",
       "<style scoped>\n",
       "    .dataframe tbody tr th:only-of-type {\n",
       "        vertical-align: middle;\n",
       "    }\n",
       "\n",
       "    .dataframe tbody tr th {\n",
       "        vertical-align: top;\n",
       "    }\n",
       "\n",
       "    .dataframe thead th {\n",
       "        text-align: right;\n",
       "    }\n",
       "</style>\n",
       "<table border=\"1\" class=\"dataframe\">\n",
       "  <thead>\n",
       "    <tr style=\"text-align: right;\">\n",
       "      <th></th>\n",
       "      <th>Predicted Labels</th>\n",
       "      <th>Actual Labels</th>\n",
       "    </tr>\n",
       "  </thead>\n",
       "  <tbody>\n",
       "    <tr>\n",
       "      <th>0</th>\n",
       "      <td>disgust</td>\n",
       "      <td>disgust</td>\n",
       "    </tr>\n",
       "    <tr>\n",
       "      <th>1</th>\n",
       "      <td>sad</td>\n",
       "      <td>sad</td>\n",
       "    </tr>\n",
       "    <tr>\n",
       "      <th>2</th>\n",
       "      <td>neutral</td>\n",
       "      <td>happy</td>\n",
       "    </tr>\n",
       "    <tr>\n",
       "      <th>3</th>\n",
       "      <td>happy</td>\n",
       "      <td>disgust</td>\n",
       "    </tr>\n",
       "    <tr>\n",
       "      <th>4</th>\n",
       "      <td>happy</td>\n",
       "      <td>happy</td>\n",
       "    </tr>\n",
       "    <tr>\n",
       "      <th>5</th>\n",
       "      <td>calm</td>\n",
       "      <td>calm</td>\n",
       "    </tr>\n",
       "    <tr>\n",
       "      <th>6</th>\n",
       "      <td>fear</td>\n",
       "      <td>happy</td>\n",
       "    </tr>\n",
       "    <tr>\n",
       "      <th>7</th>\n",
       "      <td>disgust</td>\n",
       "      <td>neutral</td>\n",
       "    </tr>\n",
       "    <tr>\n",
       "      <th>8</th>\n",
       "      <td>surprise</td>\n",
       "      <td>surprise</td>\n",
       "    </tr>\n",
       "    <tr>\n",
       "      <th>9</th>\n",
       "      <td>sad</td>\n",
       "      <td>sad</td>\n",
       "    </tr>\n",
       "  </tbody>\n",
       "</table>\n",
       "</div>"
      ],
      "text/plain": [
       "  Predicted Labels Actual Labels\n",
       "0          disgust       disgust\n",
       "1              sad           sad\n",
       "2          neutral         happy\n",
       "3            happy       disgust\n",
       "4            happy         happy\n",
       "5             calm          calm\n",
       "6             fear         happy\n",
       "7          disgust       neutral\n",
       "8         surprise      surprise\n",
       "9              sad           sad"
      ]
     },
     "execution_count": 9,
     "metadata": {},
     "output_type": "execute_result"
    }
   ],
   "source": [
    "pred_test = model.predict(X_test)\n",
    "y_pred = encoder.inverse_transform(pred_test)\n",
    "y_test = encoder.inverse_transform(y_test)\n",
    "\n",
    "\n",
    "df = pd.DataFrame(columns=['Predicted Labels', 'Actual Labels'])\n",
    "df['Predicted Labels'] = y_pred.flatten()\n",
    "df['Actual Labels'] = y_test.flatten()\n",
    "\n",
    "df.head(10)"
   ]
  },
  {
   "cell_type": "code",
   "execution_count": 11,
   "metadata": {},
   "outputs": [
    {
     "data": {
      "image/png": "[encoded data removed]",
      "text/plain": [
       "<Figure size 2000x600 with 2 Axes>"
      ]
     },
     "metadata": {},
     "output_type": "display_data"
    }
   ],
   "source": [
    "epochs = [i for i in range(len(history.history[\"loss\"]))]\n",
    "fig , ax = plt.subplots(1,2)\n",
    "train_acc = history.history['accuracy']\n",
    "train_loss = history.history['loss']\n",
    "test_acc = history.history['val_accuracy']\n",
    "test_loss = history.history['val_loss']\n",
    "\n",
    "fig.set_size_inches(20,6)\n",
    "fig.suptitle(f\"Model 4 - CNN - Accuracy: %{round(eval[1]*100,2)}\")\n",
    "ax[0].plot(epochs , train_loss , label = 'Training Loss')\n",
    "ax[0].plot(epochs , test_loss , label = 'Validation Loss')\n",
    "ax[0].set_title('Training & Validation Loss')\n",
    "ax[0].legend()\n",
    "ax[0].set_xlabel(\"Epochs\")\n",
    "\n",
    "ax[1].plot(epochs , train_acc , label = 'Training Accuracy')\n",
    "ax[1].plot(epochs , test_acc , label = 'Validation Accuracy')\n",
    "ax[1].set_title('Training & Validation Accuracy')\n",
    "ax[1].legend()\n",
    "ax[1].set_xlabel(\"Epochs\")\n",
    "plt.savefig(\"../SpeechER/figs/model4.png\")"
   ]
  },
  {
   "cell_type": "code",
   "execution_count": 12,
   "metadata": {},
   "outputs": [
    {
     "data": {
      "image/png": "[encoded data removed]",
      "text/plain": [
       "<Figure size 1200x1000 with 2 Axes>"
      ]
     },
     "metadata": {},
     "output_type": "display_data"
    }
   ],
   "source": [
    "cm = confusion_matrix(y_test, y_pred)\n",
    "plt.figure(figsize = (12, 10))\n",
    "cm = pd.DataFrame(cm , index = [i for i in encoder.categories_] , columns = [i for i in encoder.categories_])\n",
    "sns.heatmap(cm, linecolor='white', cmap='Blues', linewidth=1, annot=True, fmt='')\n",
    "plt.title('Confusion Matrix', size=20)\n",
    "plt.xlabel('Predicted Labels', size=14)\n",
    "plt.ylabel('Actual Labels', size=14)\n",
    "plt.show()"
   ]
  },
  {
   "cell_type": "code",
   "execution_count": 13,
   "metadata": {},
   "outputs": [
    {
     "name": "stdout",
     "output_type": "stream",
     "text": [
      "              precision    recall  f1-score   support\n",
      "\n",
      "       angry       0.72      0.76      0.74      1431\n",
      "        calm       0.56      0.83      0.67       155\n",
      "     disgust       0.51      0.58      0.54      1399\n",
      "        fear       0.64      0.50      0.56      1453\n",
      "       happy       0.58      0.55      0.56      1433\n",
      "     neutral       0.62      0.55      0.58      1260\n",
      "         sad       0.61      0.70      0.65      1483\n",
      "    surprise       0.88      0.85      0.86       508\n",
      "\n",
      "    accuracy                           0.63      9122\n",
      "   macro avg       0.64      0.66      0.65      9122\n",
      "weighted avg       0.63      0.63      0.62      9122\n",
      "\n"
     ]
    }
   ],
   "source": [
    "print(classification_report(y_test, y_pred))"
   ]
  }
 ],
 "metadata": {
  "kernelspec": {
   "display_name": "Python 3",
   "language": "python",
   "name": "python3"
  },
  "language_info": {
   "codemirror_mode": {
    "name": "ipython",
    "version": 3
   },
   "file_extension": ".py",
   "mimetype": "text/x-python",
   "name": "python",
   "nbconvert_exporter": "python",
   "pygments_lexer": "ipython3",
   "version": "3.10.6"
  },
  "orig_nbformat": 4
 },
 "nbformat": 4,
 "nbformat_minor": 2
}
